{
 "cells": [
  {
   "cell_type": "markdown",
   "metadata": {},
   "source": [
    "# PV Diagnosis\n",
    "\n",
    "In case of large-scale renewable energy plants, production output is regularly reviewed to ensure ROI. This is different for small plants. By comparing predicted production based on past meteorological data with actual production of a PV power plant, we estimate plant's condition and predict next required maintenance. The analysis detects performance losses and, therby, enhances economic profits. This challenge was part of the Energy Hackdays 2019 (https://hack.opendata.ch/project/284).\n",
    "\n",
    "\n",
    "## Model\n",
    "\n",
    "$q_{t,p} = \\alpha_0 + \\alpha_1 \\times \\hat{q}_{t,p}(\\omega_{t-1}) + \\epsilon_{t,p}$,\n",
    "where $q_{t,p}$ is actual production, $\\hat{q}_{t,p}$ estimated potential production based on past weather parameters $\\omega_{t-1}$. \n",
    "\n",
    "## Approach\n",
    "1. Estimate potential production based on past weather parameters $\\hat{q}_{t,p}(\\omega_{t-1})$\n",
    "2. Compare this estimation with actual production $q_{t,p}$\n"
   ]
  },
  {
   "cell_type": "code",
   "execution_count": 1,
   "metadata": {},
   "outputs": [],
   "source": [
    "import pandas as pd\n",
    "import matplotlib.pyplot as plt\n",
    "import statsmodels.api as sm\n",
    "import seaborn as sns\n",
    "import ppscore as pps\n",
    "import sys,os"
   ]
  },
  {
   "cell_type": "code",
   "execution_count": 2,
   "metadata": {},
   "outputs": [],
   "source": [
    "os.chdir(\"..\")\n",
    "sys.path.append(os.getcwd())\n",
    "from preprocessor.paths import (PATH_TO_PLANT_A,\n",
    "                                 PATH_TO_PLANT_B,\n",
    "                                 PATH_TO_PLANT_C,\n",
    "                                 PATH_TO_WEATHER)\n",
    "from preprocessor.preprocessor import Preprocessor"
   ]
  },
  {
   "cell_type": "code",
   "execution_count": 3,
   "metadata": {},
   "outputs": [
    {
     "ename": "TypeError",
     "evalue": "_set_datetime_index() missing 1 required positional argument: 'local_time'",
     "output_type": "error",
     "traceback": [
      "\u001b[1;31m---------------------------------------------------------------------------\u001b[0m",
      "\u001b[1;31mTypeError\u001b[0m                                 Traceback (most recent call last)",
      "\u001b[1;32m<ipython-input-3-dddc42c38b5b>\u001b[0m in \u001b[0;36m<module>\u001b[1;34m\u001b[0m\n\u001b[1;32m----> 1\u001b[1;33m \u001b[0mdata_plant_a\u001b[0m \u001b[1;33m=\u001b[0m \u001b[0mPreprocessor\u001b[0m\u001b[1;33m(\u001b[0m\u001b[0mPATH_TO_PLANT_A\u001b[0m\u001b[1;33m,\u001b[0m \u001b[1;34m\"timestamp\"\u001b[0m\u001b[1;33m)\u001b[0m\u001b[1;33m.\u001b[0m\u001b[0mdf_indexed_utc\u001b[0m\u001b[1;33m\u001b[0m\u001b[1;33m\u001b[0m\u001b[0m\n\u001b[0m\u001b[0;32m      2\u001b[0m \u001b[0mdata_plant_c\u001b[0m \u001b[1;33m=\u001b[0m \u001b[0mPreprocessor\u001b[0m\u001b[1;33m(\u001b[0m\u001b[0mPATH_TO_PLANT_C\u001b[0m\u001b[1;33m,\u001b[0m \u001b[1;34m\"timestamp\"\u001b[0m\u001b[1;33m)\u001b[0m\u001b[1;33m.\u001b[0m\u001b[0mdf_indexed_utc\u001b[0m\u001b[1;33m\u001b[0m\u001b[1;33m\u001b[0m\u001b[0m\n\u001b[0;32m      3\u001b[0m \u001b[0mdata_weather\u001b[0m \u001b[1;33m=\u001b[0m \u001b[0mPreprocessor\u001b[0m\u001b[1;33m(\u001b[0m\u001b[0mPATH_TO_WEATHER\u001b[0m\u001b[1;33m,\u001b[0m \u001b[1;34m\"local_time\"\u001b[0m\u001b[1;33m)\u001b[0m\u001b[1;33m.\u001b[0m\u001b[0mdf_indexed_utc\u001b[0m\u001b[1;33m\u001b[0m\u001b[1;33m\u001b[0m\u001b[0m\n",
      "\u001b[1;32m~\\OneDrive - Hochschule Luzern\\studies\\03 MSc Data Science\\Master FS20\\Domain Experience\\W.MSCIDS_DE_DAE01.F2001\\pv_diagnosis\\pv_diagnosis\\preprocessor\\preprocessor.py\u001b[0m in \u001b[0;36m__init__\u001b[1;34m(self, path_to_weather, local_time_column)\u001b[0m\n\u001b[0;32m     11\u001b[0m         df_formatted_datetime = self._format_datetime(df_formatted_columns,\n\u001b[0;32m     12\u001b[0m                                                       local_time_column)\n\u001b[1;32m---> 13\u001b[1;33m         \u001b[0mself\u001b[0m\u001b[1;33m.\u001b[0m\u001b[0mdf_indexed_ch\u001b[0m \u001b[1;33m=\u001b[0m \u001b[0mself\u001b[0m\u001b[1;33m.\u001b[0m\u001b[0m_set_datetime_index\u001b[0m\u001b[1;33m(\u001b[0m\u001b[0mdf_formatted_datetime\u001b[0m\u001b[1;33m)\u001b[0m\u001b[1;33m\u001b[0m\u001b[1;33m\u001b[0m\u001b[0m\n\u001b[0m\u001b[0;32m     14\u001b[0m         \u001b[0mself\u001b[0m\u001b[1;33m.\u001b[0m\u001b[0mdf_indexed_utc\u001b[0m \u001b[1;33m=\u001b[0m \u001b[0mself\u001b[0m\u001b[1;33m.\u001b[0m\u001b[0m_set_datetime_index\u001b[0m\u001b[1;33m(\u001b[0m\u001b[0mdf_formatted_datetime\u001b[0m\u001b[1;33m)\u001b[0m\u001b[1;33m\u001b[0m\u001b[1;33m\u001b[0m\u001b[0m\n\u001b[0;32m     15\u001b[0m         \u001b[0mdf_formatted_datetime\u001b[0m \u001b[1;33m=\u001b[0m \u001b[0mself\u001b[0m\u001b[1;33m.\u001b[0m\u001b[0m_format_datetime\u001b[0m\u001b[1;33m(\u001b[0m\u001b[0mdf_formatted_columns\u001b[0m\u001b[1;33m)\u001b[0m\u001b[1;33m\u001b[0m\u001b[1;33m\u001b[0m\u001b[0m\n",
      "\u001b[1;31mTypeError\u001b[0m: _set_datetime_index() missing 1 required positional argument: 'local_time'"
     ]
    }
   ],
   "source": [
    "data_plant_a = Preprocessor(PATH_TO_PLANT_A, \"timestamp\").df_indexed_utc\n",
    "data_plant_a = Preprocessor(PATH_TO_PLANT_A, \"timestamp\").df_indexed_utc\n",
    "data_plant_c = Preprocessor(PATH_TO_PLANT_C, \"timestamp\").df_indexed_utc\n",
    "data_weather = Preprocessor(PATH_TO_WEATHER, \"local_time\").df_indexed_utc"
   ]
  },
  {
   "cell_type": "markdown",
   "metadata": {},
   "source": [
    "## Weather (Radiation) Prediction"
   ]
  },
  {
   "cell_type": "markdown",
   "metadata": {},
   "source": [
    "### Which factors contribute most to PV production?"
   ]
  },
  {
   "cell_type": "code",
   "execution_count": null,
   "metadata": {},
   "outputs": [],
   "source": [
    "data_weather = WeatherPreprocessor(PATH_TO_WEATHER).df_indexed_utc"
   ]
  },
  {
   "cell_type": "code",
   "execution_count": null,
   "metadata": {},
   "outputs": [],
   "source": [
    "data = pd.merge(left=data_plant_a, right=data_weather,\n",
    "                left_index=True, right_index=True)\n",
    "data.columns"
   ]
  },
  {
   "cell_type": "code",
   "execution_count": null,
   "metadata": {},
   "outputs": [],
   "source": [
    "def heatmap(df):\n",
    "    fig, ax = plt.subplots()\n",
    "    heatmap = sns.heatmap(df, vmin=0, vmax=1, cmap=\"Blues\", \n",
    "                          linewidths=0.5, annot=True, ax=ax)\n",
    "    heatmap.set_title('PPS matrix')\n",
    "    heatmap.set_xlabel('feature')\n",
    "    heatmap.set_ylabel('target')\n",
    "    return heatmap"
   ]
  },
  {
   "cell_type": "code",
   "execution_count": null,
   "metadata": {},
   "outputs": [],
   "source": [
    "def corr_heatmap(df):\n",
    "    ax = sns.heatmap(df, vmin=-1, vmax=1, cmap=\"BrBG\", linewidths=0.5, annot=True)\n",
    "    ax.set_title('Correlation matrix')\n",
    "    return ax"
   ]
  },
  {
   "cell_type": "code",
   "execution_count": null,
   "metadata": {},
   "outputs": [],
   "source": [
    "sns.set()\n",
    "heatmap(pps.matrix(data))"
   ]
  },
  {
   "cell_type": "code",
   "execution_count": null,
   "metadata": {},
   "outputs": [],
   "source": [
    "corr_heatmap(data.corr())"
   ]
  },
  {
   "cell_type": "code",
   "execution_count": null,
   "metadata": {},
   "outputs": [],
   "source": [
    "sns.scatterplot(data=data, x=\"generation_kw\", y=\"radiation_surface\", alpha=0.1)"
   ]
  },
  {
   "cell_type": "code",
   "execution_count": null,
   "metadata": {
    "pycharm": {
     "name": "#%%\n"
    }
   },
   "outputs": [],
   "source": [
    "sns.scatterplot(data=data, x=\"generation_kw\", y=\"radiation_toa\", alpha=0.1)"
   ]
  },
  {
   "cell_type": "markdown",
   "metadata": {},
   "source": [
    "### Predict radiation in top of athmosphere based on past weather factors"
   ]
  },
  {
   "cell_type": "markdown",
   "metadata": {
    "pycharm": {
     "name": "#%% md\n"
    }
   },
   "source": [
    "#### Linear Regression"
   ]
  },
  {
   "cell_type": "code",
   "execution_count": null,
   "metadata": {},
   "outputs": [],
   "source": [
    "data[\"radiation_toa\"].plot()"
   ]
  },
  {
   "cell_type": "code",
   "execution_count": null,
   "metadata": {},
   "outputs": [],
   "source": [
    "for col in data.columns:\n",
    "    print(col)\n",
    "    sns.distplot(data[col])\n",
    "    plt.show()"
   ]
  },
  {
   "cell_type": "code",
   "execution_count": null,
   "metadata": {},
   "outputs": [],
   "source": [
    "data.columns"
   ]
  },
  {
   "cell_type": "code",
   "execution_count": null,
   "metadata": {},
   "outputs": [],
   "source": [
    "# separate our my predictor variables (X) from my outcome variable y\n",
    "predictors = ['temperature', 'precipitation', 'snowfall', 'snow_mass', 'air_density', \n",
    "              'radiation_surface', 'cloud_cover']\n",
    "X = data[predictors]\n",
    "y = data['radiation_toa']\n",
    "\n",
    "# Add a constant to the predictor variable set to represent the Bo intercept\n",
    "X = sm.add_constant(X)\n",
    "X"
   ]
  },
  {
   "cell_type": "code",
   "execution_count": null,
   "metadata": {},
   "outputs": [],
   "source": [
    "X[X.isna().sum(axis=1)>0]"
   ]
  },
  {
   "cell_type": "code",
   "execution_count": null,
   "metadata": {},
   "outputs": [],
   "source": [
    "# (1) select a significance value\n",
    "alpha = 0.05\n",
    "\n",
    "# (2) Fit the model\n",
    "model = sm.OLS(y, X).fit()\n",
    "\n",
    "# (3) evaluate the coefficients' p-values\n",
    "model.summary()"
   ]
  }
 ],
 "metadata": {
  "kernelspec": {
   "display_name": "Python 3",
   "language": "python",
   "name": "python3"
  },
  "language_info": {
   "codemirror_mode": {
    "name": "ipython",
    "version": 3
   },
   "file_extension": ".py",
   "mimetype": "text/x-python",
   "name": "python",
   "nbconvert_exporter": "python",
   "pygments_lexer": "ipython3",
   "version": "3.7.6"
  }
 },
 "nbformat": 4,
 "nbformat_minor": 1
}
