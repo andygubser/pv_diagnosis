{
 "cells": [
  {
   "cell_type": "markdown",
   "metadata": {},
   "source": [
    "# PV Diagnosis\n",
    "\n",
    "Goal: In case of large-scale renewable energy plants, production output is regularly reviewed to ensure ROI. This is different for small plants. By comparing predicted production based on past meteorological data with actual production of a PV power plant, we estimate plant's condition and predict next required maintenance. The analysis detects performance losses and, therby, enhances economic profits. This task was part of the Energy Hackdays 2019 (https://hack.opendata.ch/project/284).\n",
    "\n",
    "\n",
    "\n",
    "Model: estimate \\beta1, hypothesis: \\beta1 is constant\n",
    "# multiple linear regression\n",
    "# actual_production_{time, plant} = \\beta0 + \\beta1_{plant}*weather_potential_{time} + ...\n",
    "#       (A/B/C)                                 (estimate)        (weather)\n",
    "\n",
    "\n"
   ]
  },
  {
   "cell_type": "code",
   "execution_count": 1,
   "metadata": {},
   "outputs": [],
   "source": [
    "import pandas as pd\n",
    "import matplotlib.pyplot as plt\n",
    "import seaborn as sns\n",
    "import sys,os\n",
    "sys.path.append(os.getcwd())\n",
    "os.chdir(\"..\")\n",
    "from preprocessors.paths import (PATH_TO_PLANT_A,\n",
    "                                 PATH_TO_PLANT_B,\n",
    "                                 PATH_TO_PLANT_C,\n",
    "                                 PATH_TO_WEATHER)\n",
    "from preprocessors.plant_preprocessor import PlantPreprocessor\n",
    "from preprocessors.weather_preprocessor import WeatherPreprocessor"
   ]
  },
  {
   "cell_type": "code",
   "execution_count": 2,
   "metadata": {},
   "outputs": [],
   "source": [
    "data_plant_a = PlantPreprocessor(PATH_TO_PLANT_A).df_indexed_utc\n",
    "data_plant_b = PlantPreprocessor(PATH_TO_PLANT_B).df_indexed_utc\n",
    "data_plant_c = PlantPreprocessor(PATH_TO_PLANT_C).df_indexed_utc\n",
    "data_weather = WeatherPreprocessor(PATH_TO_WEATHER).df_indexed_utc"
   ]
  },
  {
   "cell_type": "code",
   "execution_count": null,
   "metadata": {},
   "outputs": [],
   "source": []
  },
  {
   "cell_type": "code",
   "execution_count": null,
   "metadata": {},
   "outputs": [],
   "source": []
  }
 ],
 "metadata": {
  "kernelspec": {
   "display_name": "Python 3",
   "language": "python",
   "name": "python3"
  },
  "language_info": {
   "codemirror_mode": {
    "name": "ipython",
    "version": 3
   },
   "file_extension": ".py",
   "mimetype": "text/x-python",
   "name": "python",
   "nbconvert_exporter": "python",
   "pygments_lexer": "ipython3",
   "version": "3.7.6"
  }
 },
 "nbformat": 4,
 "nbformat_minor": 1
}
