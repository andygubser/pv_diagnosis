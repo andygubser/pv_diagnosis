{
 "cells": [
  {
   "cell_type": "code",
   "execution_count": 1,
   "metadata": {
    "cell_id": "f5770adc-b39d-4195-a959-ff8540a1b5b0"
   },
   "outputs": [
    {
     "name": "stdout",
     "output_type": "stream",
     "text": [
      "Python 3.7.3\r\n"
     ]
    }
   ],
   "source": [
    "!python --version"
   ]
  },
  {
   "cell_type": "code",
   "execution_count": 2,
   "metadata": {
    "cell_id": "6a9f3678-4554-4e53-a2ae-18a1cbe2bf2e",
    "tags": []
   },
   "outputs": [
    {
     "name": "stdout",
     "output_type": "stream",
     "text": [
      "Collecting statsmodels\n",
      "  Downloading statsmodels-0.11.1-cp37-cp37m-manylinux1_x86_64.whl (8.7 MB)\n",
      "\u001b[K     |████████████████████████████████| 8.7 MB 3.4 MB/s eta 0:00:01\n",
      "\u001b[?25hRequirement already satisfied: pandas>=0.21 in /opt/venv/lib/python3.7/site-packages (from statsmodels) (0.25.0)\n",
      "Requirement already satisfied: scipy>=1.0 in /opt/venv/lib/python3.7/site-packages (from statsmodels) (1.4.1)\n",
      "Collecting patsy>=0.5\n",
      "  Downloading patsy-0.5.1-py2.py3-none-any.whl (231 kB)\n",
      "\u001b[K     |████████████████████████████████| 231 kB 37.1 MB/s eta 0:00:01\n",
      "\u001b[?25hRequirement already satisfied: numpy>=1.14 in /opt/venv/lib/python3.7/site-packages (from statsmodels) (1.18.4)\n",
      "Requirement already satisfied: pytz>=2017.2 in /opt/venv/lib/python3.7/site-packages (from pandas>=0.21->statsmodels) (2020.1)\n",
      "Requirement already satisfied: python-dateutil>=2.6.1 in /opt/venv/lib/python3.7/site-packages (from pandas>=0.21->statsmodels) (2.8.1)\n",
      "Requirement already satisfied: six in /opt/venv/lib/python3.7/site-packages (from patsy>=0.5->statsmodels) (1.14.0)\n",
      "Installing collected packages: patsy, statsmodels\n",
      "Successfully installed patsy-0.5.1 statsmodels-0.11.1\n"
     ]
    }
   ],
   "source": [
    "!pip install statsmodels"
   ]
  },
  {
   "cell_type": "code",
   "execution_count": 3,
   "metadata": {
    "cell_id": "ea3944c7-9d2a-4f85-a76f-f713ddaafdfd"
   },
   "outputs": [],
   "source": [
    "import pandas as pd\n",
    "import numpy as np\n",
    "import matplotlib\n",
    "import matplotlib.pyplot as plt\n",
    "import sklearn\n",
    "from sklearn.model_selection import train_test_split\n",
    "from sklearn.linear_model import LinearRegression\n",
    "import statsmodels\n",
    "import statsmodels.api as sm"
   ]
  },
  {
   "cell_type": "code",
   "execution_count": 4,
   "metadata": {
    "cell_id": "9502f395-0ac1-4666-a18b-e15dfd160f9e",
    "tags": []
   },
   "outputs": [
    {
     "name": "stdout",
     "output_type": "stream",
     "text": [
      "Pandas==0.25.0\n",
      "Numpy==1.18.4\n",
      "matplotlib==3.2.1\n",
      "sklearn==1.18.4\n",
      "statsmodels==1.18.4\n"
     ]
    }
   ],
   "source": [
    "print(\"Pandas==\",pd.__version__, sep='')\n",
    "print(\"Numpy==\", np.__version__, sep='')\n",
    "print(\"matplotlib==\", matplotlib.__version__, sep='')\n",
    "print(\"sklearn==\", np.__version__, sep='')\n",
    "print(\"statsmodels==\", np.__version__, sep='')"
   ]
  },
  {
   "cell_type": "markdown",
   "metadata": {
    "cell_id": "c6af023e-06f0-46fd-9b73-b201a79250da",
    "tags": []
   },
   "source": [
    "## Read Data\n",
    "Da es noch ein paar Schwierigkeiten mit dem Import der preprocessor files gab, werden die jeweiligen Funktionen in \n",
    "diesem Notebook definiert und ausgeführt."
   ]
  },
  {
   "cell_type": "code",
   "execution_count": 5,
   "metadata": {
    "cell_id": "95d3f321-1db2-4054-8d28-e4a8ac5f26ba",
    "tags": []
   },
   "outputs": [],
   "source": [
    "# read data power plants\n",
    "data_power_plant_a = pd.read_csv(\"../data/data_power_plants/A.csv\")\n",
    "data_power_plant_b = pd.read_csv(\"../data/data_power_plants/B.csv\")\n",
    "data_power_plant_c = pd.read_csv(\"../data/data_power_plants/C.csv\")\n",
    "data_weather = pd.read_csv(\"../data/data_weather/weather_aargau_2019.csv\")"
   ]
  },
  {
   "cell_type": "code",
   "execution_count": 6,
   "metadata": {
    "cell_id": "6c4081c9-091c-4843-a300-4d1d1d11f058",
    "tags": []
   },
   "outputs": [],
   "source": [
    "def _format_columns(df):\n",
    "    columns_lower = df.columns.str.lower()\n",
    "    columns_clean = columns_lower.str.replace(\"-\", \"\")\n",
    "    df.columns = columns_clean\n",
    "    return df\n",
    "\n",
    "\n",
    "def _set_datetime_index(df):\n",
    "    \"\"\" create datetime index based on local_time,\n",
    "    and resampled mean per hour\"\"\"\n",
    "    df[\"timestamp\"] = pd.to_datetime(df[\"timestamp\"])\n",
    "    df.set_index(df[\"timestamp\"], inplace=True)\n",
    "    df = df.resample(\"h\").mean()\n",
    "    return df"
   ]
  },
  {
   "cell_type": "code",
   "execution_count": 7,
   "metadata": {
    "cell_id": "5eb97411-f3d5-4db0-bc80-68bc72255064",
    "tags": []
   },
   "outputs": [],
   "source": [
    "data_power_plant_a = _format_columns(data_power_plant_a)\n",
    "data_power_plant_b = _format_columns(data_power_plant_b)\n",
    "data_power_plant_c = _format_columns(data_power_plant_c)\n",
    "\n",
    "data_power_plant_a = _set_datetime_index(data_power_plant_a)\n",
    "data_power_plant_b = _set_datetime_index(data_power_plant_b)\n",
    "data_power_plant_c = _set_datetime_index(data_power_plant_c)"
   ]
  },
  {
   "cell_type": "markdown",
   "metadata": {
    "cell_id": "eaab8557-307a-461f-a074-890f90ea0919",
    "tags": []
   },
   "source": [
    "## Data Visualisation\n",
    "Eine einfache Visualisierung der Daten für einen ersten Überblick. \n",
    "--> Erkenntnisse: \n",
    "- Power Plant C hat weniger Daten (Spalten) als die anderen zwei\n",
    "- Alle Power Plans unterscheiden sich stark, was ihre Energieproduktion angeht"
   ]
  },
  {
   "cell_type": "code",
   "execution_count": 8,
   "metadata": {
    "cell_id": "f614f88c-38c7-49a3-801d-805228e527a1",
    "tags": []
   },
   "outputs": [
    {
     "data": {
      "application/vnd.deepnote.dataframe+json": {
       "numColumns": 4,
       "numElements": 8760,
       "variableDetails": {
        "columns": [
         {
          "name": "generation_kw",
          "stats": {
           "25%": 0,
           "50%": 0.10850000000000001,
           "75%": 10.023,
           "count": 8760,
           "max": 47.251000000000005,
           "mean": 7.127570547945205,
           "min": 0,
           "nan_count": 0,
           "std": 11.503459410667661
          }
         },
         {
          "name": "grid_feedin_kw",
          "stats": {
           "25%": 0,
           "50%": 0,
           "75%": 5.6945,
           "count": 8760,
           "max": 44.851,
           "mean": 5.430085730593608,
           "min": 0,
           "nan_count": 0,
           "std": 10.110049333421522
          }
         },
         {
          "name": "grid_supply_kw",
          "stats": {
           "25%": 0,
           "50%": 2.2,
           "75%": 3.464,
           "count": 8760,
           "max": 11.561,
           "mean": 2.3412708284409653,
           "min": 0,
           "nan_count": 0,
           "std": 2.3208714932638816
          }
         },
         {
          "name": "overall_consumption_calc_kw",
          "stats": {
           "25%": 2.5595,
           "50%": 3.462,
           "75%": 4.800000000000001,
           "count": 8760,
           "max": 14.55,
           "mean": 4.038755645792564,
           "min": 1.35,
           "nan_count": 0,
           "std": 1.9526991955378525
          }
         }
        ],
        "dataframe": {
         "2019-05-19 07:00:00": {
          "generation_kw": 2.308,
          "grid_feedin_kw": 0.045,
          "grid_supply_kw": 1.187,
          "overall_consumption_calc_kw": 3.4499999999999997
         },
         "2019-08-20 12:00:00": {
          "generation_kw": 10.450000000000001,
          "grid_feedin_kw": 3.765,
          "grid_supply_kw": 0.065,
          "overall_consumption_calc_kw": 6.75
         },
         "2019-08-29 01:00:00": {
          "generation_kw": 0,
          "grid_feedin_kw": 0,
          "grid_supply_kw": 3.314,
          "overall_consumption_calc_kw": 3.314
         },
         "2019-09-06 20:00:00": {
          "generation_kw": 0,
          "grid_feedin_kw": 0,
          "grid_supply_kw": 10.227,
          "overall_consumption_calc_kw": 10.227
         },
         "2019-09-07 14:00:00": {
          "generation_kw": 26.564,
          "grid_feedin_kw": 24.014000000000003,
          "grid_supply_kw": 0,
          "overall_consumption_calc_kw": 2.5500000000000003
         },
         "2019-09-10 08:00:00": {
          "generation_kw": 5.640000000000001,
          "grid_feedin_kw": 1.592,
          "grid_supply_kw": 0.002,
          "overall_consumption_calc_kw": 4.05
         },
         "2019-09-11 07:00:00": {
          "generation_kw": 0.849,
          "grid_feedin_kw": 0,
          "grid_supply_kw": 2.6079999999999997,
          "overall_consumption_calc_kw": 3.457
         },
         "2019-10-27 01:00:00": {
          "generation_kw": 0,
          "grid_feedin_kw": 0,
          "grid_supply_kw": 1.814,
          "overall_consumption_calc_kw": 1.814
         },
         "2019-11-16 18:00:00": {
          "generation_kw": 0,
          "grid_feedin_kw": 0,
          "grid_supply_kw": 9.462,
          "overall_consumption_calc_kw": 9.462
         },
         "2019-12-31 22:00:00": {
          "generation_kw": 0,
          "grid_feedin_kw": 0,
          "grid_supply_kw": 2.564,
          "overall_consumption_calc_kw": 2.564
         }
        },
        "frequencyInfo": [
         {
          "frequencyData": [
           {
            "x": 0,
            "y": 5832
           },
           {
            "x": 4.7251,
            "y": 680
           },
           {
            "x": 9.4502,
            "y": 463
           },
           {
            "x": 14.1753,
            "y": 353
           },
           {
            "x": 18.9004,
            "y": 289
           },
           {
            "x": 23.625500000000002,
            "y": 333
           },
           {
            "x": 28.3506,
            "y": 260
           },
           {
            "x": 33.075700000000005,
            "y": 282
           },
           {
            "x": 37.8008,
            "y": 215
           },
           {
            "x": 42.5259,
            "y": 53
           }
          ],
          "type": "hist"
         },
         {
          "frequencyData": [
           {
            "x": 0,
            "y": 6408
           },
           {
            "x": 4.4851,
            "y": 486
           },
           {
            "x": 8.9702,
            "y": 342
           },
           {
            "x": 13.455300000000001,
            "y": 302
           },
           {
            "x": 17.9404,
            "y": 270
           },
           {
            "x": 22.4255,
            "y": 300
           },
           {
            "x": 26.910600000000002,
            "y": 256
           },
           {
            "x": 31.3957,
            "y": 228
           },
           {
            "x": 35.8808,
            "y": 146
           },
           {
            "x": 40.3659,
            "y": 22
           }
          ],
          "type": "hist"
         },
         {
          "frequencyData": [
           {
            "x": 0,
            "y": 3204
           },
           {
            "x": 1.1561,
            "y": 1605
           },
           {
            "x": 2.3122,
            "y": 1839
           },
           {
            "x": 3.4682999999999997,
            "y": 988
           },
           {
            "x": 4.6244,
            "y": 373
           },
           {
            "x": 5.7805,
            "y": 203
           },
           {
            "x": 6.936599999999999,
            "y": 186
           },
           {
            "x": 8.092699999999999,
            "y": 279
           },
           {
            "x": 9.2488,
            "y": 79
           },
           {
            "x": 10.4049,
            "y": 4
           }
          ],
          "type": "hist"
         },
         {
          "frequencyData": [
           {
            "x": 1.35,
            "y": 2325
           },
           {
            "x": 2.67,
            "y": 2940
           },
           {
            "x": 3.99,
            "y": 1705
           },
           {
            "x": 5.3100000000000005,
            "y": 703
           },
           {
            "x": 6.630000000000001,
            "y": 460
           },
           {
            "x": 7.950000000000001,
            "y": 509
           },
           {
            "x": 9.27,
            "y": 103
           },
           {
            "x": 10.59,
            "y": 5
           },
           {
            "x": 11.91,
            "y": 3
           },
           {
            "x": 13.23,
            "y": 7
           }
          ],
          "type": "hist"
         }
        ]
       }
      },
      "text/html": [
       "<div>\n",
       "<style scoped>\n",
       "    .dataframe tbody tr th:only-of-type {\n",
       "        vertical-align: middle;\n",
       "    }\n",
       "\n",
       "    .dataframe tbody tr th {\n",
       "        vertical-align: top;\n",
       "    }\n",
       "\n",
       "    .dataframe thead th {\n",
       "        text-align: right;\n",
       "    }\n",
       "</style>\n",
       "<table border=\"1\" class=\"dataframe\">\n",
       "  <thead>\n",
       "    <tr style=\"text-align: right;\">\n",
       "      <th></th>\n",
       "      <th>generation_kw</th>\n",
       "      <th>grid_feedin_kw</th>\n",
       "      <th>grid_supply_kw</th>\n",
       "      <th>overall_consumption_calc_kw</th>\n",
       "    </tr>\n",
       "    <tr>\n",
       "      <th>timestamp</th>\n",
       "      <th></th>\n",
       "      <th></th>\n",
       "      <th></th>\n",
       "      <th></th>\n",
       "    </tr>\n",
       "  </thead>\n",
       "  <tbody>\n",
       "    <tr>\n",
       "      <th>2019-01-01 00:00:00</th>\n",
       "      <td>0.000</td>\n",
       "      <td>0.000</td>\n",
       "      <td>4.214</td>\n",
       "      <td>4.214</td>\n",
       "    </tr>\n",
       "    <tr>\n",
       "      <th>2019-01-01 01:00:00</th>\n",
       "      <td>0.000</td>\n",
       "      <td>0.000</td>\n",
       "      <td>4.212</td>\n",
       "      <td>4.212</td>\n",
       "    </tr>\n",
       "    <tr>\n",
       "      <th>2019-01-01 02:00:00</th>\n",
       "      <td>0.000</td>\n",
       "      <td>0.000</td>\n",
       "      <td>4.364</td>\n",
       "      <td>4.364</td>\n",
       "    </tr>\n",
       "    <tr>\n",
       "      <th>2019-01-01 03:00:00</th>\n",
       "      <td>0.000</td>\n",
       "      <td>0.000</td>\n",
       "      <td>4.214</td>\n",
       "      <td>4.214</td>\n",
       "    </tr>\n",
       "    <tr>\n",
       "      <th>2019-01-01 04:00:00</th>\n",
       "      <td>0.000</td>\n",
       "      <td>0.000</td>\n",
       "      <td>4.364</td>\n",
       "      <td>4.364</td>\n",
       "    </tr>\n",
       "    <tr>\n",
       "      <th>2019-01-01 05:00:00</th>\n",
       "      <td>0.000</td>\n",
       "      <td>0.000</td>\n",
       "      <td>4.214</td>\n",
       "      <td>4.214</td>\n",
       "    </tr>\n",
       "    <tr>\n",
       "      <th>2019-01-01 06:00:00</th>\n",
       "      <td>0.000</td>\n",
       "      <td>0.000</td>\n",
       "      <td>4.362</td>\n",
       "      <td>4.362</td>\n",
       "    </tr>\n",
       "    <tr>\n",
       "      <th>2019-01-01 07:00:00</th>\n",
       "      <td>0.000</td>\n",
       "      <td>0.000</td>\n",
       "      <td>4.216</td>\n",
       "      <td>4.216</td>\n",
       "    </tr>\n",
       "    <tr>\n",
       "      <th>2019-01-01 08:00:00</th>\n",
       "      <td>0.076</td>\n",
       "      <td>0.000</td>\n",
       "      <td>4.598</td>\n",
       "      <td>4.674</td>\n",
       "    </tr>\n",
       "    <tr>\n",
       "      <th>2019-01-01 09:00:00</th>\n",
       "      <td>1.381</td>\n",
       "      <td>0.000</td>\n",
       "      <td>3.269</td>\n",
       "      <td>4.650</td>\n",
       "    </tr>\n",
       "    <tr>\n",
       "      <th>2019-01-01 10:00:00</th>\n",
       "      <td>3.029</td>\n",
       "      <td>0.000</td>\n",
       "      <td>1.471</td>\n",
       "      <td>4.500</td>\n",
       "    </tr>\n",
       "    <tr>\n",
       "      <th>2019-01-01 11:00:00</th>\n",
       "      <td>3.581</td>\n",
       "      <td>0.000</td>\n",
       "      <td>0.919</td>\n",
       "      <td>4.500</td>\n",
       "    </tr>\n",
       "    <tr>\n",
       "      <th>2019-01-01 12:00:00</th>\n",
       "      <td>3.389</td>\n",
       "      <td>0.228</td>\n",
       "      <td>1.189</td>\n",
       "      <td>4.350</td>\n",
       "    </tr>\n",
       "    <tr>\n",
       "      <th>2019-01-01 13:00:00</th>\n",
       "      <td>3.103</td>\n",
       "      <td>0.000</td>\n",
       "      <td>1.397</td>\n",
       "      <td>4.500</td>\n",
       "    </tr>\n",
       "    <tr>\n",
       "      <th>2019-01-01 14:00:00</th>\n",
       "      <td>2.788</td>\n",
       "      <td>0.000</td>\n",
       "      <td>1.712</td>\n",
       "      <td>4.500</td>\n",
       "    </tr>\n",
       "    <tr>\n",
       "      <th>2019-01-01 15:00:00</th>\n",
       "      <td>0.468</td>\n",
       "      <td>0.000</td>\n",
       "      <td>4.035</td>\n",
       "      <td>4.503</td>\n",
       "    </tr>\n",
       "    <tr>\n",
       "      <th>2019-01-01 16:00:00</th>\n",
       "      <td>0.000</td>\n",
       "      <td>0.000</td>\n",
       "      <td>4.834</td>\n",
       "      <td>4.834</td>\n",
       "    </tr>\n",
       "    <tr>\n",
       "      <th>2019-01-01 17:00:00</th>\n",
       "      <td>0.000</td>\n",
       "      <td>0.000</td>\n",
       "      <td>4.978</td>\n",
       "      <td>4.978</td>\n",
       "    </tr>\n",
       "    <tr>\n",
       "      <th>2019-01-01 18:00:00</th>\n",
       "      <td>0.000</td>\n",
       "      <td>0.000</td>\n",
       "      <td>4.962</td>\n",
       "      <td>4.962</td>\n",
       "    </tr>\n",
       "    <tr>\n",
       "      <th>2019-01-01 19:00:00</th>\n",
       "      <td>0.000</td>\n",
       "      <td>0.000</td>\n",
       "      <td>4.816</td>\n",
       "      <td>4.816</td>\n",
       "    </tr>\n",
       "    <tr>\n",
       "      <th>2019-01-01 20:00:00</th>\n",
       "      <td>0.000</td>\n",
       "      <td>0.000</td>\n",
       "      <td>4.814</td>\n",
       "      <td>4.814</td>\n",
       "    </tr>\n",
       "    <tr>\n",
       "      <th>2019-01-01 21:00:00</th>\n",
       "      <td>0.000</td>\n",
       "      <td>0.000</td>\n",
       "      <td>4.814</td>\n",
       "      <td>4.814</td>\n",
       "    </tr>\n",
       "    <tr>\n",
       "      <th>2019-01-01 22:00:00</th>\n",
       "      <td>0.000</td>\n",
       "      <td>0.000</td>\n",
       "      <td>4.512</td>\n",
       "      <td>4.512</td>\n",
       "    </tr>\n",
       "    <tr>\n",
       "      <th>2019-01-01 23:00:00</th>\n",
       "      <td>0.000</td>\n",
       "      <td>0.000</td>\n",
       "      <td>4.214</td>\n",
       "      <td>4.214</td>\n",
       "    </tr>\n",
       "    <tr>\n",
       "      <th>2019-01-02 00:00:00</th>\n",
       "      <td>0.000</td>\n",
       "      <td>0.000</td>\n",
       "      <td>4.214</td>\n",
       "      <td>4.214</td>\n",
       "    </tr>\n",
       "    <tr>\n",
       "      <th>2019-01-02 01:00:00</th>\n",
       "      <td>0.000</td>\n",
       "      <td>0.000</td>\n",
       "      <td>4.364</td>\n",
       "      <td>4.364</td>\n",
       "    </tr>\n",
       "    <tr>\n",
       "      <th>2019-01-02 02:00:00</th>\n",
       "      <td>0.000</td>\n",
       "      <td>0.000</td>\n",
       "      <td>4.214</td>\n",
       "      <td>4.214</td>\n",
       "    </tr>\n",
       "    <tr>\n",
       "      <th>2019-01-02 03:00:00</th>\n",
       "      <td>0.000</td>\n",
       "      <td>0.000</td>\n",
       "      <td>4.214</td>\n",
       "      <td>4.214</td>\n",
       "    </tr>\n",
       "    <tr>\n",
       "      <th>2019-01-02 04:00:00</th>\n",
       "      <td>0.000</td>\n",
       "      <td>0.000</td>\n",
       "      <td>4.214</td>\n",
       "      <td>4.214</td>\n",
       "    </tr>\n",
       "    <tr>\n",
       "      <th>2019-01-02 05:00:00</th>\n",
       "      <td>0.000</td>\n",
       "      <td>0.000</td>\n",
       "      <td>4.364</td>\n",
       "      <td>4.364</td>\n",
       "    </tr>\n",
       "    <tr>\n",
       "      <th>...</th>\n",
       "      <td>...</td>\n",
       "      <td>...</td>\n",
       "      <td>...</td>\n",
       "      <td>...</td>\n",
       "    </tr>\n",
       "    <tr>\n",
       "      <th>2019-12-30 18:00:00</th>\n",
       "      <td>0.000</td>\n",
       "      <td>0.000</td>\n",
       "      <td>2.864</td>\n",
       "      <td>2.864</td>\n",
       "    </tr>\n",
       "    <tr>\n",
       "      <th>2019-12-30 19:00:00</th>\n",
       "      <td>0.000</td>\n",
       "      <td>0.000</td>\n",
       "      <td>2.864</td>\n",
       "      <td>2.864</td>\n",
       "    </tr>\n",
       "    <tr>\n",
       "      <th>2019-12-30 20:00:00</th>\n",
       "      <td>0.000</td>\n",
       "      <td>0.000</td>\n",
       "      <td>2.864</td>\n",
       "      <td>2.864</td>\n",
       "    </tr>\n",
       "    <tr>\n",
       "      <th>2019-12-30 21:00:00</th>\n",
       "      <td>0.000</td>\n",
       "      <td>0.000</td>\n",
       "      <td>2.714</td>\n",
       "      <td>2.714</td>\n",
       "    </tr>\n",
       "    <tr>\n",
       "      <th>2019-12-30 22:00:00</th>\n",
       "      <td>0.000</td>\n",
       "      <td>0.000</td>\n",
       "      <td>2.564</td>\n",
       "      <td>2.564</td>\n",
       "    </tr>\n",
       "    <tr>\n",
       "      <th>2019-12-30 23:00:00</th>\n",
       "      <td>0.000</td>\n",
       "      <td>0.000</td>\n",
       "      <td>2.114</td>\n",
       "      <td>2.114</td>\n",
       "    </tr>\n",
       "    <tr>\n",
       "      <th>2019-12-31 00:00:00</th>\n",
       "      <td>0.000</td>\n",
       "      <td>0.000</td>\n",
       "      <td>1.814</td>\n",
       "      <td>1.814</td>\n",
       "    </tr>\n",
       "    <tr>\n",
       "      <th>2019-12-31 01:00:00</th>\n",
       "      <td>0.000</td>\n",
       "      <td>0.000</td>\n",
       "      <td>1.812</td>\n",
       "      <td>1.812</td>\n",
       "    </tr>\n",
       "    <tr>\n",
       "      <th>2019-12-31 02:00:00</th>\n",
       "      <td>0.000</td>\n",
       "      <td>0.000</td>\n",
       "      <td>1.964</td>\n",
       "      <td>1.964</td>\n",
       "    </tr>\n",
       "    <tr>\n",
       "      <th>2019-12-31 03:00:00</th>\n",
       "      <td>0.000</td>\n",
       "      <td>0.000</td>\n",
       "      <td>1.814</td>\n",
       "      <td>1.814</td>\n",
       "    </tr>\n",
       "    <tr>\n",
       "      <th>2019-12-31 04:00:00</th>\n",
       "      <td>0.000</td>\n",
       "      <td>0.000</td>\n",
       "      <td>1.964</td>\n",
       "      <td>1.964</td>\n",
       "    </tr>\n",
       "    <tr>\n",
       "      <th>2019-12-31 05:00:00</th>\n",
       "      <td>0.000</td>\n",
       "      <td>0.000</td>\n",
       "      <td>2.114</td>\n",
       "      <td>2.114</td>\n",
       "    </tr>\n",
       "    <tr>\n",
       "      <th>2019-12-31 06:00:00</th>\n",
       "      <td>0.000</td>\n",
       "      <td>0.000</td>\n",
       "      <td>2.264</td>\n",
       "      <td>2.264</td>\n",
       "    </tr>\n",
       "    <tr>\n",
       "      <th>2019-12-31 07:00:00</th>\n",
       "      <td>0.000</td>\n",
       "      <td>0.000</td>\n",
       "      <td>2.264</td>\n",
       "      <td>2.264</td>\n",
       "    </tr>\n",
       "    <tr>\n",
       "      <th>2019-12-31 08:00:00</th>\n",
       "      <td>0.043</td>\n",
       "      <td>0.000</td>\n",
       "      <td>2.528</td>\n",
       "      <td>2.571</td>\n",
       "    </tr>\n",
       "    <tr>\n",
       "      <th>2019-12-31 09:00:00</th>\n",
       "      <td>1.360</td>\n",
       "      <td>0.050</td>\n",
       "      <td>1.243</td>\n",
       "      <td>2.553</td>\n",
       "    </tr>\n",
       "    <tr>\n",
       "      <th>2019-12-31 10:00:00</th>\n",
       "      <td>3.484</td>\n",
       "      <td>1.084</td>\n",
       "      <td>0.000</td>\n",
       "      <td>2.400</td>\n",
       "    </tr>\n",
       "    <tr>\n",
       "      <th>2019-12-31 11:00:00</th>\n",
       "      <td>5.785</td>\n",
       "      <td>3.385</td>\n",
       "      <td>0.000</td>\n",
       "      <td>2.400</td>\n",
       "    </tr>\n",
       "    <tr>\n",
       "      <th>2019-12-31 12:00:00</th>\n",
       "      <td>7.706</td>\n",
       "      <td>5.306</td>\n",
       "      <td>0.000</td>\n",
       "      <td>2.400</td>\n",
       "    </tr>\n",
       "    <tr>\n",
       "      <th>2019-12-31 13:00:00</th>\n",
       "      <td>6.932</td>\n",
       "      <td>4.532</td>\n",
       "      <td>0.000</td>\n",
       "      <td>2.400</td>\n",
       "    </tr>\n",
       "    <tr>\n",
       "      <th>2019-12-31 14:00:00</th>\n",
       "      <td>5.070</td>\n",
       "      <td>2.670</td>\n",
       "      <td>0.000</td>\n",
       "      <td>2.400</td>\n",
       "    </tr>\n",
       "    <tr>\n",
       "      <th>2019-12-31 15:00:00</th>\n",
       "      <td>2.266</td>\n",
       "      <td>0.232</td>\n",
       "      <td>0.516</td>\n",
       "      <td>2.550</td>\n",
       "    </tr>\n",
       "    <tr>\n",
       "      <th>2019-12-31 16:00:00</th>\n",
       "      <td>0.339</td>\n",
       "      <td>0.000</td>\n",
       "      <td>2.218</td>\n",
       "      <td>2.557</td>\n",
       "    </tr>\n",
       "    <tr>\n",
       "      <th>2019-12-31 17:00:00</th>\n",
       "      <td>0.000</td>\n",
       "      <td>0.000</td>\n",
       "      <td>2.876</td>\n",
       "      <td>2.876</td>\n",
       "    </tr>\n",
       "    <tr>\n",
       "      <th>2019-12-31 18:00:00</th>\n",
       "      <td>0.000</td>\n",
       "      <td>0.000</td>\n",
       "      <td>2.864</td>\n",
       "      <td>2.864</td>\n",
       "    </tr>\n",
       "    <tr>\n",
       "      <th>2019-12-31 19:00:00</th>\n",
       "      <td>0.000</td>\n",
       "      <td>0.000</td>\n",
       "      <td>2.864</td>\n",
       "      <td>2.864</td>\n",
       "    </tr>\n",
       "    <tr>\n",
       "      <th>2019-12-31 20:00:00</th>\n",
       "      <td>0.000</td>\n",
       "      <td>0.000</td>\n",
       "      <td>2.864</td>\n",
       "      <td>2.864</td>\n",
       "    </tr>\n",
       "    <tr>\n",
       "      <th>2019-12-31 21:00:00</th>\n",
       "      <td>0.000</td>\n",
       "      <td>0.000</td>\n",
       "      <td>2.864</td>\n",
       "      <td>2.864</td>\n",
       "    </tr>\n",
       "    <tr>\n",
       "      <th>2019-12-31 22:00:00</th>\n",
       "      <td>0.000</td>\n",
       "      <td>0.000</td>\n",
       "      <td>2.564</td>\n",
       "      <td>2.564</td>\n",
       "    </tr>\n",
       "    <tr>\n",
       "      <th>2019-12-31 23:00:00</th>\n",
       "      <td>0.000</td>\n",
       "      <td>0.000</td>\n",
       "      <td>2.114</td>\n",
       "      <td>2.114</td>\n",
       "    </tr>\n",
       "  </tbody>\n",
       "</table>\n",
       "<p>8760 rows × 4 columns</p>\n",
       "</div>"
      ],
      "text/plain": [
       "                     generation_kw  grid_feedin_kw  grid_supply_kw  \\\n",
       "timestamp                                                            \n",
       "2019-01-01 00:00:00            0.0             0.0           4.214   \n",
       "2019-01-01 01:00:00            0.0             0.0           4.212   \n",
       "2019-01-01 02:00:00            0.0             0.0           4.364   \n",
       "2019-01-01 03:00:00            0.0             0.0           4.214   \n",
       "2019-01-01 04:00:00            0.0             0.0           4.364   \n",
       "...                            ...             ...             ...   \n",
       "2019-12-31 19:00:00            0.0             0.0           2.864   \n",
       "2019-12-31 20:00:00            0.0             0.0           2.864   \n",
       "2019-12-31 21:00:00            0.0             0.0           2.864   \n",
       "2019-12-31 22:00:00            0.0             0.0           2.564   \n",
       "2019-12-31 23:00:00            0.0             0.0           2.114   \n",
       "\n",
       "                     overall_consumption_calc_kw  \n",
       "timestamp                                         \n",
       "2019-01-01 00:00:00                        4.214  \n",
       "2019-01-01 01:00:00                        4.212  \n",
       "2019-01-01 02:00:00                        4.364  \n",
       "2019-01-01 03:00:00                        4.214  \n",
       "2019-01-01 04:00:00                        4.364  \n",
       "...                                          ...  \n",
       "2019-12-31 19:00:00                        2.864  \n",
       "2019-12-31 20:00:00                        2.864  \n",
       "2019-12-31 21:00:00                        2.864  \n",
       "2019-12-31 22:00:00                        2.564  \n",
       "2019-12-31 23:00:00                        2.114  \n",
       "\n",
       "[8760 rows x 4 columns]"
      ]
     },
     "execution_count": 8,
     "metadata": {},
     "output_type": "execute_result"
    }
   ],
   "source": [
    "data_power_plant_a"
   ]
  },
  {
   "cell_type": "code",
   "execution_count": 9,
   "metadata": {
    "cell_id": "d367c964-5426-4527-8bb2-0237b527053c",
    "tags": []
   },
   "outputs": [
    {
     "data": {
      "application/vnd.deepnote.dataframe+json": {
       "numColumns": 4,
       "numElements": 8760,
       "variableDetails": {
        "columns": [
         {
          "name": "generation_kw",
          "stats": {
           "25%": 0,
           "50%": 0.525,
           "75%": 32.7,
           "count": 8760,
           "max": 149.92499999999998,
           "mean": 23.025582191780824,
           "min": 0,
           "nan_count": 0,
           "std": 36.90537929639097
          }
         },
         {
          "name": "grid_feedin_kw",
          "stats": {
           "25%": 0,
           "50%": 0,
           "75%": 13.275000000000002,
           "count": 8760,
           "max": 143.025,
           "mean": 15.199871575342465,
           "min": 0,
           "nan_count": 0,
           "std": 29.680087756411403
          }
         },
         {
          "name": "grid_supply_kw",
          "stats": {
           "25%": 0,
           "50%": 6,
           "75%": 8.25,
           "count": 8760,
           "max": 53.099999999999994,
           "mean": 7.288065965427267,
           "min": 0,
           "nan_count": 0,
           "std": 8.671723395888089
          }
         },
         {
          "name": "overall_consumption_calc_kw",
          "stats": {
           "25%": 6.075,
           "50%": 7.95,
           "75%": 21.075,
           "count": 8760,
           "max": 57.825,
           "mean": 15.113776581865622,
           "min": 5.0249999999999995,
           "nan_count": 0,
           "std": 13.036443147579904
          }
         }
        ],
        "dataframe": {
         "2019-05-19 07:00:00": {
          "generation_kw": 5.8500000000000005,
          "grid_feedin_kw": 0.45,
          "grid_supply_kw": 0.15,
          "overall_consumption_calc_kw": 5.550000000000001
         },
         "2019-08-20 12:00:00": {
          "generation_kw": 35.25,
          "grid_feedin_kw": 12.3,
          "grid_supply_kw": 0.3,
          "overall_consumption_calc_kw": 23.25
         },
         "2019-08-29 01:00:00": {
          "generation_kw": 0,
          "grid_feedin_kw": 0,
          "grid_supply_kw": 6.075,
          "overall_consumption_calc_kw": 6.075
         },
         "2019-09-06 20:00:00": {
          "generation_kw": 0,
          "grid_feedin_kw": 0,
          "grid_supply_kw": 6.9,
          "overall_consumption_calc_kw": 6.9
         },
         "2019-09-07 14:00:00": {
          "generation_kw": 109.05,
          "grid_feedin_kw": 103.575,
          "grid_supply_kw": 0,
          "overall_consumption_calc_kw": 5.475
         },
         "2019-09-10 08:00:00": {
          "generation_kw": 19.424999999999997,
          "grid_feedin_kw": 0,
          "grid_supply_kw": 19.875,
          "overall_consumption_calc_kw": 39.3
         },
         "2019-09-11 07:00:00": {
          "generation_kw": 2.25,
          "grid_feedin_kw": 0,
          "grid_supply_kw": 17.175,
          "overall_consumption_calc_kw": 19.425
         },
         "2019-10-27 01:00:00": {
          "generation_kw": 0,
          "grid_feedin_kw": 0,
          "grid_supply_kw": 5.7749999999999995,
          "overall_consumption_calc_kw": 5.7749999999999995
         },
         "2019-11-16 18:00:00": {
          "generation_kw": 0,
          "grid_feedin_kw": 0,
          "grid_supply_kw": 6.5249999999999995,
          "overall_consumption_calc_kw": 6.5249999999999995
         },
         "2019-12-31 22:00:00": {
          "generation_kw": 0,
          "grid_feedin_kw": 0,
          "grid_supply_kw": 6,
          "overall_consumption_calc_kw": 6
         }
        },
        "frequencyInfo": [
         {
          "frequencyData": [
           {
            "x": 0,
            "y": 5778
           },
           {
            "x": 14.992499999999998,
            "y": 701
           },
           {
            "x": 29.984999999999996,
            "y": 478
           },
           {
            "x": 44.97749999999999,
            "y": 357
           },
           {
            "x": 59.96999999999999,
            "y": 325
           },
           {
            "x": 74.96249999999999,
            "y": 292
           },
           {
            "x": 89.95499999999998,
            "y": 257
           },
           {
            "x": 104.94749999999999,
            "y": 285
           },
           {
            "x": 119.93999999999998,
            "y": 206
           },
           {
            "x": 134.93249999999998,
            "y": 81
           }
          ],
          "type": "hist"
         },
         {
          "frequencyData": [
           {
            "x": 0,
            "y": 6616
           },
           {
            "x": 14.3025,
            "y": 465
           },
           {
            "x": 28.605,
            "y": 335
           },
           {
            "x": 42.9075,
            "y": 298
           },
           {
            "x": 57.21,
            "y": 286
           },
           {
            "x": 71.5125,
            "y": 262
           },
           {
            "x": 85.815,
            "y": 225
           },
           {
            "x": 100.1175,
            "y": 163
           },
           {
            "x": 114.42,
            "y": 79
           },
           {
            "x": 128.7225,
            "y": 31
           }
          ],
          "type": "hist"
         },
         {
          "frequencyData": [
           {
            "x": 0,
            "y": 3249
           },
           {
            "x": 5.31,
            "y": 3793
           },
           {
            "x": 10.62,
            "y": 855
           },
           {
            "x": 15.93,
            "y": 197
           },
           {
            "x": 21.24,
            "y": 202
           },
           {
            "x": 26.549999999999997,
            "y": 148
           },
           {
            "x": 31.86,
            "y": 144
           },
           {
            "x": 37.169999999999995,
            "y": 102
           },
           {
            "x": 42.48,
            "y": 60
           },
           {
            "x": 47.79,
            "y": 10
           }
          ],
          "type": "hist"
         },
         {
          "frequencyData": [
           {
            "x": 5.0249999999999995,
            "y": 5374
           },
           {
            "x": 10.305,
            "y": 972
           },
           {
            "x": 15.585,
            "y": 205
           },
           {
            "x": 20.865,
            "y": 316
           },
           {
            "x": 26.145,
            "y": 216
           },
           {
            "x": 31.425,
            "y": 548
           },
           {
            "x": 36.705,
            "y": 597
           },
           {
            "x": 41.985,
            "y": 456
           },
           {
            "x": 47.265,
            "y": 73
           },
           {
            "x": 52.545,
            "y": 3
           }
          ],
          "type": "hist"
         }
        ]
       }
      },
      "text/html": [
       "<div>\n",
       "<style scoped>\n",
       "    .dataframe tbody tr th:only-of-type {\n",
       "        vertical-align: middle;\n",
       "    }\n",
       "\n",
       "    .dataframe tbody tr th {\n",
       "        vertical-align: top;\n",
       "    }\n",
       "\n",
       "    .dataframe thead th {\n",
       "        text-align: right;\n",
       "    }\n",
       "</style>\n",
       "<table border=\"1\" class=\"dataframe\">\n",
       "  <thead>\n",
       "    <tr style=\"text-align: right;\">\n",
       "      <th></th>\n",
       "      <th>generation_kw</th>\n",
       "      <th>grid_feedin_kw</th>\n",
       "      <th>grid_supply_kw</th>\n",
       "      <th>overall_consumption_calc_kw</th>\n",
       "    </tr>\n",
       "    <tr>\n",
       "      <th>timestamp</th>\n",
       "      <th></th>\n",
       "      <th></th>\n",
       "      <th></th>\n",
       "      <th></th>\n",
       "    </tr>\n",
       "  </thead>\n",
       "  <tbody>\n",
       "    <tr>\n",
       "      <th>2019-01-01 00:00:00</th>\n",
       "      <td>0.000</td>\n",
       "      <td>0.000</td>\n",
       "      <td>5.775</td>\n",
       "      <td>5.775</td>\n",
       "    </tr>\n",
       "    <tr>\n",
       "      <th>2019-01-01 01:00:00</th>\n",
       "      <td>0.000</td>\n",
       "      <td>0.000</td>\n",
       "      <td>5.550</td>\n",
       "      <td>5.550</td>\n",
       "    </tr>\n",
       "    <tr>\n",
       "      <th>2019-01-01 02:00:00</th>\n",
       "      <td>0.000</td>\n",
       "      <td>0.000</td>\n",
       "      <td>5.625</td>\n",
       "      <td>5.625</td>\n",
       "    </tr>\n",
       "    <tr>\n",
       "      <th>2019-01-01 03:00:00</th>\n",
       "      <td>0.000</td>\n",
       "      <td>0.000</td>\n",
       "      <td>5.550</td>\n",
       "      <td>5.550</td>\n",
       "    </tr>\n",
       "    <tr>\n",
       "      <th>2019-01-01 04:00:00</th>\n",
       "      <td>0.000</td>\n",
       "      <td>0.000</td>\n",
       "      <td>5.625</td>\n",
       "      <td>5.625</td>\n",
       "    </tr>\n",
       "    <tr>\n",
       "      <th>2019-01-01 05:00:00</th>\n",
       "      <td>0.000</td>\n",
       "      <td>0.000</td>\n",
       "      <td>5.700</td>\n",
       "      <td>5.700</td>\n",
       "    </tr>\n",
       "    <tr>\n",
       "      <th>2019-01-01 06:00:00</th>\n",
       "      <td>0.000</td>\n",
       "      <td>0.000</td>\n",
       "      <td>7.800</td>\n",
       "      <td>7.800</td>\n",
       "    </tr>\n",
       "    <tr>\n",
       "      <th>2019-01-01 07:00:00</th>\n",
       "      <td>0.000</td>\n",
       "      <td>0.000</td>\n",
       "      <td>7.950</td>\n",
       "      <td>7.950</td>\n",
       "    </tr>\n",
       "    <tr>\n",
       "      <th>2019-01-01 08:00:00</th>\n",
       "      <td>0.075</td>\n",
       "      <td>0.000</td>\n",
       "      <td>7.425</td>\n",
       "      <td>7.500</td>\n",
       "    </tr>\n",
       "    <tr>\n",
       "      <th>2019-01-01 09:00:00</th>\n",
       "      <td>4.725</td>\n",
       "      <td>0.375</td>\n",
       "      <td>3.450</td>\n",
       "      <td>7.800</td>\n",
       "    </tr>\n",
       "    <tr>\n",
       "      <th>2019-01-01 10:00:00</th>\n",
       "      <td>9.225</td>\n",
       "      <td>2.625</td>\n",
       "      <td>0.975</td>\n",
       "      <td>7.575</td>\n",
       "    </tr>\n",
       "    <tr>\n",
       "      <th>2019-01-01 11:00:00</th>\n",
       "      <td>22.950</td>\n",
       "      <td>15.150</td>\n",
       "      <td>0.000</td>\n",
       "      <td>7.800</td>\n",
       "    </tr>\n",
       "    <tr>\n",
       "      <th>2019-01-01 12:00:00</th>\n",
       "      <td>22.950</td>\n",
       "      <td>15.300</td>\n",
       "      <td>0.000</td>\n",
       "      <td>7.650</td>\n",
       "    </tr>\n",
       "    <tr>\n",
       "      <th>2019-01-01 13:00:00</th>\n",
       "      <td>11.700</td>\n",
       "      <td>5.100</td>\n",
       "      <td>0.825</td>\n",
       "      <td>7.425</td>\n",
       "    </tr>\n",
       "    <tr>\n",
       "      <th>2019-01-01 14:00:00</th>\n",
       "      <td>2.250</td>\n",
       "      <td>0.000</td>\n",
       "      <td>5.475</td>\n",
       "      <td>7.725</td>\n",
       "    </tr>\n",
       "    <tr>\n",
       "      <th>2019-01-01 15:00:00</th>\n",
       "      <td>0.450</td>\n",
       "      <td>0.000</td>\n",
       "      <td>7.200</td>\n",
       "      <td>7.650</td>\n",
       "    </tr>\n",
       "    <tr>\n",
       "      <th>2019-01-01 16:00:00</th>\n",
       "      <td>0.000</td>\n",
       "      <td>0.000</td>\n",
       "      <td>7.350</td>\n",
       "      <td>7.350</td>\n",
       "    </tr>\n",
       "    <tr>\n",
       "      <th>2019-01-01 17:00:00</th>\n",
       "      <td>0.000</td>\n",
       "      <td>0.000</td>\n",
       "      <td>7.500</td>\n",
       "      <td>7.500</td>\n",
       "    </tr>\n",
       "    <tr>\n",
       "      <th>2019-01-01 18:00:00</th>\n",
       "      <td>0.000</td>\n",
       "      <td>0.000</td>\n",
       "      <td>7.425</td>\n",
       "      <td>7.425</td>\n",
       "    </tr>\n",
       "    <tr>\n",
       "      <th>2019-01-01 19:00:00</th>\n",
       "      <td>0.000</td>\n",
       "      <td>0.000</td>\n",
       "      <td>7.500</td>\n",
       "      <td>7.500</td>\n",
       "    </tr>\n",
       "    <tr>\n",
       "      <th>2019-01-01 20:00:00</th>\n",
       "      <td>0.000</td>\n",
       "      <td>0.000</td>\n",
       "      <td>6.075</td>\n",
       "      <td>6.075</td>\n",
       "    </tr>\n",
       "    <tr>\n",
       "      <th>2019-01-01 21:00:00</th>\n",
       "      <td>0.000</td>\n",
       "      <td>0.000</td>\n",
       "      <td>5.700</td>\n",
       "      <td>5.700</td>\n",
       "    </tr>\n",
       "    <tr>\n",
       "      <th>2019-01-01 22:00:00</th>\n",
       "      <td>0.000</td>\n",
       "      <td>0.000</td>\n",
       "      <td>5.775</td>\n",
       "      <td>5.775</td>\n",
       "    </tr>\n",
       "    <tr>\n",
       "      <th>2019-01-01 23:00:00</th>\n",
       "      <td>0.000</td>\n",
       "      <td>0.000</td>\n",
       "      <td>5.700</td>\n",
       "      <td>5.700</td>\n",
       "    </tr>\n",
       "    <tr>\n",
       "      <th>2019-01-02 00:00:00</th>\n",
       "      <td>0.000</td>\n",
       "      <td>0.000</td>\n",
       "      <td>5.550</td>\n",
       "      <td>5.550</td>\n",
       "    </tr>\n",
       "    <tr>\n",
       "      <th>2019-01-02 01:00:00</th>\n",
       "      <td>0.000</td>\n",
       "      <td>0.000</td>\n",
       "      <td>5.550</td>\n",
       "      <td>5.550</td>\n",
       "    </tr>\n",
       "    <tr>\n",
       "      <th>2019-01-02 02:00:00</th>\n",
       "      <td>0.000</td>\n",
       "      <td>0.000</td>\n",
       "      <td>5.625</td>\n",
       "      <td>5.625</td>\n",
       "    </tr>\n",
       "    <tr>\n",
       "      <th>2019-01-02 03:00:00</th>\n",
       "      <td>0.000</td>\n",
       "      <td>0.000</td>\n",
       "      <td>5.625</td>\n",
       "      <td>5.625</td>\n",
       "    </tr>\n",
       "    <tr>\n",
       "      <th>2019-01-02 04:00:00</th>\n",
       "      <td>0.000</td>\n",
       "      <td>0.000</td>\n",
       "      <td>5.625</td>\n",
       "      <td>5.625</td>\n",
       "    </tr>\n",
       "    <tr>\n",
       "      <th>2019-01-02 05:00:00</th>\n",
       "      <td>0.000</td>\n",
       "      <td>0.000</td>\n",
       "      <td>5.850</td>\n",
       "      <td>5.850</td>\n",
       "    </tr>\n",
       "    <tr>\n",
       "      <th>...</th>\n",
       "      <td>...</td>\n",
       "      <td>...</td>\n",
       "      <td>...</td>\n",
       "      <td>...</td>\n",
       "    </tr>\n",
       "    <tr>\n",
       "      <th>2019-12-30 18:00:00</th>\n",
       "      <td>0.000</td>\n",
       "      <td>0.000</td>\n",
       "      <td>8.625</td>\n",
       "      <td>8.625</td>\n",
       "    </tr>\n",
       "    <tr>\n",
       "      <th>2019-12-30 19:00:00</th>\n",
       "      <td>0.000</td>\n",
       "      <td>0.000</td>\n",
       "      <td>8.250</td>\n",
       "      <td>8.250</td>\n",
       "    </tr>\n",
       "    <tr>\n",
       "      <th>2019-12-30 20:00:00</th>\n",
       "      <td>0.000</td>\n",
       "      <td>0.000</td>\n",
       "      <td>6.600</td>\n",
       "      <td>6.600</td>\n",
       "    </tr>\n",
       "    <tr>\n",
       "      <th>2019-12-30 21:00:00</th>\n",
       "      <td>0.000</td>\n",
       "      <td>0.000</td>\n",
       "      <td>6.225</td>\n",
       "      <td>6.225</td>\n",
       "    </tr>\n",
       "    <tr>\n",
       "      <th>2019-12-30 22:00:00</th>\n",
       "      <td>0.000</td>\n",
       "      <td>0.000</td>\n",
       "      <td>6.150</td>\n",
       "      <td>6.150</td>\n",
       "    </tr>\n",
       "    <tr>\n",
       "      <th>2019-12-30 23:00:00</th>\n",
       "      <td>0.000</td>\n",
       "      <td>0.000</td>\n",
       "      <td>5.775</td>\n",
       "      <td>5.775</td>\n",
       "    </tr>\n",
       "    <tr>\n",
       "      <th>2019-12-31 00:00:00</th>\n",
       "      <td>0.000</td>\n",
       "      <td>0.000</td>\n",
       "      <td>5.700</td>\n",
       "      <td>5.700</td>\n",
       "    </tr>\n",
       "    <tr>\n",
       "      <th>2019-12-31 01:00:00</th>\n",
       "      <td>0.000</td>\n",
       "      <td>0.000</td>\n",
       "      <td>6.000</td>\n",
       "      <td>6.000</td>\n",
       "    </tr>\n",
       "    <tr>\n",
       "      <th>2019-12-31 02:00:00</th>\n",
       "      <td>0.000</td>\n",
       "      <td>0.000</td>\n",
       "      <td>6.075</td>\n",
       "      <td>6.075</td>\n",
       "    </tr>\n",
       "    <tr>\n",
       "      <th>2019-12-31 03:00:00</th>\n",
       "      <td>0.000</td>\n",
       "      <td>0.000</td>\n",
       "      <td>5.700</td>\n",
       "      <td>5.700</td>\n",
       "    </tr>\n",
       "    <tr>\n",
       "      <th>2019-12-31 04:00:00</th>\n",
       "      <td>0.000</td>\n",
       "      <td>0.000</td>\n",
       "      <td>5.925</td>\n",
       "      <td>5.925</td>\n",
       "    </tr>\n",
       "    <tr>\n",
       "      <th>2019-12-31 05:00:00</th>\n",
       "      <td>0.000</td>\n",
       "      <td>0.000</td>\n",
       "      <td>6.000</td>\n",
       "      <td>6.000</td>\n",
       "    </tr>\n",
       "    <tr>\n",
       "      <th>2019-12-31 06:00:00</th>\n",
       "      <td>0.000</td>\n",
       "      <td>0.000</td>\n",
       "      <td>8.175</td>\n",
       "      <td>8.175</td>\n",
       "    </tr>\n",
       "    <tr>\n",
       "      <th>2019-12-31 07:00:00</th>\n",
       "      <td>0.000</td>\n",
       "      <td>0.000</td>\n",
       "      <td>9.975</td>\n",
       "      <td>9.975</td>\n",
       "    </tr>\n",
       "    <tr>\n",
       "      <th>2019-12-31 08:00:00</th>\n",
       "      <td>0.075</td>\n",
       "      <td>0.000</td>\n",
       "      <td>9.375</td>\n",
       "      <td>9.450</td>\n",
       "    </tr>\n",
       "    <tr>\n",
       "      <th>2019-12-31 09:00:00</th>\n",
       "      <td>2.400</td>\n",
       "      <td>0.000</td>\n",
       "      <td>5.925</td>\n",
       "      <td>8.325</td>\n",
       "    </tr>\n",
       "    <tr>\n",
       "      <th>2019-12-31 10:00:00</th>\n",
       "      <td>7.575</td>\n",
       "      <td>0.225</td>\n",
       "      <td>1.500</td>\n",
       "      <td>8.850</td>\n",
       "    </tr>\n",
       "    <tr>\n",
       "      <th>2019-12-31 11:00:00</th>\n",
       "      <td>14.850</td>\n",
       "      <td>6.150</td>\n",
       "      <td>0.000</td>\n",
       "      <td>8.700</td>\n",
       "    </tr>\n",
       "    <tr>\n",
       "      <th>2019-12-31 12:00:00</th>\n",
       "      <td>16.725</td>\n",
       "      <td>8.625</td>\n",
       "      <td>0.000</td>\n",
       "      <td>8.100</td>\n",
       "    </tr>\n",
       "    <tr>\n",
       "      <th>2019-12-31 13:00:00</th>\n",
       "      <td>17.250</td>\n",
       "      <td>9.075</td>\n",
       "      <td>0.000</td>\n",
       "      <td>8.175</td>\n",
       "    </tr>\n",
       "    <tr>\n",
       "      <th>2019-12-31 14:00:00</th>\n",
       "      <td>13.650</td>\n",
       "      <td>5.625</td>\n",
       "      <td>0.000</td>\n",
       "      <td>8.025</td>\n",
       "    </tr>\n",
       "    <tr>\n",
       "      <th>2019-12-31 15:00:00</th>\n",
       "      <td>6.900</td>\n",
       "      <td>0.825</td>\n",
       "      <td>1.950</td>\n",
       "      <td>8.025</td>\n",
       "    </tr>\n",
       "    <tr>\n",
       "      <th>2019-12-31 16:00:00</th>\n",
       "      <td>1.275</td>\n",
       "      <td>0.000</td>\n",
       "      <td>7.350</td>\n",
       "      <td>8.625</td>\n",
       "    </tr>\n",
       "    <tr>\n",
       "      <th>2019-12-31 17:00:00</th>\n",
       "      <td>0.000</td>\n",
       "      <td>0.000</td>\n",
       "      <td>8.700</td>\n",
       "      <td>8.700</td>\n",
       "    </tr>\n",
       "    <tr>\n",
       "      <th>2019-12-31 18:00:00</th>\n",
       "      <td>0.000</td>\n",
       "      <td>0.000</td>\n",
       "      <td>8.475</td>\n",
       "      <td>8.475</td>\n",
       "    </tr>\n",
       "    <tr>\n",
       "      <th>2019-12-31 19:00:00</th>\n",
       "      <td>0.000</td>\n",
       "      <td>0.000</td>\n",
       "      <td>8.025</td>\n",
       "      <td>8.025</td>\n",
       "    </tr>\n",
       "    <tr>\n",
       "      <th>2019-12-31 20:00:00</th>\n",
       "      <td>0.000</td>\n",
       "      <td>0.000</td>\n",
       "      <td>6.600</td>\n",
       "      <td>6.600</td>\n",
       "    </tr>\n",
       "    <tr>\n",
       "      <th>2019-12-31 21:00:00</th>\n",
       "      <td>0.000</td>\n",
       "      <td>0.000</td>\n",
       "      <td>6.300</td>\n",
       "      <td>6.300</td>\n",
       "    </tr>\n",
       "    <tr>\n",
       "      <th>2019-12-31 22:00:00</th>\n",
       "      <td>0.000</td>\n",
       "      <td>0.000</td>\n",
       "      <td>6.000</td>\n",
       "      <td>6.000</td>\n",
       "    </tr>\n",
       "    <tr>\n",
       "      <th>2019-12-31 23:00:00</th>\n",
       "      <td>0.000</td>\n",
       "      <td>0.000</td>\n",
       "      <td>5.850</td>\n",
       "      <td>5.850</td>\n",
       "    </tr>\n",
       "  </tbody>\n",
       "</table>\n",
       "<p>8760 rows × 4 columns</p>\n",
       "</div>"
      ],
      "text/plain": [
       "                     generation_kw  grid_feedin_kw  grid_supply_kw  \\\n",
       "timestamp                                                            \n",
       "2019-01-01 00:00:00            0.0             0.0           5.775   \n",
       "2019-01-01 01:00:00            0.0             0.0           5.550   \n",
       "2019-01-01 02:00:00            0.0             0.0           5.625   \n",
       "2019-01-01 03:00:00            0.0             0.0           5.550   \n",
       "2019-01-01 04:00:00            0.0             0.0           5.625   \n",
       "...                            ...             ...             ...   \n",
       "2019-12-31 19:00:00            0.0             0.0           8.025   \n",
       "2019-12-31 20:00:00            0.0             0.0           6.600   \n",
       "2019-12-31 21:00:00            0.0             0.0           6.300   \n",
       "2019-12-31 22:00:00            0.0             0.0           6.000   \n",
       "2019-12-31 23:00:00            0.0             0.0           5.850   \n",
       "\n",
       "                     overall_consumption_calc_kw  \n",
       "timestamp                                         \n",
       "2019-01-01 00:00:00                        5.775  \n",
       "2019-01-01 01:00:00                        5.550  \n",
       "2019-01-01 02:00:00                        5.625  \n",
       "2019-01-01 03:00:00                        5.550  \n",
       "2019-01-01 04:00:00                        5.625  \n",
       "...                                          ...  \n",
       "2019-12-31 19:00:00                        8.025  \n",
       "2019-12-31 20:00:00                        6.600  \n",
       "2019-12-31 21:00:00                        6.300  \n",
       "2019-12-31 22:00:00                        6.000  \n",
       "2019-12-31 23:00:00                        5.850  \n",
       "\n",
       "[8760 rows x 4 columns]"
      ]
     },
     "execution_count": 9,
     "metadata": {},
     "output_type": "execute_result"
    }
   ],
   "source": [
    "data_power_plant_b"
   ]
  },
  {
   "cell_type": "code",
   "execution_count": 10,
   "metadata": {
    "cell_id": "bd134903-f47c-4a3b-9b60-f2cc74eaf266",
    "tags": []
   },
   "outputs": [
    {
     "data": {
      "application/vnd.deepnote.dataframe+json": {
       "numColumns": 2,
       "numElements": 8760,
       "variableDetails": {
        "columns": [
         {
          "name": "grid_feedin_kw",
          "stats": {
           "25%": 0,
           "50%": 0,
           "75%": 0.65,
           "count": 8760,
           "max": 21.9,
           "mean": 2.00205098934551,
           "min": 0,
           "nan_count": 0,
           "std": 4.343250547037741
          }
         },
         {
          "name": "grid_supply_kw",
          "stats": {
           "25%": 0.05,
           "50%": 1.0499999999999998,
           "75%": 2.6,
           "count": 8760,
           "max": 17.4,
           "mean": 1.8015502065666449,
           "min": 0,
           "nan_count": 0,
           "std": 2.5098540745896156
          }
         }
        ],
        "dataframe": {
         "2019-05-19 07:00:00": {
          "grid_feedin_kw": 0,
          "grid_supply_kw": 1.05
         },
         "2019-08-20 12:00:00": {
          "grid_feedin_kw": 0.05,
          "grid_supply_kw": 0.1
         },
         "2019-08-29 01:00:00": {
          "grid_feedin_kw": 0,
          "grid_supply_kw": 5.35
         },
         "2019-09-06 20:00:00": {
          "grid_feedin_kw": 0,
          "grid_supply_kw": 2.4499999999999997
         },
         "2019-09-07 14:00:00": {
          "grid_feedin_kw": 13.75,
          "grid_supply_kw": 0
         },
         "2019-09-10 08:00:00": {
          "grid_feedin_kw": 0,
          "grid_supply_kw": 0.9
         },
         "2019-09-11 07:00:00": {
          "grid_feedin_kw": 0,
          "grid_supply_kw": 3.45
         },
         "2019-10-27 01:00:00": {
          "grid_feedin_kw": 0,
          "grid_supply_kw": 0.05
         },
         "2019-11-16 18:00:00": {
          "grid_feedin_kw": 0,
          "grid_supply_kw": 3
         },
         "2019-12-31 22:00:00": {
          "grid_feedin_kw": 0,
          "grid_supply_kw": 3.1000000000000005
         }
        },
        "frequencyInfo": [
         {
          "frequencyData": [
           {
            "x": 0,
            "y": 6932
           },
           {
            "x": 2.19,
            "y": 353
           },
           {
            "x": 4.38,
            "y": 297
           },
           {
            "x": 6.57,
            "y": 284
           },
           {
            "x": 8.76,
            "y": 252
           },
           {
            "x": 10.95,
            "y": 214
           },
           {
            "x": 13.14,
            "y": 171
           },
           {
            "x": 15.33,
            "y": 125
           },
           {
            "x": 17.52,
            "y": 108
           },
           {
            "x": 19.71,
            "y": 24
           }
          ],
          "type": "hist"
         },
         {
          "frequencyData": [
           {
            "x": 0,
            "y": 5642
           },
           {
            "x": 1.7399999999999998,
            "y": 1612
           },
           {
            "x": 3.4799999999999995,
            "y": 749
           },
           {
            "x": 5.219999999999999,
            "y": 283
           },
           {
            "x": 6.959999999999999,
            "y": 204
           },
           {
            "x": 8.7,
            "y": 122
           },
           {
            "x": 10.439999999999998,
            "y": 78
           },
           {
            "x": 12.179999999999998,
            "y": 35
           },
           {
            "x": 13.919999999999998,
            "y": 29
           },
           {
            "x": 15.659999999999998,
            "y": 6
           }
          ],
          "type": "hist"
         }
        ]
       }
      },
      "text/html": [
       "<div>\n",
       "<style scoped>\n",
       "    .dataframe tbody tr th:only-of-type {\n",
       "        vertical-align: middle;\n",
       "    }\n",
       "\n",
       "    .dataframe tbody tr th {\n",
       "        vertical-align: top;\n",
       "    }\n",
       "\n",
       "    .dataframe thead th {\n",
       "        text-align: right;\n",
       "    }\n",
       "</style>\n",
       "<table border=\"1\" class=\"dataframe\">\n",
       "  <thead>\n",
       "    <tr style=\"text-align: right;\">\n",
       "      <th></th>\n",
       "      <th>grid_feedin_kw</th>\n",
       "      <th>grid_supply_kw</th>\n",
       "    </tr>\n",
       "    <tr>\n",
       "      <th>timestamp</th>\n",
       "      <th></th>\n",
       "      <th></th>\n",
       "    </tr>\n",
       "  </thead>\n",
       "  <tbody>\n",
       "    <tr>\n",
       "      <th>2019-01-01 00:00:00</th>\n",
       "      <td>0.00</td>\n",
       "      <td>2.90</td>\n",
       "    </tr>\n",
       "    <tr>\n",
       "      <th>2019-01-01 01:00:00</th>\n",
       "      <td>0.00</td>\n",
       "      <td>4.05</td>\n",
       "    </tr>\n",
       "    <tr>\n",
       "      <th>2019-01-01 02:00:00</th>\n",
       "      <td>0.00</td>\n",
       "      <td>4.65</td>\n",
       "    </tr>\n",
       "    <tr>\n",
       "      <th>2019-01-01 03:00:00</th>\n",
       "      <td>0.00</td>\n",
       "      <td>2.90</td>\n",
       "    </tr>\n",
       "    <tr>\n",
       "      <th>2019-01-01 04:00:00</th>\n",
       "      <td>0.00</td>\n",
       "      <td>2.95</td>\n",
       "    </tr>\n",
       "    <tr>\n",
       "      <th>2019-01-01 05:00:00</th>\n",
       "      <td>0.00</td>\n",
       "      <td>2.85</td>\n",
       "    </tr>\n",
       "    <tr>\n",
       "      <th>2019-01-01 06:00:00</th>\n",
       "      <td>0.00</td>\n",
       "      <td>2.95</td>\n",
       "    </tr>\n",
       "    <tr>\n",
       "      <th>2019-01-01 07:00:00</th>\n",
       "      <td>0.00</td>\n",
       "      <td>3.45</td>\n",
       "    </tr>\n",
       "    <tr>\n",
       "      <th>2019-01-01 08:00:00</th>\n",
       "      <td>0.00</td>\n",
       "      <td>3.55</td>\n",
       "    </tr>\n",
       "    <tr>\n",
       "      <th>2019-01-01 09:00:00</th>\n",
       "      <td>0.00</td>\n",
       "      <td>3.05</td>\n",
       "    </tr>\n",
       "    <tr>\n",
       "      <th>2019-01-01 10:00:00</th>\n",
       "      <td>0.00</td>\n",
       "      <td>2.10</td>\n",
       "    </tr>\n",
       "    <tr>\n",
       "      <th>2019-01-01 11:00:00</th>\n",
       "      <td>0.00</td>\n",
       "      <td>1.15</td>\n",
       "    </tr>\n",
       "    <tr>\n",
       "      <th>2019-01-01 12:00:00</th>\n",
       "      <td>0.00</td>\n",
       "      <td>0.40</td>\n",
       "    </tr>\n",
       "    <tr>\n",
       "      <th>2019-01-01 13:00:00</th>\n",
       "      <td>0.05</td>\n",
       "      <td>0.50</td>\n",
       "    </tr>\n",
       "    <tr>\n",
       "      <th>2019-01-01 14:00:00</th>\n",
       "      <td>0.00</td>\n",
       "      <td>0.85</td>\n",
       "    </tr>\n",
       "    <tr>\n",
       "      <th>2019-01-01 15:00:00</th>\n",
       "      <td>0.00</td>\n",
       "      <td>9.80</td>\n",
       "    </tr>\n",
       "    <tr>\n",
       "      <th>2019-01-01 16:00:00</th>\n",
       "      <td>0.00</td>\n",
       "      <td>10.80</td>\n",
       "    </tr>\n",
       "    <tr>\n",
       "      <th>2019-01-01 17:00:00</th>\n",
       "      <td>0.00</td>\n",
       "      <td>8.85</td>\n",
       "    </tr>\n",
       "    <tr>\n",
       "      <th>2019-01-01 18:00:00</th>\n",
       "      <td>0.00</td>\n",
       "      <td>11.45</td>\n",
       "    </tr>\n",
       "    <tr>\n",
       "      <th>2019-01-01 19:00:00</th>\n",
       "      <td>0.00</td>\n",
       "      <td>6.55</td>\n",
       "    </tr>\n",
       "    <tr>\n",
       "      <th>2019-01-01 20:00:00</th>\n",
       "      <td>0.00</td>\n",
       "      <td>4.10</td>\n",
       "    </tr>\n",
       "    <tr>\n",
       "      <th>2019-01-01 21:00:00</th>\n",
       "      <td>0.00</td>\n",
       "      <td>4.10</td>\n",
       "    </tr>\n",
       "    <tr>\n",
       "      <th>2019-01-01 22:00:00</th>\n",
       "      <td>0.00</td>\n",
       "      <td>4.05</td>\n",
       "    </tr>\n",
       "    <tr>\n",
       "      <th>2019-01-01 23:00:00</th>\n",
       "      <td>0.00</td>\n",
       "      <td>3.05</td>\n",
       "    </tr>\n",
       "    <tr>\n",
       "      <th>2019-01-02 00:00:00</th>\n",
       "      <td>0.00</td>\n",
       "      <td>2.70</td>\n",
       "    </tr>\n",
       "    <tr>\n",
       "      <th>2019-01-02 01:00:00</th>\n",
       "      <td>0.00</td>\n",
       "      <td>3.95</td>\n",
       "    </tr>\n",
       "    <tr>\n",
       "      <th>2019-01-02 02:00:00</th>\n",
       "      <td>0.00</td>\n",
       "      <td>4.05</td>\n",
       "    </tr>\n",
       "    <tr>\n",
       "      <th>2019-01-02 03:00:00</th>\n",
       "      <td>0.00</td>\n",
       "      <td>2.80</td>\n",
       "    </tr>\n",
       "    <tr>\n",
       "      <th>2019-01-02 04:00:00</th>\n",
       "      <td>0.00</td>\n",
       "      <td>2.70</td>\n",
       "    </tr>\n",
       "    <tr>\n",
       "      <th>2019-01-02 05:00:00</th>\n",
       "      <td>0.00</td>\n",
       "      <td>2.75</td>\n",
       "    </tr>\n",
       "    <tr>\n",
       "      <th>...</th>\n",
       "      <td>...</td>\n",
       "      <td>...</td>\n",
       "    </tr>\n",
       "    <tr>\n",
       "      <th>2019-12-30 18:00:00</th>\n",
       "      <td>0.00</td>\n",
       "      <td>1.75</td>\n",
       "    </tr>\n",
       "    <tr>\n",
       "      <th>2019-12-30 19:00:00</th>\n",
       "      <td>0.00</td>\n",
       "      <td>1.95</td>\n",
       "    </tr>\n",
       "    <tr>\n",
       "      <th>2019-12-30 20:00:00</th>\n",
       "      <td>0.00</td>\n",
       "      <td>1.90</td>\n",
       "    </tr>\n",
       "    <tr>\n",
       "      <th>2019-12-30 21:00:00</th>\n",
       "      <td>0.00</td>\n",
       "      <td>1.80</td>\n",
       "    </tr>\n",
       "    <tr>\n",
       "      <th>2019-12-30 22:00:00</th>\n",
       "      <td>0.00</td>\n",
       "      <td>1.75</td>\n",
       "    </tr>\n",
       "    <tr>\n",
       "      <th>2019-12-30 23:00:00</th>\n",
       "      <td>0.00</td>\n",
       "      <td>1.70</td>\n",
       "    </tr>\n",
       "    <tr>\n",
       "      <th>2019-12-31 00:00:00</th>\n",
       "      <td>0.00</td>\n",
       "      <td>1.65</td>\n",
       "    </tr>\n",
       "    <tr>\n",
       "      <th>2019-12-31 01:00:00</th>\n",
       "      <td>0.00</td>\n",
       "      <td>2.80</td>\n",
       "    </tr>\n",
       "    <tr>\n",
       "      <th>2019-12-31 02:00:00</th>\n",
       "      <td>0.00</td>\n",
       "      <td>3.50</td>\n",
       "    </tr>\n",
       "    <tr>\n",
       "      <th>2019-12-31 03:00:00</th>\n",
       "      <td>0.00</td>\n",
       "      <td>1.70</td>\n",
       "    </tr>\n",
       "    <tr>\n",
       "      <th>2019-12-31 04:00:00</th>\n",
       "      <td>0.00</td>\n",
       "      <td>1.75</td>\n",
       "    </tr>\n",
       "    <tr>\n",
       "      <th>2019-12-31 05:00:00</th>\n",
       "      <td>0.00</td>\n",
       "      <td>1.70</td>\n",
       "    </tr>\n",
       "    <tr>\n",
       "      <th>2019-12-31 06:00:00</th>\n",
       "      <td>0.00</td>\n",
       "      <td>1.80</td>\n",
       "    </tr>\n",
       "    <tr>\n",
       "      <th>2019-12-31 07:00:00</th>\n",
       "      <td>0.00</td>\n",
       "      <td>2.60</td>\n",
       "    </tr>\n",
       "    <tr>\n",
       "      <th>2019-12-31 08:00:00</th>\n",
       "      <td>0.00</td>\n",
       "      <td>3.65</td>\n",
       "    </tr>\n",
       "    <tr>\n",
       "      <th>2019-12-31 09:00:00</th>\n",
       "      <td>0.00</td>\n",
       "      <td>3.75</td>\n",
       "    </tr>\n",
       "    <tr>\n",
       "      <th>2019-12-31 10:00:00</th>\n",
       "      <td>0.00</td>\n",
       "      <td>2.10</td>\n",
       "    </tr>\n",
       "    <tr>\n",
       "      <th>2019-12-31 11:00:00</th>\n",
       "      <td>0.10</td>\n",
       "      <td>0.05</td>\n",
       "    </tr>\n",
       "    <tr>\n",
       "      <th>2019-12-31 12:00:00</th>\n",
       "      <td>0.60</td>\n",
       "      <td>0.05</td>\n",
       "    </tr>\n",
       "    <tr>\n",
       "      <th>2019-12-31 13:00:00</th>\n",
       "      <td>0.65</td>\n",
       "      <td>0.00</td>\n",
       "    </tr>\n",
       "    <tr>\n",
       "      <th>2019-12-31 14:00:00</th>\n",
       "      <td>0.10</td>\n",
       "      <td>0.00</td>\n",
       "    </tr>\n",
       "    <tr>\n",
       "      <th>2019-12-31 15:00:00</th>\n",
       "      <td>0.05</td>\n",
       "      <td>0.05</td>\n",
       "    </tr>\n",
       "    <tr>\n",
       "      <th>2019-12-31 16:00:00</th>\n",
       "      <td>0.00</td>\n",
       "      <td>0.10</td>\n",
       "    </tr>\n",
       "    <tr>\n",
       "      <th>2019-12-31 17:00:00</th>\n",
       "      <td>0.05</td>\n",
       "      <td>0.10</td>\n",
       "    </tr>\n",
       "    <tr>\n",
       "      <th>2019-12-31 18:00:00</th>\n",
       "      <td>0.00</td>\n",
       "      <td>1.65</td>\n",
       "    </tr>\n",
       "    <tr>\n",
       "      <th>2019-12-31 19:00:00</th>\n",
       "      <td>0.00</td>\n",
       "      <td>3.10</td>\n",
       "    </tr>\n",
       "    <tr>\n",
       "      <th>2019-12-31 20:00:00</th>\n",
       "      <td>0.00</td>\n",
       "      <td>3.15</td>\n",
       "    </tr>\n",
       "    <tr>\n",
       "      <th>2019-12-31 21:00:00</th>\n",
       "      <td>0.00</td>\n",
       "      <td>3.15</td>\n",
       "    </tr>\n",
       "    <tr>\n",
       "      <th>2019-12-31 22:00:00</th>\n",
       "      <td>0.00</td>\n",
       "      <td>3.10</td>\n",
       "    </tr>\n",
       "    <tr>\n",
       "      <th>2019-12-31 23:00:00</th>\n",
       "      <td>0.00</td>\n",
       "      <td>2.95</td>\n",
       "    </tr>\n",
       "  </tbody>\n",
       "</table>\n",
       "<p>8760 rows × 2 columns</p>\n",
       "</div>"
      ],
      "text/plain": [
       "                     grid_feedin_kw  grid_supply_kw\n",
       "timestamp                                          \n",
       "2019-01-01 00:00:00             0.0            2.90\n",
       "2019-01-01 01:00:00             0.0            4.05\n",
       "2019-01-01 02:00:00             0.0            4.65\n",
       "2019-01-01 03:00:00             0.0            2.90\n",
       "2019-01-01 04:00:00             0.0            2.95\n",
       "...                             ...             ...\n",
       "2019-12-31 19:00:00             0.0            3.10\n",
       "2019-12-31 20:00:00             0.0            3.15\n",
       "2019-12-31 21:00:00             0.0            3.15\n",
       "2019-12-31 22:00:00             0.0            3.10\n",
       "2019-12-31 23:00:00             0.0            2.95\n",
       "\n",
       "[8760 rows x 2 columns]"
      ]
     },
     "execution_count": 10,
     "metadata": {},
     "output_type": "execute_result"
    }
   ],
   "source": [
    "data_power_plant_c"
   ]
  },
  {
   "cell_type": "code",
   "execution_count": 11,
   "metadata": {
    "cell_id": "a3030ca9-3358-4c39-8aa1-1de6b7a81630",
    "tags": []
   },
   "outputs": [
    {
     "name": "stderr",
     "output_type": "stream",
     "text": [
      "/opt/venv/lib/python3.7/site-packages/pandas/plotting/_matplotlib/converter.py:102: FutureWarning: Using an implicitly registered datetime converter for a matplotlib plotting method. The converter was registered by pandas on import. Future versions of pandas will require you to explicitly register matplotlib converters.\n",
      "\n",
      "To register the converters:\n",
      "\t>>> from pandas.plotting import register_matplotlib_converters\n",
      "\t>>> register_matplotlib_converters()\n",
      "  warnings.warn(msg, FutureWarning)\n"
     ]
    },
    {
     "data": {
      "image/png": "[encoded data removed]",
      "text/plain": [
       "<Figure size 432x288 with 1 Axes>"
      ]
     },
     "metadata": {
      "needs_background": "light"
     },
     "output_type": "display_data"
    },
    {
     "data": {
      "image/png": "[encoded data removed]",
      "text/plain": [
       "<Figure size 432x288 with 1 Axes>"
      ]
     },
     "metadata": {
      "needs_background": "light"
     },
     "output_type": "display_data"
    },
    {
     "data": {
      "image/png": "[encoded data removed]",
      "text/plain": [
       "<Figure size 432x288 with 1 Axes>"
      ]
     },
     "metadata": {
      "needs_background": "light"
     },
     "output_type": "display_data"
    },
    {
     "data": {
      "image/png": "[encoded data removed]",
      "text/plain": [
       "<Figure size 432x288 with 1 Axes>"
      ]
     },
     "metadata": {
      "needs_background": "light"
     },
     "output_type": "display_data"
    },
    {
     "data": {
      "image/png": "[encoded data removed]",
      "text/plain": [
       "<Figure size 432x288 with 1 Axes>"
      ]
     },
     "metadata": {
      "needs_background": "light"
     },
     "output_type": "display_data"
    },
    {
     "data": {
      "image/png": "[encoded data removed]",
      "text/plain": [
       "<Figure size 432x288 with 1 Axes>"
      ]
     },
     "metadata": {
      "needs_background": "light"
     },
     "output_type": "display_data"
    }
   ],
   "source": [
    "plt.plot(data_power_plant_a)\n",
    "plt.title(\"Power Plant A\")\n",
    "plt.legend(data_power_plant_a.columns)\n",
    "plt.show()\n",
    "\n",
    "plt.plot(data_power_plant_b)\n",
    "plt.title(\"Power Plant B\")\n",
    "plt.legend(data_power_plant_b.columns)\n",
    "plt.show()\n",
    "\n",
    "plt.plot(data_power_plant_c)\n",
    "plt.title(\"Power Plant C\")\n",
    "plt.legend(data_power_plant_c.columns)\n",
    "plt.show()\n",
    "\n",
    "plt.hist(data_power_plant_a[\"grid_feedin_kw\"]\n",
    "    , bins = 30\n",
    "    , range = (0.0001, max(data_power_plant_a[\"grid_feedin_kw\"]))\n",
    "    )\n",
    "plt.title(\"Power Plant A (>0)\")\n",
    "plt.show()\n",
    "\n",
    "\n",
    "plt.hist(data_power_plant_b[\"grid_feedin_kw\"]\n",
    "    , bins = 30\n",
    "    , range = (0.0001, max(data_power_plant_b[\"grid_feedin_kw\"]))\n",
    "    )\n",
    "plt.title(\"Power Plant B (>0)\")\n",
    "plt.show()\n",
    "\n",
    "plt.hist(data_power_plant_c[\"grid_feedin_kw\"]\n",
    "    , bins = 30\n",
    "    , range = (0.0001, max(data_power_plant_c[\"grid_feedin_kw\"]))\n",
    "    )\n",
    "plt.title(\"Power Plant C (>0)\")\n",
    "plt.show()"
   ]
  },
  {
   "cell_type": "markdown",
   "metadata": {
    "cell_id": "00773925-b97d-44a9-ac96-0550737dc7b1",
    "tags": []
   },
   "source": [
    "## Pre Process Weather Data + Visualization\n",
    "Findings:\n",
    "- Wetterdaten fehlen für eine Stunde --> interpoliert"
   ]
  },
  {
   "cell_type": "code",
   "execution_count": 12,
   "metadata": {
    "cell_id": "d47302c8-c2c6-4a88-a94f-acda593918ef",
    "tags": []
   },
   "outputs": [],
   "source": [
    "def weather_format_columns(df):\n",
    "        columns_lower = df.columns.str.lower()\n",
    "        columns_clean = columns_lower.str.replace(\"-\", \"\")\n",
    "        df.columns = columns_clean\n",
    "        return df\n",
    "\n",
    "\n",
    "def weather_set_datetime_index(df):\n",
    "    \"\"\" create datetime index based on local_time,\n",
    "    and resampled mean per hour\"\"\"\n",
    "    df[\"timestamp\"] = pd.to_datetime(df[\"local_time\"])\n",
    "    df.set_index(df[\"timestamp\"], inplace=True)\n",
    "    df = df.resample(\"h\").mean()\n",
    "    return df"
   ]
  },
  {
   "cell_type": "code",
   "execution_count": 13,
   "metadata": {
    "cell_id": "c58330d2-a4c9-4e05-950e-e0c8ab5c99fd",
    "tags": []
   },
   "outputs": [],
   "source": [
    "data_weather = weather_format_columns(data_weather)\n",
    "data_weather = weather_set_datetime_index(data_weather)"
   ]
  },
  {
   "cell_type": "code",
   "execution_count": 14,
   "metadata": {
    "cell_id": "116fd101-ef03-47e5-94c3-856ab85f0b5a",
    "tags": []
   },
   "outputs": [
    {
     "data": {
      "application/vnd.deepnote.dataframe+json": {
       "numColumns": 8,
       "numElements": 8760,
       "variableDetails": {
        "columns": [
         {
          "name": "temperature",
          "stats": {
           "25%": 0.2345,
           "50%": 6.074,
           "75%": 13.2635,
           "count": 8759,
           "max": 30.035,
           "mean": 6.628470202077863,
           "min": -13.690999999999999,
           "nan_count": 1,
           "std": 8.413780786052618
          }
         },
         {
          "name": "precipitation",
          "stats": {
           "25%": 0,
           "50%": 0.013000000000000001,
           "75%": 0.10099999999999999,
           "count": 8759,
           "max": 6.843999999999999,
           "mean": 0.1505470944171709,
           "min": 0,
           "nan_count": 1,
           "std": 0.38797725817014367
          }
         },
         {
          "name": "snowfall",
          "stats": {
           "25%": 0,
           "50%": 0,
           "75%": 0.013000000000000001,
           "count": 8759,
           "max": 4.271,
           "mean": 0.04695718689348099,
           "min": 0,
           "nan_count": 1,
           "std": 0.1767010120316595
          }
         },
         {
          "name": "snow_mass",
          "stats": {
           "25%": 0,
           "50%": 0.299,
           "75%": 14.525500000000001,
           "count": 8759,
           "max": 200.16299999999998,
           "mean": 22.5170450964722,
           "min": 0,
           "nan_count": 1,
           "std": 49.40343386187347
          }
         },
         {
          "name": "air_density",
          "stats": {
           "25%": 1.047,
           "50%": 1.07,
           "75%": 1.09,
           "count": 8759,
           "max": 1.138,
           "mean": 1.0688462153213836,
           "min": 1,
           "nan_count": 1,
           "std": 0.02667180591709074
          }
         },
         {
          "name": "radiation_surface",
          "stats": {
           "25%": 0,
           "50%": 8.005,
           "75%": 309.96299999999997,
           "count": 8759,
           "max": 998.31,
           "mean": 177.34830151843818,
           "min": 0,
           "nan_count": 1,
           "std": 253.64270287944734
          }
         },
         {
          "name": "radiation_toa",
          "stats": {
           "25%": 0,
           "50%": 35.400999999999996,
           "75%": 579.3585,
           "count": 8759,
           "max": 1215.4389999999999,
           "mean": 303.10310937321617,
           "min": 0,
           "nan_count": 1,
           "std": 384.7264248071779
          }
         },
         {
          "name": "cloud_cover",
          "stats": {
           "25%": 0.139,
           "50%": 0.524,
           "75%": 0.894,
           "count": 8759,
           "max": 0.9990000000000001,
           "mean": 0.5115301975111315,
           "min": 0,
           "nan_count": 1,
           "std": 0.3660745696148507
          }
         }
        ],
        "dataframe": {
         "2019-05-19 08:00:00": {
          "air_density": 1.064,
          "cloud_cover": 0.9790000000000001,
          "precipitation": 0.19899999999999998,
          "radiation_surface": 201.614,
          "radiation_toa": 555.88,
          "snow_mass": 1.7180000000000002,
          "snowfall": 0.012,
          "temperature": 6.255
         },
         "2019-08-20 13:00:00": {
          "air_density": 1.038,
          "cloud_cover": 0.977,
          "precipitation": 0.823,
          "radiation_surface": 328.61800000000005,
          "radiation_toa": 1109.337,
          "snow_mass": 0,
          "snowfall": 0,
          "temperature": 17.455
         },
         "2019-08-29 02:00:00": {
          "air_density": 1.044,
          "cloud_cover": 0.6729999999999999,
          "precipitation": 0.009000000000000001,
          "radiation_surface": 0,
          "radiation_toa": 0,
          "snow_mass": 0,
          "snowfall": 0,
          "temperature": 13.808
         },
         "2019-09-06 21:00:00": {
          "air_density": 1.071,
          "cloud_cover": 0.94,
          "precipitation": 0.11900000000000001,
          "radiation_surface": 0,
          "radiation_toa": 0,
          "snow_mass": 4.494,
          "snowfall": 0,
          "temperature": 6.37
         },
         "2019-09-07 15:00:00": {
          "air_density": 1.048,
          "cloud_cover": 0.244,
          "precipitation": 0.02,
          "radiation_surface": 597.9,
          "radiation_toa": 900.07,
          "snow_mass": 1.093,
          "snowfall": 0,
          "temperature": 14.664000000000001
         },
         "2019-09-10 09:00:00": {
          "air_density": 1.07,
          "cloud_cover": 0.968,
          "precipitation": 0.048,
          "radiation_surface": 151.827,
          "radiation_toa": 562.3340000000001,
          "snow_mass": 0.037000000000000005,
          "snowfall": 0,
          "temperature": 8.458
         },
         "2019-09-11 08:00:00": {
          "air_density": 1.07,
          "cloud_cover": 0.07200000000000001,
          "precipitation": 0,
          "radiation_surface": 198.312,
          "radiation_toa": 334.02099999999996,
          "snow_mass": 0.008,
          "snowfall": 0,
          "temperature": 9.126
         },
         "2019-10-27 02:00:00": {
          "air_density": 1.065,
          "cloud_cover": 0,
          "precipitation": 0.001,
          "radiation_surface": 0,
          "radiation_toa": 0,
          "snow_mass": 0.033,
          "snowfall": 0,
          "temperature": 7.5265
         },
         "2019-11-16 19:00:00": {
          "air_density": 1.095,
          "cloud_cover": 0.963,
          "precipitation": 0.096,
          "radiation_surface": 0,
          "radiation_toa": 0,
          "snow_mass": 59.196000000000005,
          "snowfall": 0.085,
          "temperature": -2.549
         },
         "2019-12-31 23:00:00": {
          "air_density": 1.094,
          "cloud_cover": 0.617,
          "precipitation": 0,
          "radiation_surface": 0,
          "radiation_toa": 0,
          "snow_mass": 199.62900000000002,
          "snowfall": 0,
          "temperature": -0.867
         }
        },
        "frequencyInfo": [
         {
          "frequencyData": [
           {
            "x": -13.690999999999999,
            "y": 129
           },
           {
            "x": -9.318399999999999,
            "y": 579
           },
           {
            "x": -4.945799999999998,
            "y": 1210
           },
           {
            "x": -0.5731999999999982,
            "y": 1741
           },
           {
            "x": 3.799400000000002,
            "y": 1413
           },
           {
            "x": 8.172,
            "y": 1276
           },
           {
            "x": 12.544600000000003,
            "y": 1229
           },
           {
            "x": 16.917200000000005,
            "y": 854
           },
           {
            "x": 21.289800000000003,
            "y": 293
           },
           {
            "x": 25.6624,
            "y": 35
           }
          ],
          "type": "hist"
         },
         {
          "frequencyData": [
           {
            "x": 0,
            "y": 8198
           },
           {
            "x": 0.6843999999999999,
            "y": 390
           },
           {
            "x": 1.3687999999999998,
            "y": 101
           },
           {
            "x": 2.0531999999999995,
            "y": 38
           },
           {
            "x": 2.7375999999999996,
            "y": 17
           },
           {
            "x": 3.4219999999999997,
            "y": 7
           },
           {
            "x": 4.106399999999999,
            "y": 4
           },
           {
            "x": 4.790799999999999,
            "y": 0
           },
           {
            "x": 5.475199999999999,
            "y": 3
           },
           {
            "x": 6.159599999999999,
            "y": 1
           }
          ],
          "type": "hist"
         },
         {
          "frequencyData": [
           {
            "x": 0,
            "y": 8517
           },
           {
            "x": 0.4271,
            "y": 155
           },
           {
            "x": 0.8542,
            "y": 61
           },
           {
            "x": 1.2812999999999999,
            "y": 8
           },
           {
            "x": 1.7084,
            "y": 8
           },
           {
            "x": 2.1355,
            "y": 5
           },
           {
            "x": 2.5625999999999998,
            "y": 1
           },
           {
            "x": 2.9897,
            "y": 1
           },
           {
            "x": 3.4168,
            "y": 2
           },
           {
            "x": 3.8438999999999997,
            "y": 1
           }
          ],
          "type": "hist"
         },
         {
          "frequencyData": [
           {
            "x": 0,
            "y": 7061
           },
           {
            "x": 20.016299999999998,
            "y": 530
           },
           {
            "x": 40.032599999999995,
            "y": 91
           },
           {
            "x": 60.04889999999999,
            "y": 63
           },
           {
            "x": 80.06519999999999,
            "y": 84
           },
           {
            "x": 100.08149999999999,
            "y": 21
           },
           {
            "x": 120.09779999999998,
            "y": 244
           },
           {
            "x": 140.11409999999998,
            "y": 323
           },
           {
            "x": 160.13039999999998,
            "y": 66
           },
           {
            "x": 180.14669999999998,
            "y": 276
           }
          ],
          "type": "hist"
         },
         {
          "frequencyData": [
           {
            "x": 1,
            "y": 59
           },
           {
            "x": 1.0138,
            "y": 496
           },
           {
            "x": 1.0276,
            "y": 1143
           },
           {
            "x": 1.0413999999999999,
            "y": 1140
           },
           {
            "x": 1.0552,
            "y": 1301
           },
           {
            "x": 1.069,
            "y": 1676
           },
           {
            "x": 1.0828,
            "y": 1443
           },
           {
            "x": 1.0966,
            "y": 1063
           },
           {
            "x": 1.1103999999999998,
            "y": 375
           },
           {
            "x": 1.1241999999999999,
            "y": 63
           }
          ],
          "type": "hist"
         },
         {
          "frequencyData": [
           {
            "x": 0,
            "y": 5239
           },
           {
            "x": 99.83099999999999,
            "y": 674
           },
           {
            "x": 199.66199999999998,
            "y": 605
           },
           {
            "x": 299.49299999999994,
            "y": 577
           },
           {
            "x": 399.32399999999996,
            "y": 380
           },
           {
            "x": 499.155,
            "y": 380
           },
           {
            "x": 598.9859999999999,
            "y": 326
           },
           {
            "x": 698.8169999999999,
            "y": 307
           },
           {
            "x": 798.6479999999999,
            "y": 167
           },
           {
            "x": 898.4789999999999,
            "y": 104
           }
          ],
          "type": "hist"
         },
         {
          "frequencyData": [
           {
            "x": 0,
            "y": 4755
           },
           {
            "x": 121.54389999999998,
            "y": 397
           },
           {
            "x": 243.08779999999996,
            "y": 436
           },
           {
            "x": 364.6316999999999,
            "y": 518
           },
           {
            "x": 486.1755999999999,
            "y": 617
           },
           {
            "x": 607.7194999999999,
            "y": 375
           },
           {
            "x": 729.2633999999998,
            "y": 449
           },
           {
            "x": 850.8072999999998,
            "y": 421
           },
           {
            "x": 972.3511999999998,
            "y": 369
           },
           {
            "x": 1093.8950999999997,
            "y": 422
           }
          ],
          "type": "hist"
         },
         {
          "frequencyData": [
           {
            "x": 0,
            "y": 1894
           },
           {
            "x": 0.09990000000000002,
            "y": 677
           },
           {
            "x": 0.19980000000000003,
            "y": 655
           },
           {
            "x": 0.2997000000000001,
            "y": 564
           },
           {
            "x": 0.39960000000000007,
            "y": 474
           },
           {
            "x": 0.49950000000000006,
            "y": 494
           },
           {
            "x": 0.5994000000000002,
            "y": 500
           },
           {
            "x": 0.6993000000000001,
            "y": 557
           },
           {
            "x": 0.7992000000000001,
            "y": 804
           },
           {
            "x": 0.8991000000000001,
            "y": 2140
           }
          ],
          "type": "hist"
         }
        ]
       }
      },
      "text/html": [
       "<div>\n",
       "<style scoped>\n",
       "    .dataframe tbody tr th:only-of-type {\n",
       "        vertical-align: middle;\n",
       "    }\n",
       "\n",
       "    .dataframe tbody tr th {\n",
       "        vertical-align: top;\n",
       "    }\n",
       "\n",
       "    .dataframe thead th {\n",
       "        text-align: right;\n",
       "    }\n",
       "</style>\n",
       "<table border=\"1\" class=\"dataframe\">\n",
       "  <thead>\n",
       "    <tr style=\"text-align: right;\">\n",
       "      <th></th>\n",
       "      <th>temperature</th>\n",
       "      <th>precipitation</th>\n",
       "      <th>snowfall</th>\n",
       "      <th>snow_mass</th>\n",
       "      <th>air_density</th>\n",
       "      <th>radiation_surface</th>\n",
       "      <th>radiation_toa</th>\n",
       "      <th>cloud_cover</th>\n",
       "    </tr>\n",
       "    <tr>\n",
       "      <th>timestamp</th>\n",
       "      <th></th>\n",
       "      <th></th>\n",
       "      <th></th>\n",
       "      <th></th>\n",
       "      <th></th>\n",
       "      <th></th>\n",
       "      <th></th>\n",
       "      <th></th>\n",
       "    </tr>\n",
       "  </thead>\n",
       "  <tbody>\n",
       "    <tr>\n",
       "      <th>2019-01-01 01:00:00</th>\n",
       "      <td>-2.542</td>\n",
       "      <td>0.001</td>\n",
       "      <td>0.000</td>\n",
       "      <td>10.513</td>\n",
       "      <td>1.106</td>\n",
       "      <td>0.000</td>\n",
       "      <td>0.000</td>\n",
       "      <td>0.001</td>\n",
       "    </tr>\n",
       "    <tr>\n",
       "      <th>2019-01-01 02:00:00</th>\n",
       "      <td>-2.190</td>\n",
       "      <td>0.001</td>\n",
       "      <td>0.000</td>\n",
       "      <td>10.515</td>\n",
       "      <td>1.106</td>\n",
       "      <td>0.000</td>\n",
       "      <td>0.000</td>\n",
       "      <td>0.043</td>\n",
       "    </tr>\n",
       "    <tr>\n",
       "      <th>2019-01-01 03:00:00</th>\n",
       "      <td>-2.182</td>\n",
       "      <td>0.001</td>\n",
       "      <td>0.000</td>\n",
       "      <td>10.516</td>\n",
       "      <td>1.106</td>\n",
       "      <td>0.000</td>\n",
       "      <td>0.000</td>\n",
       "      <td>0.171</td>\n",
       "    </tr>\n",
       "    <tr>\n",
       "      <th>2019-01-01 04:00:00</th>\n",
       "      <td>-2.230</td>\n",
       "      <td>0.000</td>\n",
       "      <td>0.000</td>\n",
       "      <td>10.517</td>\n",
       "      <td>1.106</td>\n",
       "      <td>0.000</td>\n",
       "      <td>0.000</td>\n",
       "      <td>0.379</td>\n",
       "    </tr>\n",
       "    <tr>\n",
       "      <th>2019-01-01 05:00:00</th>\n",
       "      <td>-2.113</td>\n",
       "      <td>0.000</td>\n",
       "      <td>0.000</td>\n",
       "      <td>10.517</td>\n",
       "      <td>1.105</td>\n",
       "      <td>0.000</td>\n",
       "      <td>0.000</td>\n",
       "      <td>0.558</td>\n",
       "    </tr>\n",
       "    <tr>\n",
       "      <th>2019-01-01 06:00:00</th>\n",
       "      <td>-2.122</td>\n",
       "      <td>0.000</td>\n",
       "      <td>0.000</td>\n",
       "      <td>10.518</td>\n",
       "      <td>1.105</td>\n",
       "      <td>0.000</td>\n",
       "      <td>0.000</td>\n",
       "      <td>0.554</td>\n",
       "    </tr>\n",
       "    <tr>\n",
       "      <th>2019-01-01 07:00:00</th>\n",
       "      <td>-2.005</td>\n",
       "      <td>0.000</td>\n",
       "      <td>0.000</td>\n",
       "      <td>10.518</td>\n",
       "      <td>1.105</td>\n",
       "      <td>0.000</td>\n",
       "      <td>0.000</td>\n",
       "      <td>0.623</td>\n",
       "    </tr>\n",
       "    <tr>\n",
       "      <th>2019-01-01 08:00:00</th>\n",
       "      <td>-1.880</td>\n",
       "      <td>0.000</td>\n",
       "      <td>0.000</td>\n",
       "      <td>10.518</td>\n",
       "      <td>1.105</td>\n",
       "      <td>29.181</td>\n",
       "      <td>67.203</td>\n",
       "      <td>0.685</td>\n",
       "    </tr>\n",
       "    <tr>\n",
       "      <th>2019-01-01 09:00:00</th>\n",
       "      <td>-0.783</td>\n",
       "      <td>0.000</td>\n",
       "      <td>0.000</td>\n",
       "      <td>10.518</td>\n",
       "      <td>1.105</td>\n",
       "      <td>146.093</td>\n",
       "      <td>247.624</td>\n",
       "      <td>0.648</td>\n",
       "    </tr>\n",
       "    <tr>\n",
       "      <th>2019-01-01 10:00:00</th>\n",
       "      <td>0.598</td>\n",
       "      <td>0.000</td>\n",
       "      <td>0.000</td>\n",
       "      <td>10.510</td>\n",
       "      <td>1.103</td>\n",
       "      <td>258.566</td>\n",
       "      <td>388.082</td>\n",
       "      <td>0.674</td>\n",
       "    </tr>\n",
       "    <tr>\n",
       "      <th>2019-01-01 11:00:00</th>\n",
       "      <td>2.170</td>\n",
       "      <td>0.000</td>\n",
       "      <td>0.000</td>\n",
       "      <td>10.414</td>\n",
       "      <td>1.100</td>\n",
       "      <td>325.817</td>\n",
       "      <td>475.147</td>\n",
       "      <td>0.664</td>\n",
       "    </tr>\n",
       "    <tr>\n",
       "      <th>2019-01-01 12:00:00</th>\n",
       "      <td>3.027</td>\n",
       "      <td>0.000</td>\n",
       "      <td>0.000</td>\n",
       "      <td>10.228</td>\n",
       "      <td>1.097</td>\n",
       "      <td>327.312</td>\n",
       "      <td>502.851</td>\n",
       "      <td>0.569</td>\n",
       "    </tr>\n",
       "    <tr>\n",
       "      <th>2019-01-01 13:00:00</th>\n",
       "      <td>3.371</td>\n",
       "      <td>0.000</td>\n",
       "      <td>0.000</td>\n",
       "      <td>10.003</td>\n",
       "      <td>1.094</td>\n",
       "      <td>302.263</td>\n",
       "      <td>469.307</td>\n",
       "      <td>0.423</td>\n",
       "    </tr>\n",
       "    <tr>\n",
       "      <th>2019-01-01 14:00:00</th>\n",
       "      <td>3.280</td>\n",
       "      <td>0.000</td>\n",
       "      <td>0.000</td>\n",
       "      <td>9.838</td>\n",
       "      <td>1.092</td>\n",
       "      <td>259.673</td>\n",
       "      <td>376.723</td>\n",
       "      <td>0.154</td>\n",
       "    </tr>\n",
       "    <tr>\n",
       "      <th>2019-01-01 15:00:00</th>\n",
       "      <td>2.003</td>\n",
       "      <td>0.000</td>\n",
       "      <td>0.000</td>\n",
       "      <td>9.785</td>\n",
       "      <td>1.092</td>\n",
       "      <td>149.502</td>\n",
       "      <td>231.564</td>\n",
       "      <td>0.127</td>\n",
       "    </tr>\n",
       "    <tr>\n",
       "      <th>2019-01-01 16:00:00</th>\n",
       "      <td>-1.064</td>\n",
       "      <td>0.000</td>\n",
       "      <td>0.000</td>\n",
       "      <td>9.778</td>\n",
       "      <td>1.094</td>\n",
       "      <td>26.585</td>\n",
       "      <td>52.487</td>\n",
       "      <td>0.039</td>\n",
       "    </tr>\n",
       "    <tr>\n",
       "      <th>2019-01-01 17:00:00</th>\n",
       "      <td>-3.135</td>\n",
       "      <td>0.000</td>\n",
       "      <td>0.000</td>\n",
       "      <td>9.778</td>\n",
       "      <td>1.096</td>\n",
       "      <td>0.000</td>\n",
       "      <td>0.000</td>\n",
       "      <td>0.000</td>\n",
       "    </tr>\n",
       "    <tr>\n",
       "      <th>2019-01-01 18:00:00</th>\n",
       "      <td>-3.954</td>\n",
       "      <td>0.000</td>\n",
       "      <td>0.000</td>\n",
       "      <td>9.779</td>\n",
       "      <td>1.098</td>\n",
       "      <td>0.000</td>\n",
       "      <td>0.000</td>\n",
       "      <td>0.014</td>\n",
       "    </tr>\n",
       "    <tr>\n",
       "      <th>2019-01-01 19:00:00</th>\n",
       "      <td>-4.334</td>\n",
       "      <td>0.000</td>\n",
       "      <td>0.000</td>\n",
       "      <td>9.781</td>\n",
       "      <td>1.100</td>\n",
       "      <td>0.000</td>\n",
       "      <td>0.000</td>\n",
       "      <td>0.055</td>\n",
       "    </tr>\n",
       "    <tr>\n",
       "      <th>2019-01-01 20:00:00</th>\n",
       "      <td>-4.376</td>\n",
       "      <td>0.000</td>\n",
       "      <td>0.000</td>\n",
       "      <td>9.782</td>\n",
       "      <td>1.101</td>\n",
       "      <td>0.000</td>\n",
       "      <td>0.000</td>\n",
       "      <td>0.047</td>\n",
       "    </tr>\n",
       "    <tr>\n",
       "      <th>2019-01-01 21:00:00</th>\n",
       "      <td>-4.302</td>\n",
       "      <td>0.002</td>\n",
       "      <td>0.002</td>\n",
       "      <td>9.785</td>\n",
       "      <td>1.102</td>\n",
       "      <td>0.000</td>\n",
       "      <td>0.000</td>\n",
       "      <td>0.001</td>\n",
       "    </tr>\n",
       "    <tr>\n",
       "      <th>2019-01-01 22:00:00</th>\n",
       "      <td>-4.089</td>\n",
       "      <td>0.004</td>\n",
       "      <td>0.004</td>\n",
       "      <td>9.789</td>\n",
       "      <td>1.103</td>\n",
       "      <td>0.000</td>\n",
       "      <td>0.000</td>\n",
       "      <td>0.001</td>\n",
       "    </tr>\n",
       "    <tr>\n",
       "      <th>2019-01-01 23:00:00</th>\n",
       "      <td>-3.751</td>\n",
       "      <td>0.004</td>\n",
       "      <td>0.004</td>\n",
       "      <td>9.794</td>\n",
       "      <td>1.104</td>\n",
       "      <td>0.000</td>\n",
       "      <td>0.000</td>\n",
       "      <td>0.002</td>\n",
       "    </tr>\n",
       "    <tr>\n",
       "      <th>2019-01-02 00:00:00</th>\n",
       "      <td>-3.470</td>\n",
       "      <td>0.005</td>\n",
       "      <td>0.005</td>\n",
       "      <td>9.799</td>\n",
       "      <td>1.105</td>\n",
       "      <td>0.000</td>\n",
       "      <td>0.000</td>\n",
       "      <td>0.004</td>\n",
       "    </tr>\n",
       "    <tr>\n",
       "      <th>2019-01-02 01:00:00</th>\n",
       "      <td>-3.468</td>\n",
       "      <td>0.006</td>\n",
       "      <td>0.006</td>\n",
       "      <td>9.806</td>\n",
       "      <td>1.106</td>\n",
       "      <td>0.000</td>\n",
       "      <td>0.000</td>\n",
       "      <td>0.008</td>\n",
       "    </tr>\n",
       "    <tr>\n",
       "      <th>2019-01-02 02:00:00</th>\n",
       "      <td>-3.656</td>\n",
       "      <td>0.008</td>\n",
       "      <td>0.008</td>\n",
       "      <td>9.814</td>\n",
       "      <td>1.106</td>\n",
       "      <td>0.000</td>\n",
       "      <td>0.000</td>\n",
       "      <td>0.066</td>\n",
       "    </tr>\n",
       "    <tr>\n",
       "      <th>2019-01-02 03:00:00</th>\n",
       "      <td>-3.964</td>\n",
       "      <td>0.010</td>\n",
       "      <td>0.009</td>\n",
       "      <td>9.820</td>\n",
       "      <td>1.107</td>\n",
       "      <td>0.000</td>\n",
       "      <td>0.000</td>\n",
       "      <td>0.110</td>\n",
       "    </tr>\n",
       "    <tr>\n",
       "      <th>2019-01-02 04:00:00</th>\n",
       "      <td>-4.332</td>\n",
       "      <td>0.012</td>\n",
       "      <td>0.012</td>\n",
       "      <td>9.830</td>\n",
       "      <td>1.107</td>\n",
       "      <td>0.000</td>\n",
       "      <td>0.000</td>\n",
       "      <td>0.083</td>\n",
       "    </tr>\n",
       "    <tr>\n",
       "      <th>2019-01-02 05:00:00</th>\n",
       "      <td>-4.595</td>\n",
       "      <td>0.014</td>\n",
       "      <td>0.014</td>\n",
       "      <td>9.842</td>\n",
       "      <td>1.107</td>\n",
       "      <td>0.000</td>\n",
       "      <td>0.000</td>\n",
       "      <td>0.038</td>\n",
       "    </tr>\n",
       "    <tr>\n",
       "      <th>2019-01-02 06:00:00</th>\n",
       "      <td>-4.444</td>\n",
       "      <td>0.014</td>\n",
       "      <td>0.013</td>\n",
       "      <td>9.855</td>\n",
       "      <td>1.108</td>\n",
       "      <td>0.000</td>\n",
       "      <td>0.000</td>\n",
       "      <td>0.052</td>\n",
       "    </tr>\n",
       "    <tr>\n",
       "      <th>...</th>\n",
       "      <td>...</td>\n",
       "      <td>...</td>\n",
       "      <td>...</td>\n",
       "      <td>...</td>\n",
       "      <td>...</td>\n",
       "      <td>...</td>\n",
       "      <td>...</td>\n",
       "      <td>...</td>\n",
       "    </tr>\n",
       "    <tr>\n",
       "      <th>2019-12-30 19:00:00</th>\n",
       "      <td>-1.243</td>\n",
       "      <td>0.000</td>\n",
       "      <td>0.000</td>\n",
       "      <td>199.722</td>\n",
       "      <td>1.112</td>\n",
       "      <td>0.000</td>\n",
       "      <td>0.000</td>\n",
       "      <td>0.000</td>\n",
       "    </tr>\n",
       "    <tr>\n",
       "      <th>2019-12-30 20:00:00</th>\n",
       "      <td>-1.220</td>\n",
       "      <td>0.000</td>\n",
       "      <td>0.000</td>\n",
       "      <td>199.722</td>\n",
       "      <td>1.111</td>\n",
       "      <td>0.000</td>\n",
       "      <td>0.000</td>\n",
       "      <td>0.000</td>\n",
       "    </tr>\n",
       "    <tr>\n",
       "      <th>2019-12-30 21:00:00</th>\n",
       "      <td>-1.173</td>\n",
       "      <td>0.000</td>\n",
       "      <td>0.000</td>\n",
       "      <td>199.722</td>\n",
       "      <td>1.110</td>\n",
       "      <td>0.000</td>\n",
       "      <td>0.000</td>\n",
       "      <td>0.000</td>\n",
       "    </tr>\n",
       "    <tr>\n",
       "      <th>2019-12-30 22:00:00</th>\n",
       "      <td>-0.988</td>\n",
       "      <td>0.000</td>\n",
       "      <td>0.000</td>\n",
       "      <td>199.722</td>\n",
       "      <td>1.108</td>\n",
       "      <td>0.000</td>\n",
       "      <td>0.000</td>\n",
       "      <td>0.006</td>\n",
       "    </tr>\n",
       "    <tr>\n",
       "      <th>2019-12-30 23:00:00</th>\n",
       "      <td>-0.866</td>\n",
       "      <td>0.000</td>\n",
       "      <td>0.000</td>\n",
       "      <td>199.722</td>\n",
       "      <td>1.107</td>\n",
       "      <td>0.000</td>\n",
       "      <td>0.000</td>\n",
       "      <td>0.006</td>\n",
       "    </tr>\n",
       "    <tr>\n",
       "      <th>2019-12-31 00:00:00</th>\n",
       "      <td>-1.520</td>\n",
       "      <td>0.000</td>\n",
       "      <td>0.000</td>\n",
       "      <td>199.723</td>\n",
       "      <td>1.106</td>\n",
       "      <td>0.000</td>\n",
       "      <td>0.000</td>\n",
       "      <td>0.000</td>\n",
       "    </tr>\n",
       "    <tr>\n",
       "      <th>2019-12-31 01:00:00</th>\n",
       "      <td>-1.940</td>\n",
       "      <td>0.000</td>\n",
       "      <td>0.000</td>\n",
       "      <td>199.723</td>\n",
       "      <td>1.105</td>\n",
       "      <td>0.000</td>\n",
       "      <td>0.000</td>\n",
       "      <td>0.000</td>\n",
       "    </tr>\n",
       "    <tr>\n",
       "      <th>2019-12-31 02:00:00</th>\n",
       "      <td>-2.141</td>\n",
       "      <td>0.000</td>\n",
       "      <td>0.000</td>\n",
       "      <td>199.724</td>\n",
       "      <td>1.104</td>\n",
       "      <td>0.000</td>\n",
       "      <td>0.000</td>\n",
       "      <td>0.000</td>\n",
       "    </tr>\n",
       "    <tr>\n",
       "      <th>2019-12-31 03:00:00</th>\n",
       "      <td>-2.516</td>\n",
       "      <td>0.000</td>\n",
       "      <td>0.000</td>\n",
       "      <td>199.724</td>\n",
       "      <td>1.103</td>\n",
       "      <td>0.000</td>\n",
       "      <td>0.000</td>\n",
       "      <td>0.000</td>\n",
       "    </tr>\n",
       "    <tr>\n",
       "      <th>2019-12-31 04:00:00</th>\n",
       "      <td>-2.870</td>\n",
       "      <td>0.000</td>\n",
       "      <td>0.000</td>\n",
       "      <td>199.725</td>\n",
       "      <td>1.102</td>\n",
       "      <td>0.000</td>\n",
       "      <td>0.000</td>\n",
       "      <td>0.002</td>\n",
       "    </tr>\n",
       "    <tr>\n",
       "      <th>2019-12-31 05:00:00</th>\n",
       "      <td>-3.112</td>\n",
       "      <td>0.000</td>\n",
       "      <td>0.000</td>\n",
       "      <td>199.725</td>\n",
       "      <td>1.103</td>\n",
       "      <td>0.000</td>\n",
       "      <td>0.000</td>\n",
       "      <td>0.023</td>\n",
       "    </tr>\n",
       "    <tr>\n",
       "      <th>2019-12-31 06:00:00</th>\n",
       "      <td>-3.170</td>\n",
       "      <td>0.000</td>\n",
       "      <td>0.000</td>\n",
       "      <td>199.725</td>\n",
       "      <td>1.103</td>\n",
       "      <td>0.000</td>\n",
       "      <td>0.000</td>\n",
       "      <td>0.015</td>\n",
       "    </tr>\n",
       "    <tr>\n",
       "      <th>2019-12-31 07:00:00</th>\n",
       "      <td>-3.246</td>\n",
       "      <td>0.000</td>\n",
       "      <td>0.000</td>\n",
       "      <td>199.726</td>\n",
       "      <td>1.103</td>\n",
       "      <td>0.000</td>\n",
       "      <td>0.000</td>\n",
       "      <td>0.016</td>\n",
       "    </tr>\n",
       "    <tr>\n",
       "      <th>2019-12-31 08:00:00</th>\n",
       "      <td>-3.235</td>\n",
       "      <td>0.001</td>\n",
       "      <td>0.001</td>\n",
       "      <td>199.727</td>\n",
       "      <td>1.104</td>\n",
       "      <td>31.701</td>\n",
       "      <td>65.763</td>\n",
       "      <td>0.113</td>\n",
       "    </tr>\n",
       "    <tr>\n",
       "      <th>2019-12-31 09:00:00</th>\n",
       "      <td>-2.051</td>\n",
       "      <td>0.001</td>\n",
       "      <td>0.001</td>\n",
       "      <td>199.728</td>\n",
       "      <td>1.103</td>\n",
       "      <td>155.769</td>\n",
       "      <td>245.735</td>\n",
       "      <td>0.334</td>\n",
       "    </tr>\n",
       "    <tr>\n",
       "      <th>2019-12-31 10:00:00</th>\n",
       "      <td>0.273</td>\n",
       "      <td>0.000</td>\n",
       "      <td>0.000</td>\n",
       "      <td>199.722</td>\n",
       "      <td>1.101</td>\n",
       "      <td>262.087</td>\n",
       "      <td>386.061</td>\n",
       "      <td>0.602</td>\n",
       "    </tr>\n",
       "    <tr>\n",
       "      <th>2019-12-31 11:00:00</th>\n",
       "      <td>2.609</td>\n",
       "      <td>0.000</td>\n",
       "      <td>0.000</td>\n",
       "      <td>199.706</td>\n",
       "      <td>1.099</td>\n",
       "      <td>335.102</td>\n",
       "      <td>473.044</td>\n",
       "      <td>0.356</td>\n",
       "    </tr>\n",
       "    <tr>\n",
       "      <th>2019-12-31 12:00:00</th>\n",
       "      <td>3.497</td>\n",
       "      <td>0.000</td>\n",
       "      <td>0.000</td>\n",
       "      <td>199.686</td>\n",
       "      <td>1.095</td>\n",
       "      <td>374.623</td>\n",
       "      <td>500.707</td>\n",
       "      <td>0.124</td>\n",
       "    </tr>\n",
       "    <tr>\n",
       "      <th>2019-12-31 13:00:00</th>\n",
       "      <td>3.753</td>\n",
       "      <td>0.000</td>\n",
       "      <td>0.000</td>\n",
       "      <td>199.666</td>\n",
       "      <td>1.093</td>\n",
       "      <td>346.376</td>\n",
       "      <td>467.182</td>\n",
       "      <td>0.601</td>\n",
       "    </tr>\n",
       "    <tr>\n",
       "      <th>2019-12-31 14:00:00</th>\n",
       "      <td>3.492</td>\n",
       "      <td>0.000</td>\n",
       "      <td>0.000</td>\n",
       "      <td>199.649</td>\n",
       "      <td>1.092</td>\n",
       "      <td>259.463</td>\n",
       "      <td>374.702</td>\n",
       "      <td>0.861</td>\n",
       "    </tr>\n",
       "    <tr>\n",
       "      <th>2019-12-31 15:00:00</th>\n",
       "      <td>2.792</td>\n",
       "      <td>0.000</td>\n",
       "      <td>0.000</td>\n",
       "      <td>199.636</td>\n",
       "      <td>1.092</td>\n",
       "      <td>133.121</td>\n",
       "      <td>229.626</td>\n",
       "      <td>0.940</td>\n",
       "    </tr>\n",
       "    <tr>\n",
       "      <th>2019-12-31 16:00:00</th>\n",
       "      <td>1.282</td>\n",
       "      <td>0.000</td>\n",
       "      <td>0.000</td>\n",
       "      <td>199.628</td>\n",
       "      <td>1.092</td>\n",
       "      <td>20.110</td>\n",
       "      <td>51.169</td>\n",
       "      <td>0.941</td>\n",
       "    </tr>\n",
       "    <tr>\n",
       "      <th>2019-12-31 17:00:00</th>\n",
       "      <td>-0.501</td>\n",
       "      <td>0.000</td>\n",
       "      <td>0.000</td>\n",
       "      <td>199.626</td>\n",
       "      <td>1.092</td>\n",
       "      <td>0.000</td>\n",
       "      <td>0.000</td>\n",
       "      <td>0.946</td>\n",
       "    </tr>\n",
       "    <tr>\n",
       "      <th>2019-12-31 18:00:00</th>\n",
       "      <td>-1.076</td>\n",
       "      <td>0.000</td>\n",
       "      <td>0.000</td>\n",
       "      <td>199.626</td>\n",
       "      <td>1.093</td>\n",
       "      <td>0.000</td>\n",
       "      <td>0.000</td>\n",
       "      <td>0.946</td>\n",
       "    </tr>\n",
       "    <tr>\n",
       "      <th>2019-12-31 19:00:00</th>\n",
       "      <td>-1.511</td>\n",
       "      <td>0.000</td>\n",
       "      <td>0.000</td>\n",
       "      <td>199.626</td>\n",
       "      <td>1.094</td>\n",
       "      <td>0.000</td>\n",
       "      <td>0.000</td>\n",
       "      <td>0.934</td>\n",
       "    </tr>\n",
       "    <tr>\n",
       "      <th>2019-12-31 20:00:00</th>\n",
       "      <td>-1.808</td>\n",
       "      <td>0.000</td>\n",
       "      <td>0.000</td>\n",
       "      <td>199.626</td>\n",
       "      <td>1.095</td>\n",
       "      <td>0.000</td>\n",
       "      <td>0.000</td>\n",
       "      <td>0.566</td>\n",
       "    </tr>\n",
       "    <tr>\n",
       "      <th>2019-12-31 21:00:00</th>\n",
       "      <td>-1.897</td>\n",
       "      <td>0.000</td>\n",
       "      <td>0.000</td>\n",
       "      <td>199.627</td>\n",
       "      <td>1.096</td>\n",
       "      <td>0.000</td>\n",
       "      <td>0.000</td>\n",
       "      <td>0.320</td>\n",
       "    </tr>\n",
       "    <tr>\n",
       "      <th>2019-12-31 22:00:00</th>\n",
       "      <td>-1.513</td>\n",
       "      <td>0.000</td>\n",
       "      <td>0.000</td>\n",
       "      <td>199.628</td>\n",
       "      <td>1.095</td>\n",
       "      <td>0.000</td>\n",
       "      <td>0.000</td>\n",
       "      <td>0.455</td>\n",
       "    </tr>\n",
       "    <tr>\n",
       "      <th>2019-12-31 23:00:00</th>\n",
       "      <td>-0.867</td>\n",
       "      <td>0.000</td>\n",
       "      <td>0.000</td>\n",
       "      <td>199.629</td>\n",
       "      <td>1.094</td>\n",
       "      <td>0.000</td>\n",
       "      <td>0.000</td>\n",
       "      <td>0.617</td>\n",
       "    </tr>\n",
       "    <tr>\n",
       "      <th>2020-01-01 00:00:00</th>\n",
       "      <td>-0.412</td>\n",
       "      <td>0.000</td>\n",
       "      <td>0.000</td>\n",
       "      <td>199.630</td>\n",
       "      <td>1.093</td>\n",
       "      <td>0.000</td>\n",
       "      <td>0.000</td>\n",
       "      <td>0.872</td>\n",
       "    </tr>\n",
       "  </tbody>\n",
       "</table>\n",
       "<p>8760 rows × 8 columns</p>\n",
       "</div>"
      ],
      "text/plain": [
       "                     temperature  precipitation  snowfall  snow_mass  \\\n",
       "timestamp                                                              \n",
       "2019-01-01 01:00:00       -2.542          0.001       0.0     10.513   \n",
       "2019-01-01 02:00:00       -2.190          0.001       0.0     10.515   \n",
       "2019-01-01 03:00:00       -2.182          0.001       0.0     10.516   \n",
       "2019-01-01 04:00:00       -2.230          0.000       0.0     10.517   \n",
       "2019-01-01 05:00:00       -2.113          0.000       0.0     10.517   \n",
       "...                          ...            ...       ...        ...   \n",
       "2019-12-31 20:00:00       -1.808          0.000       0.0    199.626   \n",
       "2019-12-31 21:00:00       -1.897          0.000       0.0    199.627   \n",
       "2019-12-31 22:00:00       -1.513          0.000       0.0    199.628   \n",
       "2019-12-31 23:00:00       -0.867          0.000       0.0    199.629   \n",
       "2020-01-01 00:00:00       -0.412          0.000       0.0    199.630   \n",
       "\n",
       "                     air_density  radiation_surface  radiation_toa  \\\n",
       "timestamp                                                            \n",
       "2019-01-01 01:00:00        1.106                0.0            0.0   \n",
       "2019-01-01 02:00:00        1.106                0.0            0.0   \n",
       "2019-01-01 03:00:00        1.106                0.0            0.0   \n",
       "2019-01-01 04:00:00        1.106                0.0            0.0   \n",
       "2019-01-01 05:00:00        1.105                0.0            0.0   \n",
       "...                          ...                ...            ...   \n",
       "2019-12-31 20:00:00        1.095                0.0            0.0   \n",
       "2019-12-31 21:00:00        1.096                0.0            0.0   \n",
       "2019-12-31 22:00:00        1.095                0.0            0.0   \n",
       "2019-12-31 23:00:00        1.094                0.0            0.0   \n",
       "2020-01-01 00:00:00        1.093                0.0            0.0   \n",
       "\n",
       "                     cloud_cover  \n",
       "timestamp                         \n",
       "2019-01-01 01:00:00        0.001  \n",
       "2019-01-01 02:00:00        0.043  \n",
       "2019-01-01 03:00:00        0.171  \n",
       "2019-01-01 04:00:00        0.379  \n",
       "2019-01-01 05:00:00        0.558  \n",
       "...                          ...  \n",
       "2019-12-31 20:00:00        0.566  \n",
       "2019-12-31 21:00:00        0.320  \n",
       "2019-12-31 22:00:00        0.455  \n",
       "2019-12-31 23:00:00        0.617  \n",
       "2020-01-01 00:00:00        0.872  \n",
       "\n",
       "[8760 rows x 8 columns]"
      ]
     },
     "execution_count": 14,
     "metadata": {},
     "output_type": "execute_result"
    }
   ],
   "source": [
    "data_weather"
   ]
  },
  {
   "cell_type": "markdown",
   "metadata": {
    "cell_id": "86ce26b3-15bf-47cc-95a9-cc47e0760638",
    "tags": []
   },
   "source": [
    "Find Rows with missing Data"
   ]
  },
  {
   "cell_type": "code",
   "execution_count": 15,
   "metadata": {
    "cell_id": "314614c0-89c6-48f9-b0fd-b7cd91d4cd5e",
    "tags": []
   },
   "outputs": [
    {
     "data": {
      "application/vnd.deepnote.dataframe+json": {
       "numColumns": 8,
       "numElements": 1,
       "variableDetails": {
        "columns": [
         {
          "name": "temperature",
          "stats": {
           "count": 0,
           "nan_count": 1
          }
         },
         {
          "name": "precipitation",
          "stats": {
           "count": 0,
           "nan_count": 1
          }
         },
         {
          "name": "snowfall",
          "stats": {
           "count": 0,
           "nan_count": 1
          }
         },
         {
          "name": "snow_mass",
          "stats": {
           "count": 0,
           "nan_count": 1
          }
         },
         {
          "name": "air_density",
          "stats": {
           "count": 0,
           "nan_count": 1
          }
         },
         {
          "name": "radiation_surface",
          "stats": {
           "count": 0,
           "nan_count": 1
          }
         },
         {
          "name": "radiation_toa",
          "stats": {
           "count": 0,
           "nan_count": 1
          }
         },
         {
          "name": "cloud_cover",
          "stats": {
           "count": 0,
           "nan_count": 1
          }
         }
        ],
        "dataframe": {
         "2019-03-31 02:00:00": {
          "air_density": "nan",
          "cloud_cover": "nan",
          "precipitation": "nan",
          "radiation_surface": "nan",
          "radiation_toa": "nan",
          "snow_mass": "nan",
          "snowfall": "nan",
          "temperature": "nan"
         }
        },
        "frequencyInfo": [
         {
          "frequencyData": [
           {
            "frequency": 1,
            "name": "Missing"
           }
          ],
          "type": "freq"
         },
         {
          "frequencyData": [
           {
            "frequency": 1,
            "name": "Missing"
           }
          ],
          "type": "freq"
         },
         {
          "frequencyData": [
           {
            "frequency": 1,
            "name": "Missing"
           }
          ],
          "type": "freq"
         },
         {
          "frequencyData": [
           {
            "frequency": 1,
            "name": "Missing"
           }
          ],
          "type": "freq"
         },
         {
          "frequencyData": [
           {
            "frequency": 1,
            "name": "Missing"
           }
          ],
          "type": "freq"
         },
         {
          "frequencyData": [
           {
            "frequency": 1,
            "name": "Missing"
           }
          ],
          "type": "freq"
         },
         {
          "frequencyData": [
           {
            "frequency": 1,
            "name": "Missing"
           }
          ],
          "type": "freq"
         },
         {
          "frequencyData": [
           {
            "frequency": 1,
            "name": "Missing"
           }
          ],
          "type": "freq"
         }
        ]
       }
      },
      "text/html": [
       "<div>\n",
       "<style scoped>\n",
       "    .dataframe tbody tr th:only-of-type {\n",
       "        vertical-align: middle;\n",
       "    }\n",
       "\n",
       "    .dataframe tbody tr th {\n",
       "        vertical-align: top;\n",
       "    }\n",
       "\n",
       "    .dataframe thead th {\n",
       "        text-align: right;\n",
       "    }\n",
       "</style>\n",
       "<table border=\"1\" class=\"dataframe\">\n",
       "  <thead>\n",
       "    <tr style=\"text-align: right;\">\n",
       "      <th></th>\n",
       "      <th>temperature</th>\n",
       "      <th>precipitation</th>\n",
       "      <th>snowfall</th>\n",
       "      <th>snow_mass</th>\n",
       "      <th>air_density</th>\n",
       "      <th>radiation_surface</th>\n",
       "      <th>radiation_toa</th>\n",
       "      <th>cloud_cover</th>\n",
       "    </tr>\n",
       "    <tr>\n",
       "      <th>timestamp</th>\n",
       "      <th></th>\n",
       "      <th></th>\n",
       "      <th></th>\n",
       "      <th></th>\n",
       "      <th></th>\n",
       "      <th></th>\n",
       "      <th></th>\n",
       "      <th></th>\n",
       "    </tr>\n",
       "  </thead>\n",
       "  <tbody>\n",
       "    <tr>\n",
       "      <th>2019-03-31 02:00:00</th>\n",
       "      <td>NaN</td>\n",
       "      <td>NaN</td>\n",
       "      <td>NaN</td>\n",
       "      <td>NaN</td>\n",
       "      <td>NaN</td>\n",
       "      <td>NaN</td>\n",
       "      <td>NaN</td>\n",
       "      <td>NaN</td>\n",
       "    </tr>\n",
       "  </tbody>\n",
       "</table>\n",
       "</div>"
      ],
      "text/plain": [
       "                     temperature  precipitation  snowfall  snow_mass  \\\n",
       "timestamp                                                              \n",
       "2019-03-31 02:00:00          NaN            NaN       NaN        NaN   \n",
       "\n",
       "                     air_density  radiation_surface  radiation_toa  \\\n",
       "timestamp                                                            \n",
       "2019-03-31 02:00:00          NaN                NaN            NaN   \n",
       "\n",
       "                     cloud_cover  \n",
       "timestamp                         \n",
       "2019-03-31 02:00:00          NaN  "
      ]
     },
     "execution_count": 15,
     "metadata": {},
     "output_type": "execute_result"
    }
   ],
   "source": [
    "data_weather[data_weather.isnull().any(axis=1)]"
   ]
  },
  {
   "cell_type": "markdown",
   "metadata": {
    "cell_id": "30faf199-5a24-43af-8eb7-f4697efc974d",
    "tags": []
   },
   "source": [
    "Look at the data of this day (Raw output) --> Only temperature has a value, which would not be correct, if we simply\n",
    "take the average of the time before and after the missing values "
   ]
  },
  {
   "cell_type": "code",
   "execution_count": 16,
   "metadata": {
    "cell_id": "0c48eef5-a4c7-46ac-bc8f-a59d7f47ff8b",
    "tags": []
   },
   "outputs": [
    {
     "data": {
      "application/vnd.deepnote.dataframe+json": {
       "numColumns": 8,
       "numElements": 24,
       "variableDetails": {
        "columns": [
         {
          "name": "temperature",
          "stats": {
           "25%": 3.5505000000000004,
           "50%": 6.735,
           "75%": 10.713999999999999,
           "count": 23,
           "max": 11.964,
           "mean": 6.966000000000001,
           "min": 1.534,
           "nan_count": 1,
           "std": 3.675719397738229
          }
         },
         {
          "name": "precipitation",
          "stats": {
           "25%": 0,
           "50%": 0,
           "75%": 0,
           "count": 23,
           "max": 0,
           "mean": 0,
           "min": 0,
           "nan_count": 1,
           "std": 0
          }
         },
         {
          "name": "snowfall",
          "stats": {
           "25%": 0,
           "50%": 0,
           "75%": 0,
           "count": 23,
           "max": 0,
           "mean": 0,
           "min": 0,
           "nan_count": 1,
           "std": 0
          }
         },
         {
          "name": "snow_mass",
          "stats": {
           "25%": 0,
           "50%": 0.012,
           "75%": 0.019,
           "count": 23,
           "max": 0.019,
           "mean": 0.010347826086956521,
           "min": 0,
           "nan_count": 1,
           "std": 0.008579090308059124
          }
         },
         {
          "name": "air_density",
          "stats": {
           "25%": 1.0635,
           "50%": 1.069,
           "75%": 1.081,
           "count": 23,
           "max": 1.084,
           "mean": 1.0716521739130433,
           "min": 1.06,
           "nan_count": 1,
           "std": 0.009153284038838328
          }
         },
         {
          "name": "radiation_surface",
          "stats": {
           "25%": 0,
           "50%": 42.887,
           "75%": 568.0385000000001,
           "count": 23,
           "max": 811.187,
           "mean": 269.2174347826087,
           "min": 0,
           "nan_count": 1,
           "std": 319.9102883239764
          }
         },
         {
          "name": "radiation_toa",
          "stats": {
           "25%": 0,
           "50%": 81.868,
           "75%": 734.2495,
           "count": 23,
           "max": 1010.66,
           "mean": 350.09421739130437,
           "min": 0,
           "nan_count": 1,
           "std": 401.4529782474198
          }
         },
         {
          "name": "cloud_cover",
          "stats": {
           "25%": 0,
           "50%": 0.019,
           "75%": 0.2755,
           "count": 23,
           "max": 0.612,
           "mean": 0.15108695652173915,
           "min": 0,
           "nan_count": 1,
           "std": 0.22958062815084027
          }
         }
        ],
        "dataframe": {
         "2019-03-31 00:00:00": {
          "air_density": 1.081,
          "cloud_cover": 0,
          "precipitation": 0,
          "radiation_surface": 0,
          "radiation_toa": 0,
          "snow_mass": 0.019,
          "snowfall": 0,
          "temperature": 3.6910000000000003
         },
         "2019-03-31 01:00:00": {
          "air_density": 1.081,
          "cloud_cover": 0,
          "precipitation": 0,
          "radiation_surface": 0,
          "radiation_toa": 0,
          "snow_mass": 0.019,
          "snowfall": 0,
          "temperature": 3.41
         },
         "2019-03-31 05:00:00": {
          "air_density": 1.083,
          "cloud_cover": 0,
          "precipitation": 0,
          "radiation_surface": 0,
          "radiation_toa": 0,
          "snow_mass": 0.019,
          "snowfall": 0,
          "temperature": 2.2880000000000003
         },
         "2019-03-31 08:00:00": {
          "air_density": 1.084,
          "cloud_cover": 0,
          "precipitation": 0,
          "radiation_surface": 219.47,
          "radiation_toa": 321.597,
          "snow_mass": 0.019,
          "snowfall": 0,
          "temperature": 3.908
         },
         "2019-03-31 09:00:00": {
          "air_density": 1.079,
          "cloud_cover": 0.071,
          "precipitation": 0,
          "radiation_surface": 414.591,
          "radiation_toa": 548.423,
          "snow_mass": 0.019,
          "snowfall": 0,
          "temperature": 6.763999999999999
         },
         "2019-03-31 11:00:00": {
          "air_density": 1.068,
          "cloud_cover": 0.532,
          "precipitation": 0,
          "radiation_surface": 714.297,
          "radiation_toa": 889.8560000000001,
          "snow_mass": 0.015,
          "snowfall": 0,
          "temperature": 10.460999999999999
         },
         "2019-03-31 13:00:00": {
          "air_density": 1.064,
          "cloud_cover": 0.5670000000000001,
          "precipitation": 0,
          "radiation_surface": 811.187,
          "radiation_toa": 1010.66,
          "snow_mass": 0.01,
          "snowfall": 0,
          "temperature": 11.748
         },
         "2019-03-31 16:00:00": {
          "air_density": 1.06,
          "cloud_cover": 0.19899999999999998,
          "precipitation": 0,
          "radiation_surface": 549.7330000000001,
          "radiation_toa": 726.279,
          "snow_mass": 0.001,
          "snowfall": 0,
          "temperature": 11.546
         },
         "2019-03-31 18:00:00": {
          "air_density": 1.061,
          "cloud_cover": 0.023,
          "precipitation": 0,
          "radiation_surface": 189.357,
          "radiation_toa": 300.683,
          "snow_mass": 0,
          "snowfall": 0,
          "temperature": 9.592
         },
         "2019-03-31 21:00:00": {
          "air_density": 1.067,
          "cloud_cover": 0.002,
          "precipitation": 0,
          "radiation_surface": 0,
          "radiation_toa": 0,
          "snow_mass": 0,
          "snowfall": 0,
          "temperature": 6.62
         }
        },
        "frequencyInfo": [
         {
          "frequencyData": [
           {
            "x": 1.534,
            "y": 3
           },
           {
            "x": 2.577,
            "y": 3
           },
           {
            "x": 3.62,
            "y": 2
           },
           {
            "x": 4.662999999999999,
            "y": 1
           },
           {
            "x": 5.7059999999999995,
            "y": 3
           },
           {
            "x": 6.749,
            "y": 2
           },
           {
            "x": 7.791999999999999,
            "y": 0
           },
           {
            "x": 8.834999999999999,
            "y": 2
           },
           {
            "x": 9.878,
            "y": 1
           },
           {
            "x": 10.921,
            "y": 6
           }
          ],
          "type": "hist"
         },
         {
          "frequencyData": [
           {
            "x": -0.5,
            "y": 0
           },
           {
            "x": -0.4,
            "y": 0
           },
           {
            "x": -0.3,
            "y": 0
           },
           {
            "x": -0.19999999999999996,
            "y": 0
           },
           {
            "x": -0.09999999999999998,
            "y": 0
           },
           {
            "x": 0,
            "y": 23
           },
           {
            "x": 0.10000000000000009,
            "y": 0
           },
           {
            "x": 0.20000000000000007,
            "y": 0
           },
           {
            "x": 0.30000000000000004,
            "y": 0
           },
           {
            "x": 0.4,
            "y": 0
           }
          ],
          "type": "hist"
         },
         {
          "frequencyData": [
           {
            "x": -0.5,
            "y": 0
           },
           {
            "x": -0.4,
            "y": 0
           },
           {
            "x": -0.3,
            "y": 0
           },
           {
            "x": -0.19999999999999996,
            "y": 0
           },
           {
            "x": -0.09999999999999998,
            "y": 0
           },
           {
            "x": 0,
            "y": 23
           },
           {
            "x": 0.10000000000000009,
            "y": 0
           },
           {
            "x": 0.20000000000000007,
            "y": 0
           },
           {
            "x": 0.30000000000000004,
            "y": 0
           },
           {
            "x": 0.4,
            "y": 0
           }
          ],
          "type": "hist"
         },
         {
          "frequencyData": [
           {
            "x": 0,
            "y": 8
           },
           {
            "x": 0.0019,
            "y": 0
           },
           {
            "x": 0.0038,
            "y": 1
           },
           {
            "x": 0.0057,
            "y": 1
           },
           {
            "x": 0.0076,
            "y": 0
           },
           {
            "x": 0.0095,
            "y": 1
           },
           {
            "x": 0.0114,
            "y": 1
           },
           {
            "x": 0.0133,
            "y": 1
           },
           {
            "x": 0.0152,
            "y": 1
           },
           {
            "x": 0.0171,
            "y": 9
           }
          ],
          "type": "hist"
         },
         {
          "frequencyData": [
           {
            "x": 1.06,
            "y": 5
           },
           {
            "x": 1.0624,
            "y": 2
           },
           {
            "x": 1.0648,
            "y": 3
           },
           {
            "x": 1.0672000000000001,
            "y": 2
           },
           {
            "x": 1.0696,
            "y": 1
           },
           {
            "x": 1.072,
            "y": 1
           },
           {
            "x": 1.0744,
            "y": 0
           },
           {
            "x": 1.0768,
            "y": 1
           },
           {
            "x": 1.0792000000000002,
            "y": 3
           },
           {
            "x": 1.0816000000000001,
            "y": 5
           }
          ],
          "type": "hist"
         },
         {
          "frequencyData": [
           {
            "x": 0,
            "y": 12
           },
           {
            "x": 81.1187,
            "y": 0
           },
           {
            "x": 162.2374,
            "y": 2
           },
           {
            "x": 243.35610000000003,
            "y": 0
           },
           {
            "x": 324.4748,
            "y": 1
           },
           {
            "x": 405.5935,
            "y": 1
           },
           {
            "x": 486.71220000000005,
            "y": 1
           },
           {
            "x": 567.8309,
            "y": 1
           },
           {
            "x": 648.9496,
            "y": 2
           },
           {
            "x": 730.0683,
            "y": 3
           }
          ],
          "type": "hist"
         },
         {
          "frequencyData": [
           {
            "x": 0,
            "y": 12
           },
           {
            "x": 101.066,
            "y": 0
           },
           {
            "x": 202.132,
            "y": 1
           },
           {
            "x": 303.198,
            "y": 1
           },
           {
            "x": 404.264,
            "y": 0
           },
           {
            "x": 505.33000000000004,
            "y": 2
           },
           {
            "x": 606.396,
            "y": 0
           },
           {
            "x": 707.462,
            "y": 2
           },
           {
            "x": 808.528,
            "y": 2
           },
           {
            "x": 909.594,
            "y": 3
           }
          ],
          "type": "hist"
         },
         {
          "frequencyData": [
           {
            "x": 0,
            "y": 15
           },
           {
            "x": 0.0612,
            "y": 1
           },
           {
            "x": 0.1224,
            "y": 0
           },
           {
            "x": 0.18359999999999999,
            "y": 1
           },
           {
            "x": 0.2448,
            "y": 0
           },
           {
            "x": 0.306,
            "y": 1
           },
           {
            "x": 0.36719999999999997,
            "y": 0
           },
           {
            "x": 0.4284,
            "y": 1
           },
           {
            "x": 0.4896,
            "y": 1
           },
           {
            "x": 0.5508,
            "y": 3
           }
          ],
          "type": "hist"
         }
        ]
       }
      },
      "text/html": [
       "<div>\n",
       "<style scoped>\n",
       "    .dataframe tbody tr th:only-of-type {\n",
       "        vertical-align: middle;\n",
       "    }\n",
       "\n",
       "    .dataframe tbody tr th {\n",
       "        vertical-align: top;\n",
       "    }\n",
       "\n",
       "    .dataframe thead th {\n",
       "        text-align: right;\n",
       "    }\n",
       "</style>\n",
       "<table border=\"1\" class=\"dataframe\">\n",
       "  <thead>\n",
       "    <tr style=\"text-align: right;\">\n",
       "      <th></th>\n",
       "      <th>temperature</th>\n",
       "      <th>precipitation</th>\n",
       "      <th>snowfall</th>\n",
       "      <th>snow_mass</th>\n",
       "      <th>air_density</th>\n",
       "      <th>radiation_surface</th>\n",
       "      <th>radiation_toa</th>\n",
       "      <th>cloud_cover</th>\n",
       "    </tr>\n",
       "    <tr>\n",
       "      <th>timestamp</th>\n",
       "      <th></th>\n",
       "      <th></th>\n",
       "      <th></th>\n",
       "      <th></th>\n",
       "      <th></th>\n",
       "      <th></th>\n",
       "      <th></th>\n",
       "      <th></th>\n",
       "    </tr>\n",
       "  </thead>\n",
       "  <tbody>\n",
       "    <tr>\n",
       "      <th>2019-03-31 00:00:00</th>\n",
       "      <td>3.691</td>\n",
       "      <td>0.0</td>\n",
       "      <td>0.0</td>\n",
       "      <td>0.019</td>\n",
       "      <td>1.081</td>\n",
       "      <td>0.000</td>\n",
       "      <td>0.000</td>\n",
       "      <td>0.000</td>\n",
       "    </tr>\n",
       "    <tr>\n",
       "      <th>2019-03-31 01:00:00</th>\n",
       "      <td>3.410</td>\n",
       "      <td>0.0</td>\n",
       "      <td>0.0</td>\n",
       "      <td>0.019</td>\n",
       "      <td>1.081</td>\n",
       "      <td>0.000</td>\n",
       "      <td>0.000</td>\n",
       "      <td>0.000</td>\n",
       "    </tr>\n",
       "    <tr>\n",
       "      <th>2019-03-31 02:00:00</th>\n",
       "      <td>NaN</td>\n",
       "      <td>NaN</td>\n",
       "      <td>NaN</td>\n",
       "      <td>NaN</td>\n",
       "      <td>NaN</td>\n",
       "      <td>NaN</td>\n",
       "      <td>NaN</td>\n",
       "      <td>NaN</td>\n",
       "    </tr>\n",
       "    <tr>\n",
       "      <th>2019-03-31 03:00:00</th>\n",
       "      <td>3.149</td>\n",
       "      <td>0.0</td>\n",
       "      <td>0.0</td>\n",
       "      <td>0.019</td>\n",
       "      <td>1.081</td>\n",
       "      <td>0.000</td>\n",
       "      <td>0.000</td>\n",
       "      <td>0.000</td>\n",
       "    </tr>\n",
       "    <tr>\n",
       "      <th>2019-03-31 04:00:00</th>\n",
       "      <td>2.813</td>\n",
       "      <td>0.0</td>\n",
       "      <td>0.0</td>\n",
       "      <td>0.019</td>\n",
       "      <td>1.082</td>\n",
       "      <td>0.000</td>\n",
       "      <td>0.000</td>\n",
       "      <td>0.000</td>\n",
       "    </tr>\n",
       "    <tr>\n",
       "      <th>2019-03-31 05:00:00</th>\n",
       "      <td>2.288</td>\n",
       "      <td>0.0</td>\n",
       "      <td>0.0</td>\n",
       "      <td>0.019</td>\n",
       "      <td>1.083</td>\n",
       "      <td>0.000</td>\n",
       "      <td>0.000</td>\n",
       "      <td>0.000</td>\n",
       "    </tr>\n",
       "    <tr>\n",
       "      <th>2019-03-31 06:00:00</th>\n",
       "      <td>1.702</td>\n",
       "      <td>0.0</td>\n",
       "      <td>0.0</td>\n",
       "      <td>0.019</td>\n",
       "      <td>1.084</td>\n",
       "      <td>0.000</td>\n",
       "      <td>0.000</td>\n",
       "      <td>0.000</td>\n",
       "    </tr>\n",
       "    <tr>\n",
       "      <th>2019-03-31 07:00:00</th>\n",
       "      <td>1.534</td>\n",
       "      <td>0.0</td>\n",
       "      <td>0.0</td>\n",
       "      <td>0.019</td>\n",
       "      <td>1.084</td>\n",
       "      <td>42.887</td>\n",
       "      <td>81.868</td>\n",
       "      <td>0.000</td>\n",
       "    </tr>\n",
       "    <tr>\n",
       "      <th>2019-03-31 08:00:00</th>\n",
       "      <td>3.908</td>\n",
       "      <td>0.0</td>\n",
       "      <td>0.0</td>\n",
       "      <td>0.019</td>\n",
       "      <td>1.084</td>\n",
       "      <td>219.470</td>\n",
       "      <td>321.597</td>\n",
       "      <td>0.000</td>\n",
       "    </tr>\n",
       "    <tr>\n",
       "      <th>2019-03-31 09:00:00</th>\n",
       "      <td>6.764</td>\n",
       "      <td>0.0</td>\n",
       "      <td>0.0</td>\n",
       "      <td>0.019</td>\n",
       "      <td>1.079</td>\n",
       "      <td>414.591</td>\n",
       "      <td>548.423</td>\n",
       "      <td>0.071</td>\n",
       "    </tr>\n",
       "    <tr>\n",
       "      <th>2019-03-31 10:00:00</th>\n",
       "      <td>9.021</td>\n",
       "      <td>0.0</td>\n",
       "      <td>0.0</td>\n",
       "      <td>0.017</td>\n",
       "      <td>1.072</td>\n",
       "      <td>586.344</td>\n",
       "      <td>742.220</td>\n",
       "      <td>0.352</td>\n",
       "    </tr>\n",
       "    <tr>\n",
       "      <th>2019-03-31 11:00:00</th>\n",
       "      <td>10.461</td>\n",
       "      <td>0.0</td>\n",
       "      <td>0.0</td>\n",
       "      <td>0.015</td>\n",
       "      <td>1.068</td>\n",
       "      <td>714.297</td>\n",
       "      <td>889.856</td>\n",
       "      <td>0.532</td>\n",
       "    </tr>\n",
       "    <tr>\n",
       "      <th>2019-03-31 12:00:00</th>\n",
       "      <td>11.262</td>\n",
       "      <td>0.0</td>\n",
       "      <td>0.0</td>\n",
       "      <td>0.012</td>\n",
       "      <td>1.066</td>\n",
       "      <td>793.886</td>\n",
       "      <td>981.534</td>\n",
       "      <td>0.555</td>\n",
       "    </tr>\n",
       "    <tr>\n",
       "      <th>2019-03-31 13:00:00</th>\n",
       "      <td>11.748</td>\n",
       "      <td>0.0</td>\n",
       "      <td>0.0</td>\n",
       "      <td>0.010</td>\n",
       "      <td>1.064</td>\n",
       "      <td>811.187</td>\n",
       "      <td>1010.660</td>\n",
       "      <td>0.567</td>\n",
       "    </tr>\n",
       "    <tr>\n",
       "      <th>2019-03-31 14:00:00</th>\n",
       "      <td>11.964</td>\n",
       "      <td>0.0</td>\n",
       "      <td>0.0</td>\n",
       "      <td>0.007</td>\n",
       "      <td>1.062</td>\n",
       "      <td>776.393</td>\n",
       "      <td>975.592</td>\n",
       "      <td>0.612</td>\n",
       "    </tr>\n",
       "    <tr>\n",
       "      <th>2019-03-31 15:00:00</th>\n",
       "      <td>11.894</td>\n",
       "      <td>0.0</td>\n",
       "      <td>0.0</td>\n",
       "      <td>0.005</td>\n",
       "      <td>1.061</td>\n",
       "      <td>684.363</td>\n",
       "      <td>878.665</td>\n",
       "      <td>0.475</td>\n",
       "    </tr>\n",
       "    <tr>\n",
       "      <th>2019-03-31 16:00:00</th>\n",
       "      <td>11.546</td>\n",
       "      <td>0.0</td>\n",
       "      <td>0.0</td>\n",
       "      <td>0.001</td>\n",
       "      <td>1.060</td>\n",
       "      <td>549.733</td>\n",
       "      <td>726.279</td>\n",
       "      <td>0.199</td>\n",
       "    </tr>\n",
       "    <tr>\n",
       "      <th>2019-03-31 17:00:00</th>\n",
       "      <td>10.967</td>\n",
       "      <td>0.0</td>\n",
       "      <td>0.0</td>\n",
       "      <td>0.000</td>\n",
       "      <td>1.060</td>\n",
       "      <td>379.814</td>\n",
       "      <td>529.293</td>\n",
       "      <td>0.042</td>\n",
       "    </tr>\n",
       "    <tr>\n",
       "      <th>2019-03-31 18:00:00</th>\n",
       "      <td>9.592</td>\n",
       "      <td>0.0</td>\n",
       "      <td>0.0</td>\n",
       "      <td>0.000</td>\n",
       "      <td>1.061</td>\n",
       "      <td>189.357</td>\n",
       "      <td>300.683</td>\n",
       "      <td>0.023</td>\n",
       "    </tr>\n",
       "    <tr>\n",
       "      <th>2019-03-31 19:00:00</th>\n",
       "      <td>7.315</td>\n",
       "      <td>0.0</td>\n",
       "      <td>0.0</td>\n",
       "      <td>0.000</td>\n",
       "      <td>1.063</td>\n",
       "      <td>29.679</td>\n",
       "      <td>65.497</td>\n",
       "      <td>0.026</td>\n",
       "    </tr>\n",
       "    <tr>\n",
       "      <th>2019-03-31 20:00:00</th>\n",
       "      <td>6.735</td>\n",
       "      <td>0.0</td>\n",
       "      <td>0.0</td>\n",
       "      <td>0.000</td>\n",
       "      <td>1.066</td>\n",
       "      <td>0.000</td>\n",
       "      <td>0.000</td>\n",
       "      <td>0.019</td>\n",
       "    </tr>\n",
       "    <tr>\n",
       "      <th>2019-03-31 21:00:00</th>\n",
       "      <td>6.620</td>\n",
       "      <td>0.0</td>\n",
       "      <td>0.0</td>\n",
       "      <td>0.000</td>\n",
       "      <td>1.067</td>\n",
       "      <td>0.000</td>\n",
       "      <td>0.000</td>\n",
       "      <td>0.002</td>\n",
       "    </tr>\n",
       "    <tr>\n",
       "      <th>2019-03-31 22:00:00</th>\n",
       "      <td>6.198</td>\n",
       "      <td>0.0</td>\n",
       "      <td>0.0</td>\n",
       "      <td>0.000</td>\n",
       "      <td>1.069</td>\n",
       "      <td>0.000</td>\n",
       "      <td>0.000</td>\n",
       "      <td>0.000</td>\n",
       "    </tr>\n",
       "    <tr>\n",
       "      <th>2019-03-31 23:00:00</th>\n",
       "      <td>5.636</td>\n",
       "      <td>0.0</td>\n",
       "      <td>0.0</td>\n",
       "      <td>0.000</td>\n",
       "      <td>1.070</td>\n",
       "      <td>0.000</td>\n",
       "      <td>0.000</td>\n",
       "      <td>0.000</td>\n",
       "    </tr>\n",
       "  </tbody>\n",
       "</table>\n",
       "</div>"
      ],
      "text/plain": [
       "                     temperature  precipitation  snowfall  snow_mass  \\\n",
       "timestamp                                                              \n",
       "2019-03-31 00:00:00        3.691            0.0       0.0      0.019   \n",
       "2019-03-31 01:00:00        3.410            0.0       0.0      0.019   \n",
       "2019-03-31 02:00:00          NaN            NaN       NaN        NaN   \n",
       "2019-03-31 03:00:00        3.149            0.0       0.0      0.019   \n",
       "2019-03-31 04:00:00        2.813            0.0       0.0      0.019   \n",
       "2019-03-31 05:00:00        2.288            0.0       0.0      0.019   \n",
       "2019-03-31 06:00:00        1.702            0.0       0.0      0.019   \n",
       "2019-03-31 07:00:00        1.534            0.0       0.0      0.019   \n",
       "2019-03-31 08:00:00        3.908            0.0       0.0      0.019   \n",
       "2019-03-31 09:00:00        6.764            0.0       0.0      0.019   \n",
       "2019-03-31 10:00:00        9.021            0.0       0.0      0.017   \n",
       "2019-03-31 11:00:00       10.461            0.0       0.0      0.015   \n",
       "2019-03-31 12:00:00       11.262            0.0       0.0      0.012   \n",
       "2019-03-31 13:00:00       11.748            0.0       0.0      0.010   \n",
       "2019-03-31 14:00:00       11.964            0.0       0.0      0.007   \n",
       "2019-03-31 15:00:00       11.894            0.0       0.0      0.005   \n",
       "2019-03-31 16:00:00       11.546            0.0       0.0      0.001   \n",
       "2019-03-31 17:00:00       10.967            0.0       0.0      0.000   \n",
       "2019-03-31 18:00:00        9.592            0.0       0.0      0.000   \n",
       "2019-03-31 19:00:00        7.315            0.0       0.0      0.000   \n",
       "2019-03-31 20:00:00        6.735            0.0       0.0      0.000   \n",
       "2019-03-31 21:00:00        6.620            0.0       0.0      0.000   \n",
       "2019-03-31 22:00:00        6.198            0.0       0.0      0.000   \n",
       "2019-03-31 23:00:00        5.636            0.0       0.0      0.000   \n",
       "\n",
       "                     air_density  radiation_surface  radiation_toa  \\\n",
       "timestamp                                                            \n",
       "2019-03-31 00:00:00        1.081              0.000          0.000   \n",
       "2019-03-31 01:00:00        1.081              0.000          0.000   \n",
       "2019-03-31 02:00:00          NaN                NaN            NaN   \n",
       "2019-03-31 03:00:00        1.081              0.000          0.000   \n",
       "2019-03-31 04:00:00        1.082              0.000          0.000   \n",
       "2019-03-31 05:00:00        1.083              0.000          0.000   \n",
       "2019-03-31 06:00:00        1.084              0.000          0.000   \n",
       "2019-03-31 07:00:00        1.084             42.887         81.868   \n",
       "2019-03-31 08:00:00        1.084            219.470        321.597   \n",
       "2019-03-31 09:00:00        1.079            414.591        548.423   \n",
       "2019-03-31 10:00:00        1.072            586.344        742.220   \n",
       "2019-03-31 11:00:00        1.068            714.297        889.856   \n",
       "2019-03-31 12:00:00        1.066            793.886        981.534   \n",
       "2019-03-31 13:00:00        1.064            811.187       1010.660   \n",
       "2019-03-31 14:00:00        1.062            776.393        975.592   \n",
       "2019-03-31 15:00:00        1.061            684.363        878.665   \n",
       "2019-03-31 16:00:00        1.060            549.733        726.279   \n",
       "2019-03-31 17:00:00        1.060            379.814        529.293   \n",
       "2019-03-31 18:00:00        1.061            189.357        300.683   \n",
       "2019-03-31 19:00:00        1.063             29.679         65.497   \n",
       "2019-03-31 20:00:00        1.066              0.000          0.000   \n",
       "2019-03-31 21:00:00        1.067              0.000          0.000   \n",
       "2019-03-31 22:00:00        1.069              0.000          0.000   \n",
       "2019-03-31 23:00:00        1.070              0.000          0.000   \n",
       "\n",
       "                     cloud_cover  \n",
       "timestamp                         \n",
       "2019-03-31 00:00:00        0.000  \n",
       "2019-03-31 01:00:00        0.000  \n",
       "2019-03-31 02:00:00          NaN  \n",
       "2019-03-31 03:00:00        0.000  \n",
       "2019-03-31 04:00:00        0.000  \n",
       "2019-03-31 05:00:00        0.000  \n",
       "2019-03-31 06:00:00        0.000  \n",
       "2019-03-31 07:00:00        0.000  \n",
       "2019-03-31 08:00:00        0.000  \n",
       "2019-03-31 09:00:00        0.071  \n",
       "2019-03-31 10:00:00        0.352  \n",
       "2019-03-31 11:00:00        0.532  \n",
       "2019-03-31 12:00:00        0.555  \n",
       "2019-03-31 13:00:00        0.567  \n",
       "2019-03-31 14:00:00        0.612  \n",
       "2019-03-31 15:00:00        0.475  \n",
       "2019-03-31 16:00:00        0.199  \n",
       "2019-03-31 17:00:00        0.042  \n",
       "2019-03-31 18:00:00        0.023  \n",
       "2019-03-31 19:00:00        0.026  \n",
       "2019-03-31 20:00:00        0.019  \n",
       "2019-03-31 21:00:00        0.002  \n",
       "2019-03-31 22:00:00        0.000  \n",
       "2019-03-31 23:00:00        0.000  "
      ]
     },
     "execution_count": 16,
     "metadata": {},
     "output_type": "execute_result"
    }
   ],
   "source": [
    "data_weather.loc['2019-03-31']"
   ]
  },
  {
   "cell_type": "markdown",
   "metadata": {
    "cell_id": "fdb00f6d-b4e5-4542-9609-bfaa226cc3ff",
    "tags": []
   },
   "source": [
    "Interpolate missing data"
   ]
  },
  {
   "cell_type": "code",
   "execution_count": 17,
   "metadata": {
    "cell_id": "767b23ed-b620-4291-be7d-4cca266ca26d",
    "tags": []
   },
   "outputs": [],
   "source": [
    "data_weather_clean = data_weather.interpolate()"
   ]
  },
  {
   "cell_type": "code",
   "execution_count": 18,
   "metadata": {
    "cell_id": "533a3369-5ce5-430a-84d7-9b4b34be5d67",
    "tags": []
   },
   "outputs": [
    {
     "data": {
      "image/png": "[encoded data removed]",
      "text/plain": [
       "<Figure size 432x288 with 1 Axes>"
      ]
     },
     "metadata": {
      "needs_background": "light"
     },
     "output_type": "display_data"
    },
    {
     "data": {
      "image/png": "[encoded data removed]",
      "text/plain": [
       "<Figure size 432x288 with 1 Axes>"
      ]
     },
     "metadata": {
      "needs_background": "light"
     },
     "output_type": "display_data"
    },
    {
     "data": {
      "image/png": "[encoded data removed]",
      "text/plain": [
       "<Figure size 432x288 with 1 Axes>"
      ]
     },
     "metadata": {
      "needs_background": "light"
     },
     "output_type": "display_data"
    },
    {
     "data": {
      "image/png": "[encoded data removed]",
      "text/plain": [
       "<Figure size 432x288 with 1 Axes>"
      ]
     },
     "metadata": {
      "needs_background": "light"
     },
     "output_type": "display_data"
    },
    {
     "data": {
      "image/png": "[encoded data removed]",
      "text/plain": [
       "<Figure size 432x288 with 1 Axes>"
      ]
     },
     "metadata": {
      "needs_background": "light"
     },
     "output_type": "display_data"
    },
    {
     "data": {
      "image/png": "[encoded data removed]",
      "text/plain": [
       "<Figure size 432x288 with 1 Axes>"
      ]
     },
     "metadata": {
      "needs_background": "light"
     },
     "output_type": "display_data"
    },
    {
     "data": {
      "image/png": "[encoded data removed]",
      "text/plain": [
       "<Figure size 432x288 with 1 Axes>"
      ]
     },
     "metadata": {
      "needs_background": "light"
     },
     "output_type": "display_data"
    },
    {
     "data": {
      "image/png": "[encoded data removed]",
      "text/plain": [
       "<Figure size 432x288 with 1 Axes>"
      ]
     },
     "metadata": {
      "needs_background": "light"
     },
     "output_type": "display_data"
    }
   ],
   "source": [
    "plt.plot(data_weather_clean[\"temperature\"])\n",
    "plt.title(\"temperature\")\n",
    "plt.show()\n",
    "\n",
    "plt.plot(data_weather_clean[\"precipitation\"])\n",
    "plt.title(\"precipitation\")\n",
    "plt.show()\n",
    "\n",
    "plt.plot(data_weather_clean[\"snowfall\"])\n",
    "plt.title(\"snowfall\")\n",
    "plt.show()\n",
    "\n",
    "plt.plot(data_weather_clean[\"snow_mass\"])\n",
    "plt.title(\"snow_mass\")\n",
    "plt.show()\n",
    "\n",
    "plt.plot(data_weather_clean[\"air_density\"])\n",
    "plt.title(\"air_density\")\n",
    "plt.show()\n",
    "\n",
    "plt.plot(data_weather_clean[\"radiation_surface\"])\n",
    "plt.title(\"radiation_surface\")\n",
    "plt.show()\n",
    "\n",
    "plt.plot(data_weather_clean[\"radiation_toa\"])\n",
    "plt.title(\"radiation_toa\")\n",
    "plt.show()\n",
    "\n",
    "plt.plot(data_weather_clean[\"cloud_cover\"])\n",
    "plt.title(\"cloud_cover\")\n",
    "plt.show()\n"
   ]
  },
  {
   "cell_type": "code",
   "execution_count": 19,
   "metadata": {
    "cell_id": "a4319529-35dd-4975-adee-ab5fca9da9af",
    "tags": []
   },
   "outputs": [],
   "source": [
    "data_weather_enhanced = data_weather_clean.copy()\n",
    "data_weather_enhanced['month'] = data_weather_enhanced.index.month\n",
    "data_weather_enhanced['day'] = data_weather_enhanced.index.day\n",
    "data_weather_enhanced['hour'] = data_weather_enhanced.index.hour"
   ]
  },
  {
   "cell_type": "markdown",
   "metadata": {
    "cell_id": "d535897c-7c8d-4978-a888-d540f45afe46",
    "tags": []
   },
   "source": [
    "## Prepare Data for a simple Linear Regression\n",
    "To Do:\n",
    "- Daten der Power Plants mit den Wetterdaten verbinden\n",
    "- Daten pro Power Plant in Test und Validation Set splitten\n",
    "- Simples Regressionsmodell erstellen\n",
    "- Regressionsmodell testen\n",
    "- Sobald das Regressionsmodell genügt -> Output predicten und neues DF generieren (actual output, Works properly)"
   ]
  },
  {
   "cell_type": "markdown",
   "metadata": {
    "cell_id": "7a1f2254-5241-4bc7-8621-41af38a472cf",
    "tags": []
   },
   "source": [
    "#### Merge Power Plant and Weather Data"
   ]
  },
  {
   "cell_type": "code",
   "execution_count": 20,
   "metadata": {
    "cell_id": "21c80d09-a41b-4712-9b6a-a7b677dc6277",
    "tags": []
   },
   "outputs": [],
   "source": [
    "# Inner Join weil es keine Wetterdaten für 1.1.2019 00:00 Uhr gibt\n",
    "df_a = data_power_plant_a.copy().join(data_weather_enhanced, how='inner')\n",
    "df_b = data_power_plant_b.copy().join(data_weather_enhanced, how='inner')\n",
    "df_c = data_power_plant_c.copy().join(data_weather_enhanced, how='inner')"
   ]
  },
  {
   "cell_type": "markdown",
   "metadata": {
    "cell_id": "6badebdc-0340-49e3-8da0-77e57b230124",
    "tags": []
   },
   "source": [
    "#### split data"
   ]
  },
  {
   "cell_type": "code",
   "execution_count": 21,
   "metadata": {
    "cell_id": "f6d76dec-9141-4bc5-8c82-de4f4017e4e7",
    "tags": []
   },
   "outputs": [],
   "source": [
    "df_a_train, df_a_test = train_test_split(df_a, test_size=0.2, random_state=123)\n",
    "df_b_train, df_b_test = train_test_split(df_b, test_size=0.2, random_state=123)\n",
    "df_c_train, df_c_test = train_test_split(df_c, test_size=0.2, random_state=123)"
   ]
  },
  {
   "cell_type": "code",
   "execution_count": 22,
   "metadata": {
    "cell_id": "fa763cd0-adb4-4f9b-9ccd-335a6b022b6e",
    "tags": []
   },
   "outputs": [
    {
     "name": "stdout",
     "output_type": "stream",
     "text": [
      "8759\n",
      "7007\n",
      "1752\n",
      "--------------------\n",
      "8759\n",
      "7007\n",
      "1752\n",
      "--------------------\n",
      "8759\n",
      "7007\n",
      "1752\n"
     ]
    }
   ],
   "source": [
    "print(len(df_a))\n",
    "print(len(df_a_train))\n",
    "print(len(df_a_test))\n",
    "print('-'*20)\n",
    "print(len(df_b))\n",
    "print(len(df_b_train))\n",
    "print(len(df_b_test))\n",
    "print('-'*20)\n",
    "print(len(df_c))\n",
    "print(len(df_c_train))\n",
    "print(len(df_c_test))"
   ]
  },
  {
   "cell_type": "markdown",
   "metadata": {
    "cell_id": "25f7e215-ebdd-40c9-b34f-b066c79f47b4",
    "tags": []
   },
   "source": [
    "#### Create Linear Regression Model"
   ]
  },
  {
   "cell_type": "markdown",
   "metadata": {
    "cell_id": "6738b1a5-dcfa-46aa-a93b-98f001219864",
    "tags": []
   },
   "source": [
    "Create a simple Regression Model with all possible input data"
   ]
  },
  {
   "cell_type": "code",
   "execution_count": 23,
   "metadata": {
    "cell_id": "17dbfa61-0d5a-477d-a596-d059f96ab8b3",
    "tags": []
   },
   "outputs": [
    {
     "data": {
      "text/html": [
       "<table class=\"simpletable\">\n",
       "<caption>OLS Regression Results</caption>\n",
       "<tr>\n",
       "  <th>Dep. Variable:</th>     <td>grid_feedin_kw</td>  <th>  R-squared (uncentered):</th>      <td>   0.808</td> \n",
       "</tr>\n",
       "<tr>\n",
       "  <th>Model:</th>                   <td>OLS</td>       <th>  Adj. R-squared (uncentered):</th> <td>   0.808</td> \n",
       "</tr>\n",
       "<tr>\n",
       "  <th>Method:</th>             <td>Least Squares</td>  <th>  F-statistic:       </th>          <td>   2673.</td> \n",
       "</tr>\n",
       "<tr>\n",
       "  <th>Date:</th>             <td>Sat, 23 May 2020</td> <th>  Prob (F-statistic):</th>           <td>  0.00</td>  \n",
       "</tr>\n",
       "<tr>\n",
       "  <th>Time:</th>                 <td>09:05:32</td>     <th>  Log-Likelihood:    </th>          <td> -21273.</td> \n",
       "</tr>\n",
       "<tr>\n",
       "  <th>No. Observations:</th>      <td>  7007</td>      <th>  AIC:               </th>          <td>4.257e+04</td>\n",
       "</tr>\n",
       "<tr>\n",
       "  <th>Df Residuals:</th>          <td>  6996</td>      <th>  BIC:               </th>          <td>4.264e+04</td>\n",
       "</tr>\n",
       "<tr>\n",
       "  <th>Df Model:</th>              <td>    11</td>      <th>                     </th>              <td> </td>    \n",
       "</tr>\n",
       "<tr>\n",
       "  <th>Covariance Type:</th>      <td>nonrobust</td>    <th>                     </th>              <td> </td>    \n",
       "</tr>\n",
       "</table>\n",
       "<table class=\"simpletable\">\n",
       "<tr>\n",
       "          <td></td>             <th>coef</th>     <th>std err</th>      <th>t</th>      <th>P>|t|</th>  <th>[0.025</th>    <th>0.975]</th>  \n",
       "</tr>\n",
       "<tr>\n",
       "  <th>temperature</th>       <td>    0.1460</td> <td>    0.012</td> <td>   12.241</td> <td> 0.000</td> <td>    0.123</td> <td>    0.169</td>\n",
       "</tr>\n",
       "<tr>\n",
       "  <th>precipitation</th>     <td>   -0.2647</td> <td>    0.264</td> <td>   -1.004</td> <td> 0.316</td> <td>   -0.782</td> <td>    0.252</td>\n",
       "</tr>\n",
       "<tr>\n",
       "  <th>snowfall</th>          <td>    0.4700</td> <td>    0.556</td> <td>    0.845</td> <td> 0.398</td> <td>   -0.621</td> <td>    1.561</td>\n",
       "</tr>\n",
       "<tr>\n",
       "  <th>snow_mass</th>         <td>    0.0032</td> <td>    0.002</td> <td>    1.667</td> <td> 0.096</td> <td>   -0.001</td> <td>    0.007</td>\n",
       "</tr>\n",
       "<tr>\n",
       "  <th>air_density</th>       <td>   -1.2858</td> <td>    0.206</td> <td>   -6.236</td> <td> 0.000</td> <td>   -1.690</td> <td>   -0.882</td>\n",
       "</tr>\n",
       "<tr>\n",
       "  <th>radiation_surface</th> <td>    0.0271</td> <td>    0.001</td> <td>   34.924</td> <td> 0.000</td> <td>    0.026</td> <td>    0.029</td>\n",
       "</tr>\n",
       "<tr>\n",
       "  <th>radiation_toa</th>     <td>    0.0034</td> <td>    0.000</td> <td>    6.790</td> <td> 0.000</td> <td>    0.002</td> <td>    0.004</td>\n",
       "</tr>\n",
       "<tr>\n",
       "  <th>cloud_cover</th>       <td>    0.2650</td> <td>    0.193</td> <td>    1.372</td> <td> 0.170</td> <td>   -0.114</td> <td>    0.644</td>\n",
       "</tr>\n",
       "<tr>\n",
       "  <th>month</th>             <td>   -0.1167</td> <td>    0.026</td> <td>   -4.550</td> <td> 0.000</td> <td>   -0.167</td> <td>   -0.066</td>\n",
       "</tr>\n",
       "<tr>\n",
       "  <th>day</th>               <td>    0.0287</td> <td>    0.007</td> <td>    4.022</td> <td> 0.000</td> <td>    0.015</td> <td>    0.043</td>\n",
       "</tr>\n",
       "<tr>\n",
       "  <th>hour</th>              <td>    0.0113</td> <td>    0.009</td> <td>    1.264</td> <td> 0.206</td> <td>   -0.006</td> <td>    0.029</td>\n",
       "</tr>\n",
       "</table>\n",
       "<table class=\"simpletable\">\n",
       "<tr>\n",
       "  <th>Omnibus:</th>       <td>788.279</td> <th>  Durbin-Watson:     </th> <td>   2.021</td>\n",
       "</tr>\n",
       "<tr>\n",
       "  <th>Prob(Omnibus):</th> <td> 0.000</td>  <th>  Jarque-Bera (JB):  </th> <td>4310.786</td>\n",
       "</tr>\n",
       "<tr>\n",
       "  <th>Skew:</th>          <td>-0.402</td>  <th>  Prob(JB):          </th> <td>    0.00</td>\n",
       "</tr>\n",
       "<tr>\n",
       "  <th>Kurtosis:</th>      <td> 6.757</td>  <th>  Cond. No.          </th> <td>5.69e+03</td>\n",
       "</tr>\n",
       "</table><br/><br/>Warnings:<br/>[1] Standard Errors assume that the covariance matrix of the errors is correctly specified.<br/>[2] The condition number is large, 5.69e+03. This might indicate that there are<br/>strong multicollinearity or other numerical problems."
      ],
      "text/plain": [
       "<class 'statsmodels.iolib.summary.Summary'>\n",
       "\"\"\"\n",
       "                                 OLS Regression Results                                \n",
       "=======================================================================================\n",
       "Dep. Variable:         grid_feedin_kw   R-squared (uncentered):                   0.808\n",
       "Model:                            OLS   Adj. R-squared (uncentered):              0.808\n",
       "Method:                 Least Squares   F-statistic:                              2673.\n",
       "Date:                Sat, 23 May 2020   Prob (F-statistic):                        0.00\n",
       "Time:                        09:05:32   Log-Likelihood:                         -21273.\n",
       "No. Observations:                7007   AIC:                                  4.257e+04\n",
       "Df Residuals:                    6996   BIC:                                  4.264e+04\n",
       "Df Model:                          11                                                  \n",
       "Covariance Type:            nonrobust                                                  \n",
       "=====================================================================================\n",
       "                        coef    std err          t      P>|t|      [0.025      0.975]\n",
       "-------------------------------------------------------------------------------------\n",
       "temperature           0.1460      0.012     12.241      0.000       0.123       0.169\n",
       "precipitation        -0.2647      0.264     -1.004      0.316      -0.782       0.252\n",
       "snowfall              0.4700      0.556      0.845      0.398      -0.621       1.561\n",
       "snow_mass             0.0032      0.002      1.667      0.096      -0.001       0.007\n",
       "air_density          -1.2858      0.206     -6.236      0.000      -1.690      -0.882\n",
       "radiation_surface     0.0271      0.001     34.924      0.000       0.026       0.029\n",
       "radiation_toa         0.0034      0.000      6.790      0.000       0.002       0.004\n",
       "cloud_cover           0.2650      0.193      1.372      0.170      -0.114       0.644\n",
       "month                -0.1167      0.026     -4.550      0.000      -0.167      -0.066\n",
       "day                   0.0287      0.007      4.022      0.000       0.015       0.043\n",
       "hour                  0.0113      0.009      1.264      0.206      -0.006       0.029\n",
       "==============================================================================\n",
       "Omnibus:                      788.279   Durbin-Watson:                   2.021\n",
       "Prob(Omnibus):                  0.000   Jarque-Bera (JB):             4310.786\n",
       "Skew:                          -0.402   Prob(JB):                         0.00\n",
       "Kurtosis:                       6.757   Cond. No.                     5.69e+03\n",
       "==============================================================================\n",
       "\n",
       "Warnings:\n",
       "[1] Standard Errors assume that the covariance matrix of the errors is correctly specified.\n",
       "[2] The condition number is large, 5.69e+03. This might indicate that there are\n",
       "strong multicollinearity or other numerical problems.\n",
       "\"\"\""
      ]
     },
     "execution_count": 23,
     "metadata": {},
     "output_type": "execute_result"
    }
   ],
   "source": [
    "X_train = df_a_train[[\"temperature\", \"precipitation\", \"snowfall\", \"snow_mass\", \"air_density\", \"radiation_surface\", \"radiation_toa\", \"cloud_cover\", \"month\", \"day\", \"hour\"]]\n",
    "y_train = df_a_train[\"grid_feedin_kw\"]\n",
    "\n",
    "X_test = df_a_test[[\"temperature\", \"precipitation\", \"snowfall\", \"snow_mass\", \"air_density\", \"radiation_surface\", \"radiation_toa\", \"cloud_cover\", \"month\", \"day\", \"hour\"]]\n",
    "y_test = df_a_test[\"grid_feedin_kw\"]\n",
    "\n",
    "regressor_OLS=sm.OLS(endog = y_train, exog = X_train).fit()\n",
    "regressor_OLS.summary()"
   ]
  },
  {
   "cell_type": "markdown",
   "metadata": {
    "cell_id": "fc57b0e6-c90e-4586-801e-d2909487a008",
    "tags": []
   },
   "source": []
  },
  {
   "cell_type": "code",
   "execution_count": 24,
   "metadata": {
    "cell_id": "1800ee7c-9a66-47a3-944b-27c05087df42",
    "tags": []
   },
   "outputs": [
    {
     "name": "stdout",
     "output_type": "stream",
     "text": [
      "The model degree of freedom:  11.0\n",
      "The residual degree of freedom:  0.00018410620582778433\n",
      "-------------------- \n",
      "\n",
      "Average predicted grid_feedin_kw:  5.347860250611284\n",
      "Average actual grid_feedin_kw:  5.336903538812784\n",
      "Difference in prediction:  1.0020530091501216\n"
     ]
    }
   ],
   "source": [
    "print(\"The model degree of freedom: \",regressor_OLS.df_model)\n",
    "print(\"The residual degree of freedom: \", sum(regressor_OLS.resid)/len(regressor_OLS.resid))\n",
    "print(\"-\"*20, \"\\n\")\n",
    "\n",
    "y_predict_ols = regressor_OLS.predict(X_test)\n",
    "print(\"Average predicted grid_feedin_kw: \", sum(y_predict_ols)/ len(y_predict_ols))\n",
    "print(\"Average actual grid_feedin_kw: \", sum(y_test)/ len(y_test))\n",
    "print(\"Difference in prediction: \", (sum(y_predict_ols)/ len(y_predict_ols)) / (sum(y_test)/ len(y_test)))\n"
   ]
  },
  {
   "cell_type": "markdown",
   "metadata": {
    "cell_id": "93fdfc4b-6a5a-4f13-9214-38e3a8858af4",
    "tags": []
   },
   "source": [
    "Make a Prediction for the whole dataset and create a new pandas dataframe with only the acutal value and the predicted value"
   ]
  },
  {
   "cell_type": "code",
   "execution_count": 25,
   "metadata": {
    "cell_id": "760a0a73-5034-451e-8bfa-4142c1e0816d",
    "tags": []
   },
   "outputs": [],
   "source": [
    "df_predict_actual = pd.DataFrame(df_a.copy()[\"grid_feedin_kw\"])\n",
    "df_predict_actual[\"prediction\"] = regressor_OLS.predict(df_a[[\"temperature\", \"precipitation\", \"snowfall\", \"snow_mass\", \"air_density\", \"radiation_surface\", \"radiation_toa\", \"cloud_cover\", \"month\", \"day\", \"hour\"]])"
   ]
  },
  {
   "cell_type": "markdown",
   "metadata": {
    "cell_id": "2a1e34e7-72c0-47ec-931e-aa65712170a0",
    "tags": []
   },
   "source": [
    "Make all prediction below 0 to 0 (as there can't be any value below 0)"
   ]
  },
  {
   "cell_type": "code",
   "execution_count": 26,
   "metadata": {
    "cell_id": "621da8a1-382b-4644-89e2-97d0408abb31",
    "tags": []
   },
   "outputs": [],
   "source": [
    "df_predict_actual[\"prediction\"] = df_predict_actual[\"prediction\"].apply(lambda x: 0 if x <= 0 else x)\n"
   ]
  },
  {
   "cell_type": "markdown",
   "metadata": {
    "cell_id": "cc0e73bd-9a0e-4ae0-970d-2fa4de6d43a2",
    "tags": []
   },
   "source": [
    "Plot the data"
   ]
  },
  {
   "cell_type": "code",
   "execution_count": 27,
   "metadata": {
    "cell_id": "25d3e8d5-3502-4bfc-99b7-c4679fe9edac",
    "tags": []
   },
   "outputs": [
    {
     "data": {
      "image/png": "[encoded data removed]",
      "text/plain": [
       "<Figure size 432x288 with 1 Axes>"
      ]
     },
     "metadata": {
      "needs_background": "light"
     },
     "output_type": "display_data"
    },
    {
     "data": {
      "image/png": "[encoded data removed]",
      "text/plain": [
       "<Figure size 432x288 with 1 Axes>"
      ]
     },
     "metadata": {
      "needs_background": "light"
     },
     "output_type": "display_data"
    },
    {
     "data": {
      "image/png": "[encoded data removed]",
      "text/plain": [
       "<Figure size 432x288 with 1 Axes>"
      ]
     },
     "metadata": {
      "needs_background": "light"
     },
     "output_type": "display_data"
    }
   ],
   "source": [
    "plt.plot(df_predict_actual[\"grid_feedin_kw\"])\n",
    "plt.title(\"Actual produced energy\")\n",
    "plt.show()\n",
    "plt.plot(df_predict_actual[\"prediction\"])\n",
    "plt.title(\"Prediction energy production\")\n",
    "plt.show()\n",
    "plt.plot(df_predict_actual)\n",
    "plt.legend(df_predict_actual.columns)\n",
    "plt.title(\"Actual vs. Produced\")\n",
    "plt.show()"
   ]
  },
  {
   "cell_type": "code",
   "execution_count": 28,
   "metadata": {
    "cell_id": "02ec534d-bfcc-46c2-a0d3-e456f9d4c867",
    "tags": []
   },
   "outputs": [
    {
     "data": {
      "image/png": "[encoded data removed]",
      "text/plain": [
       "<Figure size 432x288 with 1 Axes>"
      ]
     },
     "metadata": {
      "needs_background": "light"
     },
     "output_type": "display_data"
    },
    {
     "data": {
      "image/png": "[encoded data removed]",
      "text/plain": [
       "<Figure size 432x288 with 1 Axes>"
      ]
     },
     "metadata": {
      "needs_background": "light"
     },
     "output_type": "display_data"
    },
    {
     "data": {
      "image/png": "[encoded data removed]",
      "text/plain": [
       "<Figure size 432x288 with 1 Axes>"
      ]
     },
     "metadata": {
      "needs_background": "light"
     },
     "output_type": "display_data"
    },
    {
     "data": {
      "image/png": "[encoded data removed]",
      "text/plain": [
       "<Figure size 432x288 with 1 Axes>"
      ]
     },
     "metadata": {
      "needs_background": "light"
     },
     "output_type": "display_data"
    },
    {
     "data": {
      "image/png": "[encoded data removed]",
      "text/plain": [
       "<Figure size 432x288 with 1 Axes>"
      ]
     },
     "metadata": {
      "needs_background": "light"
     },
     "output_type": "display_data"
    },
    {
     "data": {
      "image/png": "[encoded data removed]",
      "text/plain": [
       "<Figure size 432x288 with 1 Axes>"
      ]
     },
     "metadata": {
      "needs_background": "light"
     },
     "output_type": "display_data"
    },
    {
     "data": {
      "image/png": "[encoded data removed]",
      "text/plain": [
       "<Figure size 432x288 with 1 Axes>"
      ]
     },
     "metadata": {
      "needs_background": "light"
     },
     "output_type": "display_data"
    },
    {
     "data": {
      "image/png": "[encoded data removed]",
      "text/plain": [
       "<Figure size 432x288 with 1 Axes>"
      ]
     },
     "metadata": {
      "needs_background": "light"
     },
     "output_type": "display_data"
    }
   ],
   "source": [
    "plt.plot( df_predict_actual[\"grid_feedin_kw\"]- df_predict_actual[\"prediction\"])\n",
    "plt.title(\"Absolute distance)\")\n",
    "plt.show()\n",
    "\n",
    "plt.hist(df_predict_actual[\"grid_feedin_kw\"]- df_predict_actual[\"prediction\"])\n",
    "plt.title(\"Absolute distance)\")\n",
    "plt.show()\n",
    "\n",
    "# relativer Unterschied (lambda, weil division durch 0 nicht geht)\n",
    "plt.plot(\n",
    "    df_predict_actual[\"prediction\"].apply(lambda x: x+1)\n",
    "    / df_predict_actual[\"grid_feedin_kw\"].apply(lambda x: x+1)\n",
    ")\n",
    "plt.title(\"Relative distance\")\n",
    "plt.show()\n",
    "\n",
    "plt.hist(\n",
    "    df_predict_actual[\"prediction\"].apply(lambda x: x+1)\n",
    "    / df_predict_actual[\"grid_feedin_kw\"].apply(lambda x: x+1)\n",
    ")\n",
    "plt.title(\"Relative distance\")\n",
    "plt.show()\n",
    "\n",
    "plt.hist(\n",
    "    (df_predict_actual[\"grid_feedin_kw\"]- df_predict_actual[\"prediction\"]).abs()\n",
    "    / df_predict_actual[\"grid_feedin_kw\"].apply(lambda x: x+1)\n",
    "    , bins = 27\n",
    ")\n",
    "plt.title(\"Absolute Difference relativly to the actual produced power\")\n",
    "plt.show()\n",
    "\n",
    "plt.hist(\n",
    "    (df_predict_actual[\"grid_feedin_kw\"]- df_predict_actual[\"prediction\"])\n",
    "    / df_predict_actual[\"prediction\"].apply(lambda x: x+1)\n",
    ")\n",
    "plt.title(\"Relative distance (relative - actual)\")\n",
    "plt.show()\n",
    "\n",
    "\n",
    "plt.hist(\n",
    "    df_predict_actual[\"prediction\"].loc[df_predict_actual[\"grid_feedin_kw\"] == 0]\n",
    ")\n",
    "plt.title(\"How much energy should be produced, when it actualy produces none\")\n",
    "plt.show()\n",
    "\n",
    "plt.hist(\n",
    "    df_predict_actual[\"grid_feedin_kw\"].loc[df_predict_actual[\"prediction\"] == 0]\n",
    ")\n",
    "plt.title(\"How much energy is produced, when it actualy is predicted to be none\")\n",
    "plt.show()\n"
   ]
  },
  {
   "cell_type": "markdown",
   "metadata": {
    "cell_id": "437535df-0410-4ffe-933c-b3e8f17ed8b8",
    "tags": []
   },
   "source": [
    "Bei den obrigen Grafiken ist ersichtlich, dass es schwierig ist ein Verhältnis zu finden, bei dem der produzierte Wert stark vom prognostizierten abweicht \n",
    "und so ein Fehler vorliegen muss. Aber es zeigt sich, dass es vorkommt, dass die PV nichts produziert, obwohl es laut prediction etwas produzieren sollte. \n",
    "Umgekehrt wird nichts produziert, wenn die Prognose auch sagt, dass nichts produziert werden sollte. \n",
    "\n",
    "-> Daher werden die Werte als not working gelabeled, bei denen nichts produziert wird, obwohl das MOdell sagt, dass etwas produziert werden sollte."
   ]
  },
  {
   "cell_type": "markdown",
   "metadata": {
    "cell_id": "ca87976d-1463-4ff9-8a83-27dc32516857",
    "tags": []
   },
   "source": [
    "## New markdown cell"
   ]
  },
  {
   "cell_type": "code",
   "execution_count": 30,
   "metadata": {
    "cell_id": "c0cb2242-9756-4f0f-b414-96392b41275d",
    "tags": []
   },
   "outputs": [],
   "source": [
    "#df_predict_actual.drop('label_machine_working', axis=1, inplace=True)\n",
    "df_predict_actual['label_machine_working'] = df_predict_actual[\"prediction\"].loc[df_predict_actual[\"grid_feedin_kw\"] == 0].apply(lambda x: x <= 1)\n",
    "df_predict_actual['label_machine_working'].fillna(value=True, inplace=True)\n"
   ]
  },
  {
   "cell_type": "code",
   "execution_count": 32,
   "metadata": {
    "cell_id": "e8f32f77-02f9-4008-818f-c2f0864179f0",
    "tags": []
   },
   "outputs": [
    {
     "data": {
      "application/vnd.deepnote.dataframe+json": {
       "numColumns": 3,
       "numElements": 8759,
       "variableDetails": {
        "columns": [
         {
          "name": "grid_feedin_kw",
          "stats": {
           "25%": 0,
           "50%": 0,
           "75%": 5.696,
           "count": 8759,
           "max": 44.851,
           "mean": 5.430705674163717,
           "min": 0,
           "nan_count": 0,
           "std": 10.110459991272672
          }
         },
         {
          "name": "prediction",
          "stats": {
           "25%": 0,
           "50%": 0.7277449801520052,
           "75%": 10.327331538473022,
           "count": 8759,
           "max": 33.94957736903152,
           "mean": 5.945153188666169,
           "min": 0,
           "nan_count": 0,
           "std": 8.39379884528601
          }
         },
         {
          "name": "label_machine_working",
          "stats": {
           "count": 8759,
           "freq": 7853,
           "nan_count": 0,
           "top": true,
           "unique": 2
          }
         }
        ],
        "dataframe": {
         "2019-05-19 08:00:00": {
          "grid_feedin_kw": 3.0589999999999997,
          "label_machine_working": true,
          "prediction": 7.158606901531459
         },
         "2019-08-20 13:00:00": {
          "grid_feedin_kw": 2.1899999999999995,
          "label_machine_working": true,
          "prediction": 13.699916312704355
         },
         "2019-09-10 08:00:00": {
          "grid_feedin_kw": 1.592,
          "label_machine_working": true,
          "prediction": 2.9703073685433514
         },
         "2019-10-06 17:00:00": {
          "grid_feedin_kw": 0.332,
          "label_machine_working": true,
          "prediction": 3.416184018587613
         },
         "2019-10-27 01:00:00": {
          "grid_feedin_kw": 0,
          "label_machine_working": true,
          "prediction": 0
         },
         "2019-10-31 23:00:00": {
          "grid_feedin_kw": 0,
          "label_machine_working": true,
          "prediction": 0
         },
         "2019-11-28 02:00:00": {
          "grid_feedin_kw": 0,
          "label_machine_working": true,
          "prediction": 0
         },
         "2019-12-06 13:00:00": {
          "grid_feedin_kw": 8.683,
          "label_machine_working": true,
          "prediction": 9.578173602267784
         },
         "2019-12-09 17:00:00": {
          "grid_feedin_kw": 0,
          "label_machine_working": true,
          "prediction": 0
         },
         "2019-12-31 22:00:00": {
          "grid_feedin_kw": 0,
          "label_machine_working": true,
          "prediction": 0
         }
        },
        "frequencyInfo": [
         {
          "frequencyData": [
           {
            "x": 0,
            "y": 6407
           },
           {
            "x": 4.4851,
            "y": 486
           },
           {
            "x": 8.9702,
            "y": 342
           },
           {
            "x": 13.455300000000001,
            "y": 302
           },
           {
            "x": 17.9404,
            "y": 270
           },
           {
            "x": 22.4255,
            "y": 300
           },
           {
            "x": 26.910600000000002,
            "y": 256
           },
           {
            "x": 31.3957,
            "y": 228
           },
           {
            "x": 35.8808,
            "y": 146
           },
           {
            "x": 40.3659,
            "y": 22
           }
          ],
          "type": "hist"
         },
         {
          "frequencyData": [
           {
            "x": 0,
            "y": 5246
           },
           {
            "x": 3.3949577369031525,
            "y": 674
           },
           {
            "x": 6.789915473806305,
            "y": 623
           },
           {
            "x": 10.184873210709458,
            "y": 548
           },
           {
            "x": 13.57983094761261,
            "y": 421
           },
           {
            "x": 16.97478868451576,
            "y": 397
           },
           {
            "x": 20.369746421418917,
            "y": 337
           },
           {
            "x": 23.76470415832207,
            "y": 279
           },
           {
            "x": 27.15966189522522,
            "y": 167
           },
           {
            "x": 30.55461963212837,
            "y": 67
           }
          ],
          "type": "hist"
         },
         {
          "frequencyData": [
           {
            "x": 0,
            "y": 906
           },
           {
            "x": 0.1,
            "y": 0
           },
           {
            "x": 0.2,
            "y": 0
           },
           {
            "x": 0.30000000000000004,
            "y": 0
           },
           {
            "x": 0.4,
            "y": 0
           },
           {
            "x": 0.5,
            "y": 0
           },
           {
            "x": 0.6000000000000001,
            "y": 0
           },
           {
            "x": 0.7000000000000001,
            "y": 0
           },
           {
            "x": 0.8,
            "y": 0
           },
           {
            "x": 0.9,
            "y": 7853
           }
          ],
          "type": "hist"
         }
        ]
       }
      },
      "text/html": [
       "<div>\n",
       "<style scoped>\n",
       "    .dataframe tbody tr th:only-of-type {\n",
       "        vertical-align: middle;\n",
       "    }\n",
       "\n",
       "    .dataframe tbody tr th {\n",
       "        vertical-align: top;\n",
       "    }\n",
       "\n",
       "    .dataframe thead th {\n",
       "        text-align: right;\n",
       "    }\n",
       "</style>\n",
       "<table border=\"1\" class=\"dataframe\">\n",
       "  <thead>\n",
       "    <tr style=\"text-align: right;\">\n",
       "      <th></th>\n",
       "      <th>grid_feedin_kw</th>\n",
       "      <th>prediction</th>\n",
       "      <th>label_machine_working</th>\n",
       "    </tr>\n",
       "    <tr>\n",
       "      <th>timestamp</th>\n",
       "      <th></th>\n",
       "      <th></th>\n",
       "      <th></th>\n",
       "    </tr>\n",
       "  </thead>\n",
       "  <tbody>\n",
       "    <tr>\n",
       "      <th>2019-01-01 01:00:00</th>\n",
       "      <td>0.000</td>\n",
       "      <td>0.000000</td>\n",
       "      <td>True</td>\n",
       "    </tr>\n",
       "    <tr>\n",
       "      <th>2019-01-01 02:00:00</th>\n",
       "      <td>0.000</td>\n",
       "      <td>0.000000</td>\n",
       "      <td>True</td>\n",
       "    </tr>\n",
       "    <tr>\n",
       "      <th>2019-01-01 03:00:00</th>\n",
       "      <td>0.000</td>\n",
       "      <td>0.000000</td>\n",
       "      <td>True</td>\n",
       "    </tr>\n",
       "    <tr>\n",
       "      <th>2019-01-01 04:00:00</th>\n",
       "      <td>0.000</td>\n",
       "      <td>0.000000</td>\n",
       "      <td>True</td>\n",
       "    </tr>\n",
       "    <tr>\n",
       "      <th>2019-01-01 05:00:00</th>\n",
       "      <td>0.000</td>\n",
       "      <td>0.000000</td>\n",
       "      <td>True</td>\n",
       "    </tr>\n",
       "    <tr>\n",
       "      <th>2019-01-01 06:00:00</th>\n",
       "      <td>0.000</td>\n",
       "      <td>0.000000</td>\n",
       "      <td>True</td>\n",
       "    </tr>\n",
       "    <tr>\n",
       "      <th>2019-01-01 07:00:00</th>\n",
       "      <td>0.000</td>\n",
       "      <td>0.000000</td>\n",
       "      <td>True</td>\n",
       "    </tr>\n",
       "    <tr>\n",
       "      <th>2019-01-01 08:00:00</th>\n",
       "      <td>0.000</td>\n",
       "      <td>0.000000</td>\n",
       "      <td>True</td>\n",
       "    </tr>\n",
       "    <tr>\n",
       "      <th>2019-01-01 09:00:00</th>\n",
       "      <td>0.000</td>\n",
       "      <td>3.480089</td>\n",
       "      <td>False</td>\n",
       "    </tr>\n",
       "    <tr>\n",
       "      <th>2019-01-01 10:00:00</th>\n",
       "      <td>0.000</td>\n",
       "      <td>7.225388</td>\n",
       "      <td>False</td>\n",
       "    </tr>\n",
       "    <tr>\n",
       "      <th>2019-01-01 11:00:00</th>\n",
       "      <td>0.000</td>\n",
       "      <td>9.584012</td>\n",
       "      <td>False</td>\n",
       "    </tr>\n",
       "    <tr>\n",
       "      <th>2019-01-01 12:00:00</th>\n",
       "      <td>0.228</td>\n",
       "      <td>9.832790</td>\n",
       "      <td>True</td>\n",
       "    </tr>\n",
       "    <tr>\n",
       "      <th>2019-01-01 13:00:00</th>\n",
       "      <td>0.000</td>\n",
       "      <td>9.066511</td>\n",
       "      <td>False</td>\n",
       "    </tr>\n",
       "    <tr>\n",
       "      <th>2019-01-01 14:00:00</th>\n",
       "      <td>0.000</td>\n",
       "      <td>7.527930</td>\n",
       "      <td>False</td>\n",
       "    </tr>\n",
       "    <tr>\n",
       "      <th>2019-01-01 15:00:00</th>\n",
       "      <td>0.000</td>\n",
       "      <td>3.868976</td>\n",
       "      <td>False</td>\n",
       "    </tr>\n",
       "    <tr>\n",
       "      <th>2019-01-01 16:00:00</th>\n",
       "      <td>0.000</td>\n",
       "      <td>0.000000</td>\n",
       "      <td>True</td>\n",
       "    </tr>\n",
       "    <tr>\n",
       "      <th>2019-01-01 17:00:00</th>\n",
       "      <td>0.000</td>\n",
       "      <td>0.000000</td>\n",
       "      <td>True</td>\n",
       "    </tr>\n",
       "    <tr>\n",
       "      <th>2019-01-01 18:00:00</th>\n",
       "      <td>0.000</td>\n",
       "      <td>0.000000</td>\n",
       "      <td>True</td>\n",
       "    </tr>\n",
       "    <tr>\n",
       "      <th>2019-01-01 19:00:00</th>\n",
       "      <td>0.000</td>\n",
       "      <td>0.000000</td>\n",
       "      <td>True</td>\n",
       "    </tr>\n",
       "    <tr>\n",
       "      <th>2019-01-01 20:00:00</th>\n",
       "      <td>0.000</td>\n",
       "      <td>0.000000</td>\n",
       "      <td>True</td>\n",
       "    </tr>\n",
       "    <tr>\n",
       "      <th>2019-01-01 21:00:00</th>\n",
       "      <td>0.000</td>\n",
       "      <td>0.000000</td>\n",
       "      <td>True</td>\n",
       "    </tr>\n",
       "    <tr>\n",
       "      <th>2019-01-01 22:00:00</th>\n",
       "      <td>0.000</td>\n",
       "      <td>0.000000</td>\n",
       "      <td>True</td>\n",
       "    </tr>\n",
       "    <tr>\n",
       "      <th>2019-01-01 23:00:00</th>\n",
       "      <td>0.000</td>\n",
       "      <td>0.000000</td>\n",
       "      <td>True</td>\n",
       "    </tr>\n",
       "    <tr>\n",
       "      <th>2019-01-02 00:00:00</th>\n",
       "      <td>0.000</td>\n",
       "      <td>0.000000</td>\n",
       "      <td>True</td>\n",
       "    </tr>\n",
       "    <tr>\n",
       "      <th>2019-01-02 01:00:00</th>\n",
       "      <td>0.000</td>\n",
       "      <td>0.000000</td>\n",
       "      <td>True</td>\n",
       "    </tr>\n",
       "    <tr>\n",
       "      <th>2019-01-02 02:00:00</th>\n",
       "      <td>0.000</td>\n",
       "      <td>0.000000</td>\n",
       "      <td>True</td>\n",
       "    </tr>\n",
       "    <tr>\n",
       "      <th>2019-01-02 03:00:00</th>\n",
       "      <td>0.000</td>\n",
       "      <td>0.000000</td>\n",
       "      <td>True</td>\n",
       "    </tr>\n",
       "    <tr>\n",
       "      <th>2019-01-02 04:00:00</th>\n",
       "      <td>0.000</td>\n",
       "      <td>0.000000</td>\n",
       "      <td>True</td>\n",
       "    </tr>\n",
       "    <tr>\n",
       "      <th>2019-01-02 05:00:00</th>\n",
       "      <td>0.000</td>\n",
       "      <td>0.000000</td>\n",
       "      <td>True</td>\n",
       "    </tr>\n",
       "    <tr>\n",
       "      <th>2019-01-02 06:00:00</th>\n",
       "      <td>0.000</td>\n",
       "      <td>0.000000</td>\n",
       "      <td>True</td>\n",
       "    </tr>\n",
       "    <tr>\n",
       "      <th>...</th>\n",
       "      <td>...</td>\n",
       "      <td>...</td>\n",
       "      <td>...</td>\n",
       "    </tr>\n",
       "    <tr>\n",
       "      <th>2019-12-30 18:00:00</th>\n",
       "      <td>0.000</td>\n",
       "      <td>0.000000</td>\n",
       "      <td>True</td>\n",
       "    </tr>\n",
       "    <tr>\n",
       "      <th>2019-12-30 19:00:00</th>\n",
       "      <td>0.000</td>\n",
       "      <td>0.000000</td>\n",
       "      <td>True</td>\n",
       "    </tr>\n",
       "    <tr>\n",
       "      <th>2019-12-30 20:00:00</th>\n",
       "      <td>0.000</td>\n",
       "      <td>0.000000</td>\n",
       "      <td>True</td>\n",
       "    </tr>\n",
       "    <tr>\n",
       "      <th>2019-12-30 21:00:00</th>\n",
       "      <td>0.000</td>\n",
       "      <td>0.000000</td>\n",
       "      <td>True</td>\n",
       "    </tr>\n",
       "    <tr>\n",
       "      <th>2019-12-30 22:00:00</th>\n",
       "      <td>0.000</td>\n",
       "      <td>0.000000</td>\n",
       "      <td>True</td>\n",
       "    </tr>\n",
       "    <tr>\n",
       "      <th>2019-12-30 23:00:00</th>\n",
       "      <td>0.000</td>\n",
       "      <td>0.000000</td>\n",
       "      <td>True</td>\n",
       "    </tr>\n",
       "    <tr>\n",
       "      <th>2019-12-31 00:00:00</th>\n",
       "      <td>0.000</td>\n",
       "      <td>0.000000</td>\n",
       "      <td>True</td>\n",
       "    </tr>\n",
       "    <tr>\n",
       "      <th>2019-12-31 01:00:00</th>\n",
       "      <td>0.000</td>\n",
       "      <td>0.000000</td>\n",
       "      <td>True</td>\n",
       "    </tr>\n",
       "    <tr>\n",
       "      <th>2019-12-31 02:00:00</th>\n",
       "      <td>0.000</td>\n",
       "      <td>0.000000</td>\n",
       "      <td>True</td>\n",
       "    </tr>\n",
       "    <tr>\n",
       "      <th>2019-12-31 03:00:00</th>\n",
       "      <td>0.000</td>\n",
       "      <td>0.000000</td>\n",
       "      <td>True</td>\n",
       "    </tr>\n",
       "    <tr>\n",
       "      <th>2019-12-31 04:00:00</th>\n",
       "      <td>0.000</td>\n",
       "      <td>0.000000</td>\n",
       "      <td>True</td>\n",
       "    </tr>\n",
       "    <tr>\n",
       "      <th>2019-12-31 05:00:00</th>\n",
       "      <td>0.000</td>\n",
       "      <td>0.000000</td>\n",
       "      <td>True</td>\n",
       "    </tr>\n",
       "    <tr>\n",
       "      <th>2019-12-31 06:00:00</th>\n",
       "      <td>0.000</td>\n",
       "      <td>0.000000</td>\n",
       "      <td>True</td>\n",
       "    </tr>\n",
       "    <tr>\n",
       "      <th>2019-12-31 07:00:00</th>\n",
       "      <td>0.000</td>\n",
       "      <td>0.000000</td>\n",
       "      <td>True</td>\n",
       "    </tr>\n",
       "    <tr>\n",
       "      <th>2019-12-31 08:00:00</th>\n",
       "      <td>0.000</td>\n",
       "      <td>0.000000</td>\n",
       "      <td>True</td>\n",
       "    </tr>\n",
       "    <tr>\n",
       "      <th>2019-12-31 09:00:00</th>\n",
       "      <td>0.050</td>\n",
       "      <td>3.646586</td>\n",
       "      <td>True</td>\n",
       "    </tr>\n",
       "    <tr>\n",
       "      <th>2019-12-31 10:00:00</th>\n",
       "      <td>1.084</td>\n",
       "      <td>7.426302</td>\n",
       "      <td>True</td>\n",
       "    </tr>\n",
       "    <tr>\n",
       "      <th>2019-12-31 11:00:00</th>\n",
       "      <td>3.385</td>\n",
       "      <td>9.988813</td>\n",
       "      <td>True</td>\n",
       "    </tr>\n",
       "    <tr>\n",
       "      <th>2019-12-31 12:00:00</th>\n",
       "      <td>5.306</td>\n",
       "      <td>11.237848</td>\n",
       "      <td>True</td>\n",
       "    </tr>\n",
       "    <tr>\n",
       "      <th>2019-12-31 13:00:00</th>\n",
       "      <td>4.532</td>\n",
       "      <td>10.536614</td>\n",
       "      <td>True</td>\n",
       "    </tr>\n",
       "    <tr>\n",
       "      <th>2019-12-31 14:00:00</th>\n",
       "      <td>2.670</td>\n",
       "      <td>7.911958</td>\n",
       "      <td>True</td>\n",
       "    </tr>\n",
       "    <tr>\n",
       "      <th>2019-12-31 15:00:00</th>\n",
       "      <td>0.232</td>\n",
       "      <td>3.927587</td>\n",
       "      <td>True</td>\n",
       "    </tr>\n",
       "    <tr>\n",
       "      <th>2019-12-31 16:00:00</th>\n",
       "      <td>0.000</td>\n",
       "      <td>0.052541</td>\n",
       "      <td>True</td>\n",
       "    </tr>\n",
       "    <tr>\n",
       "      <th>2019-12-31 17:00:00</th>\n",
       "      <td>0.000</td>\n",
       "      <td>0.000000</td>\n",
       "      <td>True</td>\n",
       "    </tr>\n",
       "    <tr>\n",
       "      <th>2019-12-31 18:00:00</th>\n",
       "      <td>0.000</td>\n",
       "      <td>0.000000</td>\n",
       "      <td>True</td>\n",
       "    </tr>\n",
       "    <tr>\n",
       "      <th>2019-12-31 19:00:00</th>\n",
       "      <td>0.000</td>\n",
       "      <td>0.000000</td>\n",
       "      <td>True</td>\n",
       "    </tr>\n",
       "    <tr>\n",
       "      <th>2019-12-31 20:00:00</th>\n",
       "      <td>0.000</td>\n",
       "      <td>0.000000</td>\n",
       "      <td>True</td>\n",
       "    </tr>\n",
       "    <tr>\n",
       "      <th>2019-12-31 21:00:00</th>\n",
       "      <td>0.000</td>\n",
       "      <td>0.000000</td>\n",
       "      <td>True</td>\n",
       "    </tr>\n",
       "    <tr>\n",
       "      <th>2019-12-31 22:00:00</th>\n",
       "      <td>0.000</td>\n",
       "      <td>0.000000</td>\n",
       "      <td>True</td>\n",
       "    </tr>\n",
       "    <tr>\n",
       "      <th>2019-12-31 23:00:00</th>\n",
       "      <td>0.000</td>\n",
       "      <td>0.000000</td>\n",
       "      <td>True</td>\n",
       "    </tr>\n",
       "  </tbody>\n",
       "</table>\n",
       "<p>8759 rows × 3 columns</p>\n",
       "</div>"
      ],
      "text/plain": [
       "                     grid_feedin_kw  prediction  label_machine_working\n",
       "timestamp                                                             \n",
       "2019-01-01 01:00:00             0.0         0.0                   True\n",
       "2019-01-01 02:00:00             0.0         0.0                   True\n",
       "2019-01-01 03:00:00             0.0         0.0                   True\n",
       "2019-01-01 04:00:00             0.0         0.0                   True\n",
       "2019-01-01 05:00:00             0.0         0.0                   True\n",
       "...                             ...         ...                    ...\n",
       "2019-12-31 19:00:00             0.0         0.0                   True\n",
       "2019-12-31 20:00:00             0.0         0.0                   True\n",
       "2019-12-31 21:00:00             0.0         0.0                   True\n",
       "2019-12-31 22:00:00             0.0         0.0                   True\n",
       "2019-12-31 23:00:00             0.0         0.0                   True\n",
       "\n",
       "[8759 rows x 3 columns]"
      ]
     },
     "execution_count": 32,
     "metadata": {},
     "output_type": "execute_result"
    }
   ],
   "source": [
    "df_predict_actual"
   ]
  },
  {
   "cell_type": "code",
   "execution_count": 33,
   "metadata": {
    "cell_id": "96b88977-ea29-409b-bcc9-2b81e11b88f1",
    "tags": []
   },
   "outputs": [
    {
     "name": "stdout",
     "output_type": "stream",
     "text": [
      "True values:  7853\n",
      "False values:  906\n",
      "Ratio:  0.10343646534992579\n"
     ]
    }
   ],
   "source": [
    "print(\"True values: \", len(df_predict_actual.loc[df_predict_actual['label_machine_working'] == True]))\n",
    "print(\"False values: \", len(df_predict_actual.loc[df_predict_actual['label_machine_working'] == False]))\n",
    "print(\"Ratio: \", len(df_predict_actual.loc[df_predict_actual['label_machine_working'] == False]) / len(df_predict_actual))"
   ]
  },
  {
   "cell_type": "code",
   "execution_count": 34,
   "metadata": {
    "cell_id": "5330fd59-6bbb-40ee-8da3-193d0a663dfb",
    "tags": []
   },
   "outputs": [
    {
     "data": {
      "text/plain": [
       "[<matplotlib.lines.Line2D at 0x7f07134bbb00>]"
      ]
     },
     "execution_count": 34,
     "metadata": {},
     "output_type": "execute_result"
    },
    {
     "data": {
      "image/png": "[encoded data removed]",
      "text/plain": [
       "<Figure size 432x288 with 1 Axes>"
      ]
     },
     "metadata": {
      "needs_background": "light"
     },
     "output_type": "display_data"
    }
   ],
   "source": [
    "plt.plot(df_predict_actual[\"grid_feedin_kw\"]\n",
    "    , label=df_predict_actual[\"label_machine_working\"]\n",
    ")"
   ]
  },
  {
   "cell_type": "code",
   "execution_count": null,
   "metadata": {
    "cell_id": "4d852116-ba31-4cb6-a73c-36d7ac55baee",
    "tags": []
   },
   "outputs": [],
   "source": []
  }
 ],
 "metadata": {
  "deepnote_execution_queue": [],
  "deepnote_notebook_id": "685aa485-c35e-4aa9-8198-c56409a8799d",
  "kernelspec": {
   "display_name": "Python 3",
   "language": "python",
   "name": "python3"
  },
  "language_info": {
   "codemirror_mode": {
    "name": "ipython",
    "version": 3
   },
   "file_extension": ".py",
   "mimetype": "text/x-python",
   "name": "python",
   "nbconvert_exporter": "python",
   "pygments_lexer": "ipython3",
   "version": "3.7.6"
  },
  "varInspector": {
   "cols": {
    "lenName": 16,
    "lenType": 16,
    "lenVar": 40
   },
   "kernels_config": {
    "python": {
     "delete_cmd_postfix": "",
     "delete_cmd_prefix": "del ",
     "library": "var_list.py",
     "varRefreshCmd": "print(var_dic_list())"
    },
    "r": {
     "delete_cmd_postfix": ") ",
     "delete_cmd_prefix": "rm(",
     "library": "var_list.r",
     "varRefreshCmd": "cat(var_dic_list()) "
    }
   },
   "types_to_exclude": [
    "module",
    "function",
    "builtin_function_or_method",
    "instance",
    "_Feature"
   ],
   "window_display": false
  }
 },
 "nbformat": 4,
 "nbformat_minor": 2
}
