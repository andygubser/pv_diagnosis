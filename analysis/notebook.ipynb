{
 "cells": [
  {
   "cell_type": "code",
   "metadata": {
    "cell_id": "8f68bfb0-745b-45dd-b48a-cfc6f5cca441"
   },
   "source": "!python --version",
   "outputs": [
    {
     "name": "stdout",
     "output_type": "stream",
     "text": "Python 3.7.3\r\n"
    }
   ]
  },
  {
   "cell_type": "code",
   "metadata": {
    "tags": [],
    "cell_id": "474bec42-b73d-4cc1-9158-f6051eb9ff60"
   },
   "source": "# model_1: estimate \\beta1, hypothesis: \\beta1 is constant\r\n# multiple linear regression\r\n# actual_production_{time, plant} = \\beta0 + \\beta1_{plant}*weather_potential_{time} + ...\r\n#       (A/B/C)                                 (estimate)        (weather)",
   "outputs": []
  },
  {
   "cell_type": "code",
   "metadata": {
    "tags": [],
    "cell_id": "df4ff2df-686f-4755-b1a9-a7add90a8882"
   },
   "source": "",
   "execution_count": null,
   "outputs": []
  },
  {
   "cell_type": "code",
   "metadata": {
    "cell_id": "3dc88cc9-adf4-42fc-a82d-15d8c4da985f"
   },
   "source": "# import packages\r\nimport pandas as pd",
   "outputs": []
  },
  {
   "cell_type": "code",
   "metadata": {
    "tags": [],
    "cell_id": "57e5c255-5fea-4e5d-aaaa-7f3f3d9f7234"
   },
   "source": "# read data power plants\r\ndata_power_plant_a = pd.read_csv(\"./data/data_power_plants/A.csv\")\r\ndata_power_plant_b = pd.read_csv(\"./data/data_power_plants/B.csv\")\r\ndata_power_plant_c = pd.read_csv(\"./data/data_power_plants/C.csv\")",
   "outputs": []
  },
  {
   "cell_type": "code",
   "metadata": {
    "tags": [],
    "cell_id": "cc28ce44-0b7d-4ea6-bcc7-0b8e5027ff94"
   },
   "source": "",
   "execution_count": null,
   "outputs": []
  },
  {
   "cell_type": "code",
   "metadata": {
    "tags": [],
    "cell_id": "fe26f441-3e80-4178-ac6d-f001168e0f89"
   },
   "source": "data_power_plant_a.head()",
   "outputs": [
    {
     "output_type": "execute_result",
     "execution_count": 7,
     "data": {
      "application/vnd.deepnote.dataframe+json": {
       "variableDetails": {
        "dataframe": {
         "0": {
          "timestamp": "2019-01-01 00:00:00",
          "generation_kw": 0,
          "grid_feed-in_kw": 0,
          "grid_supply_kw": 4.212,
          "overall_consumption_calc_kw": 4.212
         },
         "1": {
          "timestamp": "2019-01-01 00:15:00",
          "generation_kw": 0,
          "grid_feed-in_kw": 0,
          "grid_supply_kw": 4.212,
          "overall_consumption_calc_kw": 4.212
         },
         "2": {
          "timestamp": "2019-01-01 00:30:00",
          "generation_kw": 0,
          "grid_feed-in_kw": 0,
          "grid_supply_kw": 4.212,
          "overall_consumption_calc_kw": 4.212
         },
         "3": {
          "timestamp": "2019-01-01 00:45:00",
          "generation_kw": 0,
          "grid_feed-in_kw": 0,
          "grid_supply_kw": 4.22,
          "overall_consumption_calc_kw": 4.22
         },
         "4": {
          "timestamp": "2019-01-01 01:00:00",
          "generation_kw": 0,
          "grid_feed-in_kw": 0,
          "grid_supply_kw": 4.212,
          "overall_consumption_calc_kw": 4.212
         }
        },
        "columns": [
         {
          "name": "timestamp",
          "stats": {
           "count": 5,
           "unique": 5,
           "top": "2019-01-01 00:15:00",
           "freq": 1,
           "nan_count": 0
          }
         },
         {
          "name": "generation_kw",
          "stats": {
           "count": 5,
           "mean": 0,
           "std": 0,
           "min": 0,
           "25%": 0,
           "50%": 0,
           "75%": 0,
           "max": 0,
           "nan_count": 0
          }
         },
         {
          "name": "grid_feed-in_kw",
          "stats": {
           "count": 5,
           "mean": 0,
           "std": 0,
           "min": 0,
           "25%": 0,
           "50%": 0,
           "75%": 0,
           "max": 0,
           "nan_count": 0
          }
         },
         {
          "name": "grid_supply_kw",
          "stats": {
           "count": 5,
           "mean": 4.2136,
           "std": 0.0035777087639996667,
           "min": 4.212,
           "25%": 4.212,
           "50%": 4.212,
           "75%": 4.212,
           "max": 4.22,
           "nan_count": 0
          }
         },
         {
          "name": "overall_consumption_calc_kw",
          "stats": {
           "count": 5,
           "mean": 4.2136,
           "std": 0.0035777087639996667,
           "min": 4.212,
           "25%": 4.212,
           "50%": 4.212,
           "75%": 4.212,
           "max": 4.22,
           "nan_count": 0
          }
         }
        ],
        "frequencyInfo": [
         {
          "frequencyData": [
           {
            "name": "2019-01-01 00:00:00",
            "frequency": 0.2
           },
           {
            "name": "2019-01-01 00:15:00",
            "frequency": 0.2
           },
           {
            "name": "3 others",
            "frequency": 0.6
           }
          ],
          "type": "freq"
         },
         {
          "frequencyData": [
           {
            "x": -0.5,
            "y": 0
           },
           {
            "x": -0.4,
            "y": 0
           },
           {
            "x": -0.3,
            "y": 0
           },
           {
            "x": -0.19999999999999996,
            "y": 0
           },
           {
            "x": -0.09999999999999998,
            "y": 0
           },
           {
            "x": 0,
            "y": 5
           },
           {
            "x": 0.10000000000000009,
            "y": 0
           },
           {
            "x": 0.20000000000000007,
            "y": 0
           },
           {
            "x": 0.30000000000000004,
            "y": 0
           },
           {
            "x": 0.4,
            "y": 0
           }
          ],
          "type": "hist"
         },
         {
          "frequencyData": [
           {
            "x": -0.5,
            "y": 0
           },
           {
            "x": -0.4,
            "y": 0
           },
           {
            "x": -0.3,
            "y": 0
           },
           {
            "x": -0.19999999999999996,
            "y": 0
           },
           {
            "x": -0.09999999999999998,
            "y": 0
           },
           {
            "x": 0,
            "y": 5
           },
           {
            "x": 0.10000000000000009,
            "y": 0
           },
           {
            "x": 0.20000000000000007,
            "y": 0
           },
           {
            "x": 0.30000000000000004,
            "y": 0
           },
           {
            "x": 0.4,
            "y": 0
           }
          ],
          "type": "hist"
         },
         {
          "frequencyData": [
           {
            "x": 4.212,
            "y": 4
           },
           {
            "x": 4.2128,
            "y": 0
           },
           {
            "x": 4.2136,
            "y": 0
           },
           {
            "x": 4.2143999999999995,
            "y": 0
           },
           {
            "x": 4.215199999999999,
            "y": 0
           },
           {
            "x": 4.215999999999999,
            "y": 0
           },
           {
            "x": 4.2168,
            "y": 0
           },
           {
            "x": 4.2176,
            "y": 0
           },
           {
            "x": 4.2184,
            "y": 0
           },
           {
            "x": 4.2192,
            "y": 1
           }
          ],
          "type": "hist"
         },
         {
          "frequencyData": [
           {
            "x": 4.212,
            "y": 4
           },
           {
            "x": 4.2128,
            "y": 0
           },
           {
            "x": 4.2136,
            "y": 0
           },
           {
            "x": 4.2143999999999995,
            "y": 0
           },
           {
            "x": 4.215199999999999,
            "y": 0
           },
           {
            "x": 4.215999999999999,
            "y": 0
           },
           {
            "x": 4.2168,
            "y": 0
           },
           {
            "x": 4.2176,
            "y": 0
           },
           {
            "x": 4.2184,
            "y": 0
           },
           {
            "x": 4.2192,
            "y": 1
           }
          ],
          "type": "hist"
         }
        ]
       },
       "numElements": 5,
       "numColumns": 5
      },
      "text/plain": "             timestamp  generation_kw  grid_feed-in_kw  grid_supply_kw  \\\n0  2019-01-01 00:00:00            0.0              0.0           4.212   \n1  2019-01-01 00:15:00            0.0              0.0           4.212   \n2  2019-01-01 00:30:00            0.0              0.0           4.212   \n3  2019-01-01 00:45:00            0.0              0.0           4.220   \n4  2019-01-01 01:00:00            0.0              0.0           4.212   \n\n   overall_consumption_calc_kw  \n0                        4.212  \n1                        4.212  \n2                        4.212  \n3                        4.220  \n4                        4.212  ",
      "text/html": "<div>\n<style scoped>\n    .dataframe tbody tr th:only-of-type {\n        vertical-align: middle;\n    }\n\n    .dataframe tbody tr th {\n        vertical-align: top;\n    }\n\n    .dataframe thead th {\n        text-align: right;\n    }\n</style>\n<table border=\"1\" class=\"dataframe\">\n  <thead>\n    <tr style=\"text-align: right;\">\n      <th></th>\n      <th>timestamp</th>\n      <th>generation_kw</th>\n      <th>grid_feed-in_kw</th>\n      <th>grid_supply_kw</th>\n      <th>overall_consumption_calc_kw</th>\n    </tr>\n  </thead>\n  <tbody>\n    <tr>\n      <th>0</th>\n      <td>2019-01-01 00:00:00</td>\n      <td>0.0</td>\n      <td>0.0</td>\n      <td>4.212</td>\n      <td>4.212</td>\n    </tr>\n    <tr>\n      <th>1</th>\n      <td>2019-01-01 00:15:00</td>\n      <td>0.0</td>\n      <td>0.0</td>\n      <td>4.212</td>\n      <td>4.212</td>\n    </tr>\n    <tr>\n      <th>2</th>\n      <td>2019-01-01 00:30:00</td>\n      <td>0.0</td>\n      <td>0.0</td>\n      <td>4.212</td>\n      <td>4.212</td>\n    </tr>\n    <tr>\n      <th>3</th>\n      <td>2019-01-01 00:45:00</td>\n      <td>0.0</td>\n      <td>0.0</td>\n      <td>4.220</td>\n      <td>4.220</td>\n    </tr>\n    <tr>\n      <th>4</th>\n      <td>2019-01-01 01:00:00</td>\n      <td>0.0</td>\n      <td>0.0</td>\n      <td>4.212</td>\n      <td>4.212</td>\n    </tr>\n  </tbody>\n</table>\n</div>"
     },
     "metadata": {}
    }
   ]
  },
  {
   "cell_type": "code",
   "metadata": {
    "tags": [],
    "cell_id": "513bb84e-2538-48b3-ba89-3f023783f926"
   },
   "source": "data_power_plant_a.columns = data_power_plant_a.columns.str.lower()",
   "outputs": []
  },
  {
   "cell_type": "code",
   "metadata": {
    "tags": [],
    "cell_id": "200177f7-bf78-4350-a15c-61526d932970"
   },
   "source": "data_power_plant_a[\"timestamp\"] = pd.to_datetime(data_power_plant_a[\"timestamp\"])",
   "outputs": []
  },
  {
   "cell_type": "code",
   "metadata": {
    "tags": [],
    "cell_id": "9c0af162-a85a-47b0-ba03-47aa51eb1df3"
   },
   "source": "data_power_plant_a.set_index([\"timestamp\"], inplace=True)",
   "outputs": []
  },
  {
   "cell_type": "code",
   "metadata": {
    "tags": [],
    "cell_id": "958579f8-c7c0-49c8-940a-65125b6401f5"
   },
   "source": "data_power_plant_a.plot()",
   "outputs": []
  },
  {
   "cell_type": "code",
   "metadata": {
    "tags": [],
    "cell_id": "0784a91c-1635-4cd2-9b66-1d781bd8566c"
   },
   "source": "# Linear Regression\r\n# control = wochetag, woche",
   "execution_count": null,
   "outputs": []
  }
 ],
 "nbformat": 4,
 "nbformat_minor": 2,
 "metadata": {
  "kernelspec": {
   "name": "pycharm-40c49416",
   "language": "python",
   "display_name": "PyCharm (pv_diagnosis)"
  },
  "language_info": {
   "codemirror_mode": {
    "name": "ipython",
    "version": 3
   },
   "file_extension": ".py",
   "mimetype": "text/x-python",
   "name": "python",
   "nbconvert_exporter": "python",
   "pygments_lexer": "ipython3",
   "version": "3.6.3"
  },
  "deepnote_execution_queue": [],
  "deepnote_notebook_id": "04a9ad59-d37a-4000-87d5-409558af9a6c"
 }
}