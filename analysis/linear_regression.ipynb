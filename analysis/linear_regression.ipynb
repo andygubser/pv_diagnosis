{
 "cells": [
  {
   "cell_type": "markdown",
   "metadata": {},
   "source": [
    "# PV Diagnosis\n",
    "\n",
    "In case of large-scale renewable energy plants, production output is regularly reviewed to ensure ROI. This is different for small plants. By comparing predicted production based on past meteorological data with actual production of a PV power plant, we estimate plant's condition and predict next required maintenance. The analysis detects performance losses and, therby, enhances economic profits. This challenge was part of the Energy Hackdays 2019 (https://hack.opendata.ch/project/284).\n",
    "\n",
    "\n",
    "## Model\n",
    "\n",
    "$q_{t,p} = \\alpha_0 + \\alpha_1 \\times \\hat{q}_{t,p}(\\omega_{t-1}) + \\epsilon_{t,p}$,\n",
    "where $q_{t,p}$ is actual production, $\\hat{q}_{t,p}$ estimated potential production based on past weather parameters $\\omega_{t-1}$. \n",
    "\n",
    "## Approach\n",
    "1. Estimate potential production based on past weather parameters $\\hat{q}_{t,p}(\\omega_{t-1})$\n",
    "2. Compare this estimation with actual production $q_{t,p}$\n"
   ]
  },
  {
   "cell_type": "code",
   "execution_count": 1,
   "metadata": {},
   "outputs": [],
   "source": [
    "import pandas as pd\n",
    "import matplotlib.pyplot as plt\n",
    "import seaborn as sns\n",
    "import sys,os\n",
    "sys.path.append(os.getcwd())\n",
    "os.chdir(\"..\")\n",
    "from preprocessors.paths import (PATH_TO_PLANT_A,\n",
    "                                 PATH_TO_PLANT_B,\n",
    "                                 PATH_TO_PLANT_C,\n",
    "                                 PATH_TO_WEATHER)\n",
    "from preprocessors.plant_preprocessor import PlantPreprocessor\n",
    "from preprocessors.weather_preprocessor import WeatherPreprocessor"
   ]
  },
  {
   "cell_type": "code",
   "execution_count": 2,
   "metadata": {},
   "outputs": [],
   "source": [
    "data_plant_a = PlantPreprocessor(PATH_TO_PLANT_A).df_indexed_utc\n",
    "data_plant_b = PlantPreprocessor(PATH_TO_PLANT_B).df_indexed_utc\n",
    "data_plant_c = PlantPreprocessor(PATH_TO_PLANT_C).df_indexed_utc\n",
    "data_weather = WeatherPreprocessor(PATH_TO_WEATHER).df_indexed_utc"
   ]
  },
  {
   "cell_type": "markdown",
   "metadata": {},
   "source": [
    "## Weather Prediction"
   ]
  },
  {
   "cell_type": "code",
   "execution_count": 4,
   "metadata": {},
   "outputs": [],
   "source": [
    "data_weather = WeatherPreprocessor(PATH_TO_WEATHER).df_indexed_utc"
   ]
  },
  {
   "cell_type": "code",
   "execution_count": 15,
   "metadata": {},
   "outputs": [
    {
     "data": {
      "text/plain": [
       "Index(['temperature', 'precipitation', 'snowfall', 'snow_mass', 'air_density',\n",
       "       'radiation_surface', 'radiation_toa', 'cloud_cover'],\n",
       "      dtype='object')"
      ]
     },
     "execution_count": 15,
     "metadata": {},
     "output_type": "execute_result"
    }
   ],
   "source": [
    "data_weather.columns"
   ]
  },
  {
   "cell_type": "code",
   "execution_count": null,
   "metadata": {},
   "outputs": [],
   "source": [
    "data_weather"
   ]
  },
  {
   "cell_type": "code",
   "execution_count": null,
   "outputs": [],
   "source": [],
   "metadata": {
    "collapsed": false,
    "pycharm": {
     "name": "#%%\n"
    }
   }
  },
  {
   "cell_type": "code",
   "execution_count": null,
   "metadata": {},
   "outputs": [],
   "source": [
    "data_weather.corr()"
   ]
  },
  {
   "cell_type": "code",
   "execution_count": 6,
   "metadata": {},
   "outputs": [
    {
     "data": {
      "text/html": [
       "<div>\n",
       "<style scoped>\n",
       "    .dataframe tbody tr th:only-of-type {\n",
       "        vertical-align: middle;\n",
       "    }\n",
       "\n",
       "    .dataframe tbody tr th {\n",
       "        vertical-align: top;\n",
       "    }\n",
       "\n",
       "    .dataframe thead th {\n",
       "        text-align: right;\n",
       "    }\n",
       "</style>\n",
       "<table border=\"1\" class=\"dataframe\">\n",
       "  <thead>\n",
       "    <tr style=\"text-align: right;\">\n",
       "      <th></th>\n",
       "      <th>temperature</th>\n",
       "      <th>precipitation</th>\n",
       "      <th>snowfall</th>\n",
       "      <th>snow_mass</th>\n",
       "      <th>air_density</th>\n",
       "      <th>radiation_surface</th>\n",
       "      <th>radiation_toa</th>\n",
       "      <th>cloud_cover</th>\n",
       "    </tr>\n",
       "  </thead>\n",
       "  <tbody>\n",
       "    <tr>\n",
       "      <th>temperature</th>\n",
       "      <td>1.000000</td>\n",
       "      <td>-0.000032</td>\n",
       "      <td>-0.173525</td>\n",
       "      <td>-0.427476</td>\n",
       "      <td>-0.935376</td>\n",
       "      <td>0.496233</td>\n",
       "      <td>0.508817</td>\n",
       "      <td>-0.019017</td>\n",
       "    </tr>\n",
       "    <tr>\n",
       "      <th>precipitation</th>\n",
       "      <td>-0.000032</td>\n",
       "      <td>1.000000</td>\n",
       "      <td>0.753606</td>\n",
       "      <td>0.077378</td>\n",
       "      <td>-0.061323</td>\n",
       "      <td>-0.120853</td>\n",
       "      <td>-0.007069</td>\n",
       "      <td>0.354028</td>\n",
       "    </tr>\n",
       "    <tr>\n",
       "      <th>snowfall</th>\n",
       "      <td>-0.173525</td>\n",
       "      <td>0.753606</td>\n",
       "      <td>1.000000</td>\n",
       "      <td>0.196328</td>\n",
       "      <td>0.104089</td>\n",
       "      <td>-0.121158</td>\n",
       "      <td>-0.084956</td>\n",
       "      <td>0.247108</td>\n",
       "    </tr>\n",
       "    <tr>\n",
       "      <th>snow_mass</th>\n",
       "      <td>-0.427476</td>\n",
       "      <td>0.077378</td>\n",
       "      <td>0.196328</td>\n",
       "      <td>1.000000</td>\n",
       "      <td>0.380752</td>\n",
       "      <td>-0.190987</td>\n",
       "      <td>-0.200858</td>\n",
       "      <td>0.022189</td>\n",
       "    </tr>\n",
       "    <tr>\n",
       "      <th>air_density</th>\n",
       "      <td>-0.935376</td>\n",
       "      <td>-0.061323</td>\n",
       "      <td>0.104089</td>\n",
       "      <td>0.380752</td>\n",
       "      <td>1.000000</td>\n",
       "      <td>-0.338969</td>\n",
       "      <td>-0.366189</td>\n",
       "      <td>-0.024040</td>\n",
       "    </tr>\n",
       "    <tr>\n",
       "      <th>radiation_surface</th>\n",
       "      <td>0.496233</td>\n",
       "      <td>-0.120853</td>\n",
       "      <td>-0.121158</td>\n",
       "      <td>-0.190987</td>\n",
       "      <td>-0.338969</td>\n",
       "      <td>1.000000</td>\n",
       "      <td>0.934172</td>\n",
       "      <td>-0.199236</td>\n",
       "    </tr>\n",
       "    <tr>\n",
       "      <th>radiation_toa</th>\n",
       "      <td>0.508817</td>\n",
       "      <td>-0.007069</td>\n",
       "      <td>-0.084956</td>\n",
       "      <td>-0.200858</td>\n",
       "      <td>-0.366189</td>\n",
       "      <td>0.934172</td>\n",
       "      <td>1.000000</td>\n",
       "      <td>-0.039507</td>\n",
       "    </tr>\n",
       "    <tr>\n",
       "      <th>cloud_cover</th>\n",
       "      <td>-0.019017</td>\n",
       "      <td>0.354028</td>\n",
       "      <td>0.247108</td>\n",
       "      <td>0.022189</td>\n",
       "      <td>-0.024040</td>\n",
       "      <td>-0.199236</td>\n",
       "      <td>-0.039507</td>\n",
       "      <td>1.000000</td>\n",
       "    </tr>\n",
       "  </tbody>\n",
       "</table>\n",
       "</div>"
      ],
      "text/plain": [
       "                   temperature  precipitation  snowfall  snow_mass  \\\n",
       "temperature           1.000000      -0.000032 -0.173525  -0.427476   \n",
       "precipitation        -0.000032       1.000000  0.753606   0.077378   \n",
       "snowfall             -0.173525       0.753606  1.000000   0.196328   \n",
       "snow_mass            -0.427476       0.077378  0.196328   1.000000   \n",
       "air_density          -0.935376      -0.061323  0.104089   0.380752   \n",
       "radiation_surface     0.496233      -0.120853 -0.121158  -0.190987   \n",
       "radiation_toa         0.508817      -0.007069 -0.084956  -0.200858   \n",
       "cloud_cover          -0.019017       0.354028  0.247108   0.022189   \n",
       "\n",
       "                   air_density  radiation_surface  radiation_toa  cloud_cover  \n",
       "temperature          -0.935376           0.496233       0.508817    -0.019017  \n",
       "precipitation        -0.061323          -0.120853      -0.007069     0.354028  \n",
       "snowfall              0.104089          -0.121158      -0.084956     0.247108  \n",
       "snow_mass             0.380752          -0.190987      -0.200858     0.022189  \n",
       "air_density           1.000000          -0.338969      -0.366189    -0.024040  \n",
       "radiation_surface    -0.338969           1.000000       0.934172    -0.199236  \n",
       "radiation_toa        -0.366189           0.934172       1.000000    -0.039507  \n",
       "cloud_cover          -0.024040          -0.199236      -0.039507     1.000000  "
      ]
     },
     "execution_count": 6,
     "metadata": {},
     "output_type": "execute_result"
    }
   ],
   "source": [
    "data_weather.corr()"
   ]
  },
  {
   "cell_type": "code",
   "execution_count": null,
   "metadata": {},
   "outputs": [],
   "source": []
  }
 ],
 "metadata": {
  "kernelspec": {
   "display_name": "Python 3",
   "language": "python",
   "name": "python3"
  },
  "language_info": {
   "codemirror_mode": {
    "name": "ipython",
    "version": 3
   },
   "file_extension": ".py",
   "mimetype": "text/x-python",
   "name": "python",
   "nbconvert_exporter": "python",
   "pygments_lexer": "ipython3",
   "version": "3.7.6"
  }
 },
 "nbformat": 4,
 "nbformat_minor": 1
}