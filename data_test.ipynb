{
 "cells": [
  {
   "cell_type": "markdown",
   "metadata": {},
   "source": [
    "# Data Health Check\n",
    "\n",
    "Check if data behaves as we expect"
   ]
  },
  {
   "cell_type": "code",
   "execution_count": 1,
   "metadata": {},
   "outputs": [],
   "source": [
    "import altair as alt\n",
    "from preprocessors.paths import (PATH_TO_PLANT_A,\n",
    "                                 PATH_TO_PLANT_B,\n",
    "                                 PATH_TO_PLANT_C,\n",
    "                                 PATH_TO_WEATHER)\n",
    "from preprocessors.plant_preprocessor import PlantPreprocessor\n",
    "from preprocessors.weather_preprocessor import WeatherPreprocessor"
   ]
  },
  {
   "cell_type": "code",
   "execution_count": 2,
   "metadata": {},
   "outputs": [],
   "source": [
    "power_plant_a = PlantPreprocessor(PATH_TO_PLANT_A)\n",
    "power_plant_b = PlantPreprocessor(PATH_TO_PLANT_B)\n",
    "power_plant_c = PlantPreprocessor(PATH_TO_PLANT_C)\n",
    "weather = WeatherPreprocessor(PATH_TO_WEATHER)"
   ]
  },
  {
   "cell_type": "code",
   "execution_count": 3,
   "metadata": {},
   "outputs": [
    {
     "name": "stdout",
     "output_type": "stream",
     "text": [
      "power_plant_a columns:\n",
      "['generation_kw', 'grid_feedin_kw', 'grid_supply_kw', 'overall_consumption_calc_kw']\n",
      "power_plant_b columns:\n",
      "['generation_kw', 'grid_feedin_kw', 'grid_supply_kw', 'overall_consumption_calc_kw']\n",
      "power_plant_c columns:\n",
      "['grid_feedin_kw', 'grid_supply_kw']\n",
      "weather columns:\n",
      "['temperature', 'precipitation', 'snowfall', 'snow_mass', 'air_density', 'radiation_surface', 'radiation_toa', 'cloud_cover']\n"
     ]
    }
   ],
   "source": [
    "print('power_plant_a columns:', list(power_plant_a.df_indexed_utc.columns),\n",
    "      'power_plant_b columns:', list(power_plant_b.df_indexed_utc.columns),\n",
    "      'power_plant_c columns:', list(power_plant_c.df_indexed_utc.columns),\n",
    "      'weather columns:', list(weather.df_indexed_utc.columns), \n",
    "      sep='\\n')"
   ]
  },
  {
   "cell_type": "code",
   "execution_count": 6,
   "metadata": {},
   "outputs": [
    {
     "name": "stdout",
     "output_type": "stream",
     "text": [
      "power_plant_a timestamp_utc:\n",
      "DatetimeIndex(['2018-12-31 23:00:00+00:00', '2019-01-01 00:00:00+00:00',\n",
      "               '2019-01-01 01:00:00+00:00', '2019-01-01 02:00:00+00:00',\n",
      "               '2019-01-01 03:00:00+00:00', '2019-01-01 04:00:00+00:00',\n",
      "               '2019-01-01 05:00:00+00:00', '2019-01-01 06:00:00+00:00',\n",
      "               '2019-01-01 07:00:00+00:00', '2019-01-01 08:00:00+00:00',\n",
      "               ...\n",
      "               '2019-12-31 13:00:00+00:00', '2019-12-31 14:00:00+00:00',\n",
      "               '2019-12-31 15:00:00+00:00', '2019-12-31 16:00:00+00:00',\n",
      "               '2019-12-31 17:00:00+00:00', '2019-12-31 18:00:00+00:00',\n",
      "               '2019-12-31 19:00:00+00:00', '2019-12-31 20:00:00+00:00',\n",
      "               '2019-12-31 21:00:00+00:00', '2019-12-31 22:00:00+00:00'],\n",
      "              dtype='datetime64[ns, UTC]', name='timestamp_utc', length=8760, freq=None)\n",
      "power_plant_b timestamp_utc:\n",
      "DatetimeIndex(['2018-12-31 23:00:00+00:00', '2019-01-01 00:00:00+00:00',\n",
      "               '2019-01-01 01:00:00+00:00', '2019-01-01 02:00:00+00:00',\n",
      "               '2019-01-01 03:00:00+00:00', '2019-01-01 04:00:00+00:00',\n",
      "               '2019-01-01 05:00:00+00:00', '2019-01-01 06:00:00+00:00',\n",
      "               '2019-01-01 07:00:00+00:00', '2019-01-01 08:00:00+00:00',\n",
      "               ...\n",
      "               '2019-12-31 13:00:00+00:00', '2019-12-31 14:00:00+00:00',\n",
      "               '2019-12-31 15:00:00+00:00', '2019-12-31 16:00:00+00:00',\n",
      "               '2019-12-31 17:00:00+00:00', '2019-12-31 18:00:00+00:00',\n",
      "               '2019-12-31 19:00:00+00:00', '2019-12-31 20:00:00+00:00',\n",
      "               '2019-12-31 21:00:00+00:00', '2019-12-31 22:00:00+00:00'],\n",
      "              dtype='datetime64[ns, UTC]', name='timestamp_utc', length=8760, freq=None)\n",
      "power_plant_c timestamp_utc:\n",
      "DatetimeIndex(['2018-12-31 23:00:00+00:00', '2019-01-01 00:00:00+00:00',\n",
      "               '2019-01-01 01:00:00+00:00', '2019-01-01 02:00:00+00:00',\n",
      "               '2019-01-01 03:00:00+00:00', '2019-01-01 04:00:00+00:00',\n",
      "               '2019-01-01 05:00:00+00:00', '2019-01-01 06:00:00+00:00',\n",
      "               '2019-01-01 07:00:00+00:00', '2019-01-01 08:00:00+00:00',\n",
      "               ...\n",
      "               '2019-12-31 13:00:00+00:00', '2019-12-31 14:00:00+00:00',\n",
      "               '2019-12-31 15:00:00+00:00', '2019-12-31 16:00:00+00:00',\n",
      "               '2019-12-31 17:00:00+00:00', '2019-12-31 18:00:00+00:00',\n",
      "               '2019-12-31 19:00:00+00:00', '2019-12-31 20:00:00+00:00',\n",
      "               '2019-12-31 21:00:00+00:00', '2019-12-31 22:00:00+00:00'],\n",
      "              dtype='datetime64[ns, UTC]', name='timestamp_utc', length=8760, freq=None)\n",
      "weather timestamp_utc:\n",
      "DatetimeIndex(['2019-01-01 00:00:00+00:00', '2019-01-01 01:00:00+00:00',\n",
      "               '2019-01-01 02:00:00+00:00', '2019-01-01 03:00:00+00:00',\n",
      "               '2019-01-01 04:00:00+00:00', '2019-01-01 05:00:00+00:00',\n",
      "               '2019-01-01 06:00:00+00:00', '2019-01-01 07:00:00+00:00',\n",
      "               '2019-01-01 08:00:00+00:00', '2019-01-01 09:00:00+00:00',\n",
      "               ...\n",
      "               '2019-12-31 14:00:00+00:00', '2019-12-31 15:00:00+00:00',\n",
      "               '2019-12-31 16:00:00+00:00', '2019-12-31 17:00:00+00:00',\n",
      "               '2019-12-31 18:00:00+00:00', '2019-12-31 19:00:00+00:00',\n",
      "               '2019-12-31 20:00:00+00:00', '2019-12-31 21:00:00+00:00',\n",
      "               '2019-12-31 22:00:00+00:00', '2019-12-31 23:00:00+00:00'],\n",
      "              dtype='datetime64[ns, UTC]', name='timestamp_utc', length=8760, freq=None)\n"
     ]
    }
   ],
   "source": [
    "print('power_plant_a timestamp_utc:', power_plant_a.df_indexed_utc.index,\n",
    "      'power_plant_b timestamp_utc:', power_plant_b.df_indexed_utc.index,\n",
    "      'power_plant_c timestamp_utc:', power_plant_c.df_indexed_utc.index,\n",
    "      'weather timestamp_utc:', weather.df_indexed_utc.index, \n",
    "      sep='\\n')"
   ]
  },
  {
   "cell_type": "code",
   "execution_count": 10,
   "metadata": {
    "scrolled": true
   },
   "outputs": [
    {
     "name": "stdout",
     "output_type": "stream",
     "text": [
      "power_plant_a NA count:\n",
      "\n",
      "generation_kw                  0\n",
      "grid_feedin_kw                 0\n",
      "grid_supply_kw                 0\n",
      "overall_consumption_calc_kw    0\n",
      "dtype: int64\n",
      "\n",
      "power_plant_b NA count:\n",
      "\n",
      "generation_kw                  0\n",
      "grid_feedin_kw                 0\n",
      "grid_supply_kw                 0\n",
      "overall_consumption_calc_kw    0\n",
      "dtype: int64\n",
      "\n",
      "power_plant_c NA count:\n",
      "\n",
      "grid_feedin_kw    0\n",
      "grid_supply_kw    0\n",
      "dtype: int64\n",
      "\n",
      "weather NA count:\n",
      "\n",
      "temperature          0\n",
      "precipitation        0\n",
      "snowfall             0\n",
      "snow_mass            0\n",
      "air_density          0\n",
      "radiation_surface    0\n",
      "radiation_toa        0\n",
      "cloud_cover          0\n",
      "dtype: int64\n"
     ]
    }
   ],
   "source": [
    "print('power_plant_a NA count:', power_plant_a.df_indexed_utc.isna().sum(),\n",
    "      'power_plant_b NA count:', power_plant_b.df_indexed_utc.isna().sum(),\n",
    "      'power_plant_c NA count:', power_plant_c.df_indexed_utc.isna().sum(),\n",
    "      'weather NA count:', weather.df_indexed_utc.isna().sum(), \n",
    "      sep='\\n\\n')"
   ]
  }
 ],
 "metadata": {
  "kernelspec": {
   "display_name": "Python 3.8.2 64-bit",
   "language": "python",
   "name": "python38264bit553b3daa03664e61a4a99a6f1ee525ed"
  },
  "language_info": {
   "codemirror_mode": {
    "name": "ipython",
    "version": 3
   },
   "file_extension": ".py",
   "mimetype": "text/x-python",
   "name": "python",
   "nbconvert_exporter": "python",
   "pygments_lexer": "ipython3",
   "version": "3.8.2"
  }
 },
 "nbformat": 4,
 "nbformat_minor": 2
}
