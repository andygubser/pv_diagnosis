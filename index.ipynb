{
 "cells": [
  {
   "cell_type": "markdown",
   "metadata": {},
   "source": [
    "# Photovoltaic Predictive Maintenance Analysis\n",
    "\n",
    "[pv_analysis_presentation.ipynb](./analysis/pv_analysis_presentation.ipynb) contains our main findings. The ground-level solar irradiance (sun shine below clouds) is the main predictor for the photovoltaic plant's energy generation and thus plays a major role for  predictive maintaince.\n",
    "\n",
    "In addition, [plots.ipynb](./analysis/plots.ipynb) shows a heat map comparison of the ground-level solar irradiance and the energy generation side-by-side over the whole year."
   ]
  },
  {
   "cell_type": "markdown",
   "metadata": {},
   "source": []
  }
 ],
 "metadata": {
  "language_info": {
   "codemirror_mode": {
    "name": "ipython",
    "version": 3
   },
   "file_extension": ".py",
   "mimetype": "text/x-python",
   "name": "python",
   "nbconvert_exporter": "python",
   "pygments_lexer": "ipython3",
   "version": 3
  },
  "orig_nbformat": 2
 },
 "nbformat": 4,
 "nbformat_minor": 2
}
